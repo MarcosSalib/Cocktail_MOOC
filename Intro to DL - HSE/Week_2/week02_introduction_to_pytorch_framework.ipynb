{
 "cells": [
  {
   "cell_type": "markdown",
   "metadata": {
    "id": "lMsTSllcVqpO"
   },
   "source": [
    "# Introduction to PyTorch"
   ]
  },
  {
   "cell_type": "markdown",
   "metadata": {
    "id": "Z2DPdfa4VqpW"
   },
   "source": [
    "## How to create tensors?"
   ]
  },
  {
   "cell_type": "markdown",
   "metadata": {
    "id": "NdF8dP8_VqpW"
   },
   "source": [
    "    All of deep learning is computations on tensors, which are generalizations of a matrices that can be indexed in more than 2 dimensions.\n",
    "    So, let's look at how to create tensors, and some operations on them."
   ]
  },
  {
   "cell_type": "code",
   "execution_count": 1,
   "metadata": {
    "colab": {
     "base_uri": "https://localhost:8080/"
    },
    "id": "fXxzhyYhVqpX",
    "outputId": "724ac0a6-15da-4cfc-ba72-b6ba1e81e092"
   },
   "outputs": [
    {
     "name": "stdout",
     "output_type": "stream",
     "text": [
      "Populating the interactive namespace from numpy and matplotlib\n",
      "1.8.1+cu102\n",
      "Requirement already satisfied: torchviz in /home/x/anaconda3/envs/rl/lib/python3.7/site-packages (0.0.2)\n",
      "Requirement already satisfied: torch in /home/x/anaconda3/envs/rl/lib/python3.7/site-packages (from torchviz) (1.8.1)\n",
      "Requirement already satisfied: graphviz in /home/x/anaconda3/envs/rl/lib/python3.7/site-packages (from torchviz) (0.16)\n",
      "Requirement already satisfied: numpy in /home/x/anaconda3/envs/rl/lib/python3.7/site-packages (from torch->torchviz) (1.19.5)\n",
      "Requirement already satisfied: typing-extensions in /home/x/anaconda3/envs/rl/lib/python3.7/site-packages (from torch->torchviz) (3.7.4.3)\n"
     ]
    }
   ],
   "source": [
    "%pylab inline\n",
    "\n",
    "import torch\n",
    "\n",
    "print(torch.__version__)\n",
    "\n",
    "! pip install torchviz\n",
    "import torchviz"
   ]
  },
  {
   "cell_type": "markdown",
   "metadata": {
    "id": "0hp2OG73VqpY"
   },
   "source": [
    "    The main way to create a tensor is to initialise it from an existing list or `numpy.ndarray`"
   ]
  },
  {
   "cell_type": "code",
   "execution_count": 2,
   "metadata": {
    "colab": {
     "base_uri": "https://localhost:8080/"
    },
    "id": "y-6jc32CVqpZ",
    "outputId": "283ea3d8-19bb-46f8-97ad-0dccc1a88ce1"
   },
   "outputs": [
    {
     "name": "stdout",
     "output_type": "stream",
     "text": [
      "tensor([1, 2, 3, 4, 5])\n",
      "tensor([1, 2, 3, 4, 5])\n"
     ]
    }
   ],
   "source": [
    "l = [1, 2, 3, 4, 5]\n",
    "l_tensor = torch.tensor(l)\n",
    "print(l_tensor)\n",
    "\n",
    "l_numpy = np.array(l)\n",
    "l_tensor = torch.from_numpy(l_numpy)\n",
    "print(l_tensor)"
   ]
  },
  {
   "cell_type": "markdown",
   "metadata": {
    "id": "IHXTmWO3Vqpa"
   },
   "source": [
    "     But in real life you usually create tensors you need directly in `pytorch` without any extra memory allocation.\n",
    "     There are so many ways to do this and let's look at some of them"
   ]
  },
  {
   "cell_type": "code",
   "execution_count": 3,
   "metadata": {
    "colab": {
     "base_uri": "https://localhost:8080/"
    },
    "id": "7gst9mSDVqpa",
    "outputId": "122c2869-76e3-4523-d62f-e11d4671451f"
   },
   "outputs": [
    {
     "data": {
      "text/plain": [
       "tensor([0, 1, 2, 3, 4, 5, 6, 7, 8, 9])"
      ]
     },
     "execution_count": 3,
     "metadata": {},
     "output_type": "execute_result"
    }
   ],
   "source": [
    "x = torch.arange(10)\n",
    "x"
   ]
  },
  {
   "cell_type": "code",
   "execution_count": 4,
   "metadata": {
    "colab": {
     "base_uri": "https://localhost:8080/"
    },
    "id": "e4ZVN263Mxpr",
    "outputId": "d345757e-a880-4ff6-c96f-587841acc165"
   },
   "outputs": [
    {
     "data": {
      "text/plain": [
       "array([0, 1, 2, 3, 4, 5, 6, 7, 8, 9])"
      ]
     },
     "execution_count": 4,
     "metadata": {},
     "output_type": "execute_result"
    }
   ],
   "source": [
    "# just like in numpy\n",
    "np.arange(10)"
   ]
  },
  {
   "cell_type": "markdown",
   "metadata": {
    "id": "j2IbtfdOVqpc"
   },
   "source": [
    "    We can see the type of elements in the tensor, its size, the number of dimensions in it and much more"
   ]
  },
  {
   "cell_type": "code",
   "execution_count": 5,
   "metadata": {
    "colab": {
     "base_uri": "https://localhost:8080/"
    },
    "id": "Ct6B9eZiVqpc",
    "outputId": "37915245-f6fd-4631-bce2-c96b32871d85"
   },
   "outputs": [
    {
     "name": "stdout",
     "output_type": "stream",
     "text": [
      "type of elements: torch.int64\n",
      "size (or shape) : torch.Size([10])\n",
      "number of dim: 1\n"
     ]
    }
   ],
   "source": [
    "print(f\"type of elements: {x.dtype}\")\n",
    "print(f\"size (or shape) : {x.size()}\")\n",
    "print(f\"number of dim: {x.dim()}\")"
   ]
  },
  {
   "cell_type": "markdown",
   "metadata": {
    "id": "EvV8qHdCVqpd"
   },
   "source": [
    "    Apart from `torch.arange` we can create a tensor of all zeros, ones or just random from some distribution"
   ]
  },
  {
   "cell_type": "code",
   "execution_count": 6,
   "metadata": {
    "id": "NjNwUx82Vqpd"
   },
   "outputs": [],
   "source": [
    "# Set the desired tensor size (or shape)\n",
    "desired_shape = (1, 5, 10)\n",
    "\n",
    "ones_tensor = torch.ones(desired_shape)\n",
    "zeros_tensor = torch.zeros(desired_shape)\n",
    "\n",
    "# each element of the tensor is sampled from a normal standard distribution\n",
    "random_tensor = torch.randn(desired_shape)"
   ]
  },
  {
   "cell_type": "code",
   "execution_count": 7,
   "metadata": {
    "colab": {
     "base_uri": "https://localhost:8080/"
    },
    "id": "a81Y1xmeVqpf",
    "outputId": "9d3ab65a-17bc-41cc-8f56-690d6fd4b3b1"
   },
   "outputs": [
    {
     "name": "stdout",
     "output_type": "stream",
     "text": [
      "tensor([[[ 0.7918, -0.3544,  1.3947,  0.8662,  0.4804,  0.1825, -0.2063,\n",
      "          -1.5508, -0.0953,  0.1224],\n",
      "         [ 0.5218, -0.2285,  0.8269,  0.9473, -0.2829, -0.0365, -1.5135,\n",
      "          -0.1648, -1.2947,  0.3278],\n",
      "         [ 0.6586,  0.0717, -0.7745,  1.0263,  0.0314, -0.3809,  0.5548,\n",
      "           1.7934, -0.5093, -2.0746],\n",
      "         [ 0.8112, -0.4819, -0.5855, -1.5570,  0.9903,  0.4833, -0.0497,\n",
      "           1.1941, -0.0960, -0.5633],\n",
      "         [-0.0759,  1.5957,  0.6141, -0.8500, -0.1095, -1.2323, -0.4597,\n",
      "           0.4308,  0.3799, -1.0927]]])\n",
      "torch.Size([1, 5, 10])\n"
     ]
    }
   ],
   "source": [
    "print(random_tensor)\n",
    "print(random_tensor.shape)"
   ]
  },
  {
   "cell_type": "markdown",
   "metadata": {
    "id": "wvuW6DcFVqpg"
   },
   "source": [
    "## How to change shape of tensor?\n",
    "\n",
    "    There are several ways to resize the tensor"
   ]
  },
  {
   "cell_type": "code",
   "execution_count": 8,
   "metadata": {
    "colab": {
     "base_uri": "https://localhost:8080/"
    },
    "id": "KlBTlpBbVqpg",
    "outputId": "b9321041-6ed2-45d1-ae31-9655fb9f795e"
   },
   "outputs": [
    {
     "name": "stdout",
     "output_type": "stream",
     "text": [
      "torch.Size([100])\n",
      "tensor([ 0,  1,  2,  3,  4,  5,  6,  7,  8,  9, 10, 11, 12, 13, 14, 15, 16, 17,\n",
      "        18, 19, 20, 21, 22, 23, 24, 25, 26, 27, 28, 29, 30, 31, 32, 33, 34, 35,\n",
      "        36, 37, 38, 39, 40, 41, 42, 43, 44, 45, 46, 47, 48, 49, 50, 51, 52, 53,\n",
      "        54, 55, 56, 57, 58, 59, 60, 61, 62, 63, 64, 65, 66, 67, 68, 69, 70, 71,\n",
      "        72, 73, 74, 75, 76, 77, 78, 79, 80, 81, 82, 83, 84, 85, 86, 87, 88, 89,\n",
      "        90, 91, 92, 93, 94, 95, 96, 97, 98, 99])\n"
     ]
    }
   ],
   "source": [
    "tensor = torch.arange(100)\n",
    "\n",
    "print(tensor.shape)\n",
    "print(tensor)"
   ]
  },
  {
   "cell_type": "markdown",
   "metadata": {
    "id": "jdBUvqRvVqpi"
   },
   "source": [
    "    Now we would like to create a 10x10 matrix from the `tensor'"
   ]
  },
  {
   "cell_type": "code",
   "execution_count": 9,
   "metadata": {
    "colab": {
     "base_uri": "https://localhost:8080/"
    },
    "id": "0ERHYQfUVqpi",
    "outputId": "71645961-afa4-49eb-b53a-2710c6e8cb70"
   },
   "outputs": [
    {
     "name": "stdout",
     "output_type": "stream",
     "text": [
      "torch.Size([10, 10])\n",
      "tensor([[ 0,  1,  2,  3,  4,  5,  6,  7,  8,  9],\n",
      "        [10, 11, 12, 13, 14, 15, 16, 17, 18, 19],\n",
      "        [20, 21, 22, 23, 24, 25, 26, 27, 28, 29],\n",
      "        [30, 31, 32, 33, 34, 35, 36, 37, 38, 39],\n",
      "        [40, 41, 42, 43, 44, 45, 46, 47, 48, 49],\n",
      "        [50, 51, 52, 53, 54, 55, 56, 57, 58, 59],\n",
      "        [60, 61, 62, 63, 64, 65, 66, 67, 68, 69],\n",
      "        [70, 71, 72, 73, 74, 75, 76, 77, 78, 79],\n",
      "        [80, 81, 82, 83, 84, 85, 86, 87, 88, 89],\n",
      "        [90, 91, 92, 93, 94, 95, 96, 97, 98, 99]])\n"
     ]
    }
   ],
   "source": [
    "matrix = tensor.reshape(10, 10)\n",
    "\n",
    "print(matrix.shape)\n",
    "print(matrix)"
   ]
  },
  {
   "cell_type": "markdown",
   "metadata": {
    "id": "CTa488suVqpk"
   },
   "source": [
    "    What if we want a tensor of order 3 with dimensions 2x10x5?"
   ]
  },
  {
   "cell_type": "code",
   "execution_count": 10,
   "metadata": {
    "colab": {
     "base_uri": "https://localhost:8080/"
    },
    "id": "XhSKRx46Vqpo",
    "outputId": "10946970-1402-48da-91ff-a0460ad4c0f5"
   },
   "outputs": [
    {
     "name": "stdout",
     "output_type": "stream",
     "text": [
      "torch.Size([2, 10, 5])\n",
      "tensor([[[ 0,  1,  2,  3,  4],\n",
      "         [ 5,  6,  7,  8,  9],\n",
      "         [10, 11, 12, 13, 14],\n",
      "         [15, 16, 17, 18, 19],\n",
      "         [20, 21, 22, 23, 24],\n",
      "         [25, 26, 27, 28, 29],\n",
      "         [30, 31, 32, 33, 34],\n",
      "         [35, 36, 37, 38, 39],\n",
      "         [40, 41, 42, 43, 44],\n",
      "         [45, 46, 47, 48, 49]],\n",
      "\n",
      "        [[50, 51, 52, 53, 54],\n",
      "         [55, 56, 57, 58, 59],\n",
      "         [60, 61, 62, 63, 64],\n",
      "         [65, 66, 67, 68, 69],\n",
      "         [70, 71, 72, 73, 74],\n",
      "         [75, 76, 77, 78, 79],\n",
      "         [80, 81, 82, 83, 84],\n",
      "         [85, 86, 87, 88, 89],\n",
      "         [90, 91, 92, 93, 94],\n",
      "         [95, 96, 97, 98, 99]]])\n"
     ]
    }
   ],
   "source": [
    "tensor_3d = tensor.reshape(2, 10, 5)\n",
    "\n",
    "print(tensor_3d.shape)\n",
    "print(tensor_3d)"
   ]
  },
  {
   "cell_type": "markdown",
   "metadata": {
    "id": "58rzZabzVqpp"
   },
   "source": [
    "    Sometimes we want to swap dimensions, e.g. from 2x10x5 we want to get 5x10x2"
   ]
  },
  {
   "cell_type": "code",
   "execution_count": 11,
   "metadata": {
    "colab": {
     "base_uri": "https://localhost:8080/"
    },
    "id": "LsKCvNwYVqpp",
    "outputId": "7b0b38ee-6999-490e-c5c6-fc8d1590c306"
   },
   "outputs": [
    {
     "name": "stdout",
     "output_type": "stream",
     "text": [
      "torch.Size([5, 10, 2])\n",
      "torch.Size([5, 10, 2])\n",
      "torch.Size([5, 10, 2])\n"
     ]
    }
   ],
   "source": [
    "tensor_3d_v2 = tensor_3d.transpose(dim0=0, dim1=2)\n",
    "print(tensor_3d_v2.shape)\n",
    "\n",
    "# or this way. it helps not to make a mistake\n",
    "tensor_3d_v3 = tensor_3d.transpose(dim0=0, dim1=-1)\n",
    "print(tensor_3d_v3.shape)\n",
    "\n",
    "# or this way\n",
    "tensor_3d_v4 = tensor_3d.permute(2, 1, 0)\n",
    "print(tensor_3d_v4.shape)"
   ]
  },
  {
   "cell_type": "markdown",
   "metadata": {
    "id": "HfzgG7L7Vqpr"
   },
   "source": [
    "    You're also able to add new dimensions. It is often useful"
   ]
  },
  {
   "cell_type": "code",
   "execution_count": 12,
   "metadata": {
    "colab": {
     "base_uri": "https://localhost:8080/"
    },
    "id": "og4syghdN4xc",
    "outputId": "d6c86297-46f7-41ec-f5e0-15607ae19c87"
   },
   "outputs": [
    {
     "data": {
      "text/plain": [
       "torch.Size([10])"
      ]
     },
     "execution_count": 12,
     "metadata": {},
     "output_type": "execute_result"
    }
   ],
   "source": [
    "torch.zeros((1, 10)).squeeze().shape"
   ]
  },
  {
   "cell_type": "code",
   "execution_count": 13,
   "metadata": {
    "colab": {
     "base_uri": "https://localhost:8080/"
    },
    "id": "VI0fFONkVqps",
    "outputId": "bfb94079-e10d-4c0f-b47f-5c73ac094142"
   },
   "outputs": [
    {
     "data": {
      "text/plain": [
       "torch.Size([1, 100])"
      ]
     },
     "execution_count": 13,
     "metadata": {},
     "output_type": "execute_result"
    }
   ],
   "source": [
    "tensor.unsqueeze(0).shape"
   ]
  },
  {
   "cell_type": "markdown",
   "metadata": {
    "id": "9KvMaKfjVqpu"
   },
   "source": [
    "    And in fact, there are many other useful functions that often come in handy.\n",
    "    For example, `.chunk`, `.unfold`, `.flatten`, `.scatter`, `.gather`, ....\n",
    "    \n",
    "    So, feel free to dive into the PyTorch documentation (https://pytorch.org/docs/stable/torch.html) and find out more yourself :)\n",
    "    "
   ]
  },
  {
   "cell_type": "markdown",
   "metadata": {
    "id": "Yx8eMfobVqpv"
   },
   "source": [
    "## Operations on tensors\n",
    "\n",
    "    In general, PyTorch has all the same things as NumPy and maybe even a little more\n",
    "    Let's look at the aggregating functions"
   ]
  },
  {
   "cell_type": "code",
   "execution_count": 14,
   "metadata": {
    "colab": {
     "base_uri": "https://localhost:8080/"
    },
    "id": "Wbb1881oPxS7",
    "outputId": "040adb82-94d6-42a5-aeaf-f4014f86152c"
   },
   "outputs": [
    {
     "name": "stdout",
     "output_type": "stream",
     "text": [
      "tensor([[-0.6313,  1.1233],\n",
      "        [-1.9596,  0.6303]])\n",
      "tensor([[0.6313, 1.1233],\n",
      "        [1.9596, 0.6303]])\n"
     ]
    }
   ],
   "source": [
    "tensor = torch.randn(2, 2)\n",
    "t1 = tensor\n",
    "t2 = tensor.abs()\n",
    "# t2 = tensor.abs_()\n",
    "print(t1)\n",
    "print(t2)"
   ]
  },
  {
   "cell_type": "code",
   "execution_count": 15,
   "metadata": {
    "colab": {
     "base_uri": "https://localhost:8080/"
    },
    "id": "v1bpX5eIVqpv",
    "outputId": "99fe444c-6cb2-4040-cba9-5b31f808dc25"
   },
   "outputs": [
    {
     "name": "stdout",
     "output_type": "stream",
     "text": [
      "torch.Size([10, 100, 1000])\n"
     ]
    }
   ],
   "source": [
    "tensor = torch.randn(10, 100, 1000)\n",
    "print(tensor.shape)"
   ]
  },
  {
   "cell_type": "code",
   "execution_count": 16,
   "metadata": {
    "colab": {
     "base_uri": "https://localhost:8080/"
    },
    "id": "-iSGj1i0Vqpv",
    "outputId": "cd0bcb5d-5185-4e18-9aa3-2c7a5c753bce"
   },
   "outputs": [
    {
     "data": {
      "text/plain": [
       "(tensor(-0.0016), tensor(-1587.4265), tensor(4.8163), tensor(-4.5670))"
      ]
     },
     "execution_count": 16,
     "metadata": {},
     "output_type": "execute_result"
    }
   ],
   "source": [
    "tensor.mean(), tensor.sum(), tensor.max(), tensor.min()"
   ]
  },
  {
   "cell_type": "markdown",
   "metadata": {
    "id": "OaDndbVaVqpv"
   },
   "source": [
    "    Note that almost every aggregation function has argument `dim` and `keepdim`"
   ]
  },
  {
   "cell_type": "code",
   "execution_count": 17,
   "metadata": {
    "colab": {
     "base_uri": "https://localhost:8080/"
    },
    "id": "YMedYi5VVqpx",
    "outputId": "e7255312-9ef1-45c4-ae92-294451c15d9b"
   },
   "outputs": [
    {
     "name": "stdout",
     "output_type": "stream",
     "text": [
      "torch.Size([100, 1000])\n",
      "torch.Size([1000])\n"
     ]
    }
   ],
   "source": [
    "# take mean over 0 dimension\n",
    "print(tensor.mean(dim=0).shape)\n",
    "\n",
    "# or over 0 and 1 dimensions\n",
    "print(tensor.mean(dim=(0, 1)).shape)"
   ]
  },
  {
   "cell_type": "code",
   "execution_count": 18,
   "metadata": {
    "colab": {
     "base_uri": "https://localhost:8080/"
    },
    "id": "2eJ4ieAvVqpz",
    "outputId": "9cee0c05-0a76-4986-814b-560d029f2f14"
   },
   "outputs": [
    {
     "name": "stdout",
     "output_type": "stream",
     "text": [
      "torch.Size([1, 100, 1])\n"
     ]
    }
   ],
   "source": [
    "# take mean over 0 and 2 dimensions and keep dimensions\n",
    "print(tensor.mean(dim=(0, 2), keepdim=True).shape)"
   ]
  },
  {
   "cell_type": "code",
   "execution_count": 19,
   "metadata": {
    "colab": {
     "base_uri": "https://localhost:8080/"
    },
    "id": "TJ0CuXqrVqpz",
    "outputId": "ae52f8f0-ce3d-4d8b-81f5-633e3e80373f"
   },
   "outputs": [
    {
     "name": "stdout",
     "output_type": "stream",
     "text": [
      "tensor(1000.2234)\n"
     ]
    }
   ],
   "source": [
    "# Frobenius norm\n",
    "print(tensor.norm(p='fro'))"
   ]
  },
  {
   "cell_type": "markdown",
   "metadata": {
    "id": "E7xumnNmVqpz"
   },
   "source": [
    "    Linear algrebra is also arranged very similarly to NumPy"
   ]
  },
  {
   "cell_type": "code",
   "execution_count": 20,
   "metadata": {
    "id": "qySBiP5iVqpz"
   },
   "outputs": [],
   "source": [
    "A = torch.randn(10, 20)\n",
    "B = torch.randn(20, 30)"
   ]
  },
  {
   "cell_type": "code",
   "execution_count": 21,
   "metadata": {
    "colab": {
     "base_uri": "https://localhost:8080/"
    },
    "id": "PKW0DysVVqp0",
    "outputId": "fc011ab6-56cf-4591-c9cc-4422c814ec16"
   },
   "outputs": [
    {
     "name": "stdout",
     "output_type": "stream",
     "text": [
      "torch.Size([10, 30])\n"
     ]
    }
   ],
   "source": [
    "C = A.matmul(B)\n",
    "\n",
    "# or\n",
    "C = A @ B\n",
    "\n",
    "# or\n",
    "C = torch.matmul(A, B)\n",
    "\n",
    "print(C.shape)"
   ]
  },
  {
   "cell_type": "markdown",
   "metadata": {
    "id": "OFBHFFQlVqp0"
   },
   "source": [
    "## Automatic Differentiation\n",
    "\n",
    "    Gradient automatic computation using backpropagation:\n",
    "        1) Create a tensor/tensors which requires gradient: a = torch.tensor(..., requires_grad=True)\n",
    "        2) Define some differentiable scalar function loss = whatever(a)\n",
    "        3) Request backward pass with loss.backward()\n",
    "        4) The gradient is available as a.grad\n",
    "        \n",
    "    Note that the loss must be a function of at least one tensor which requires gradient.\n",
    "    For more information see https://pytorch.org/docs/stable/autograd.html\n",
    "\n"
   ]
  },
  {
   "cell_type": "markdown",
   "metadata": {
    "id": "y-7lFZzPVqp8"
   },
   "source": [
    "    Let's look at a simple example"
   ]
  },
  {
   "cell_type": "code",
   "execution_count": 22,
   "metadata": {
    "colab": {
     "base_uri": "https://localhost:8080/"
    },
    "id": "-4tCnqwEVqp9",
    "outputId": "aee85ac5-fda9-4e63-fc05-bca8e65de3ce"
   },
   "outputs": [
    {
     "name": "stdout",
     "output_type": "stream",
     "text": [
      "x: tensor([ 0.3817,  0.2617,  1.5378, -1.5162])\n",
      "y: tensor([ 1.3572, -0.3056,  0.1156,  1.5435])\n",
      "dp / dx: tensor([ 1.3572, -0.3056,  0.1156,  1.5435])\n",
      "dp / dy: tensor([ 0.3817,  0.2617,  1.5378, -1.5162])\n"
     ]
    }
   ],
   "source": [
    "x = torch.randn(4, requires_grad=True)\n",
    "y = torch.randn(4, requires_grad=True)\n",
    "z = x * y + 10\n",
    "p = z.sum()\n",
    "p.backward()\n",
    "print('x:', x.data)\n",
    "print('y:', y.data)\n",
    "print('dp / dx:', x.grad)\n",
    "print('dp / dy:', y.grad)"
   ]
  },
  {
   "cell_type": "code",
   "execution_count": 23,
   "metadata": {
    "colab": {
     "base_uri": "https://localhost:8080/",
     "height": 305
    },
    "id": "R_yWUbNXyk-l",
    "outputId": "edfb707c-7f5a-4c3d-c398-fb7a4d6d3fad"
   },
   "outputs": [
    {
     "data": {
      "image/svg+xml": [
       "<?xml version=\"1.0\" encoding=\"UTF-8\" standalone=\"no\"?>\n",
       "<!DOCTYPE svg PUBLIC \"-//W3C//DTD SVG 1.1//EN\"\n",
       " \"http://www.w3.org/Graphics/SVG/1.1/DTD/svg11.dtd\">\n",
       "<!-- Generated by graphviz version 2.40.1 (20161225.0304)\n",
       " -->\n",
       "<!-- Title: %3 Pages: 1 -->\n",
       "<svg width=\"228pt\" height=\"325pt\"\n",
       " viewBox=\"0.00 0.00 228.00 325.00\" xmlns=\"http://www.w3.org/2000/svg\" xmlns:xlink=\"http://www.w3.org/1999/xlink\">\n",
       "<g id=\"graph0\" class=\"graph\" transform=\"scale(1 1) rotate(0) translate(4 321)\">\n",
       "<title>%3</title>\n",
       "<polygon fill=\"#ffffff\" stroke=\"transparent\" points=\"-4,4 -4,-321 224,-321 224,4 -4,4\"/>\n",
       "<!-- 140404084724648 -->\n",
       "<g id=\"node1\" class=\"node\">\n",
       "<title>140404084724648</title>\n",
       "<polygon fill=\"#caff70\" stroke=\"#000000\" points=\"136.5,-31 82.5,-31 82.5,0 136.5,0 136.5,-31\"/>\n",
       "<text text-anchor=\"middle\" x=\"109.5\" y=\"-7\" font-family=\"monospace\" font-size=\"10.00\" fill=\"#000000\"> ()</text>\n",
       "</g>\n",
       "<!-- 140404084681192 -->\n",
       "<g id=\"node2\" class=\"node\">\n",
       "<title>140404084681192</title>\n",
       "<polygon fill=\"#d3d3d3\" stroke=\"#000000\" points=\"154,-86 65,-86 65,-67 154,-67 154,-86\"/>\n",
       "<text text-anchor=\"middle\" x=\"109.5\" y=\"-74\" font-family=\"monospace\" font-size=\"10.00\" fill=\"#000000\">SumBackward0</text>\n",
       "</g>\n",
       "<!-- 140404084681192&#45;&gt;140404084724648 -->\n",
       "<g id=\"edge7\" class=\"edge\">\n",
       "<title>140404084681192&#45;&gt;140404084724648</title>\n",
       "<path fill=\"none\" stroke=\"#000000\" d=\"M109.5,-66.9688C109.5,-60.1289 109.5,-50.5621 109.5,-41.5298\"/>\n",
       "<polygon fill=\"#000000\" stroke=\"#000000\" points=\"113.0001,-41.3678 109.5,-31.3678 106.0001,-41.3678 113.0001,-41.3678\"/>\n",
       "</g>\n",
       "<!-- 140404084680520 -->\n",
       "<g id=\"node3\" class=\"node\">\n",
       "<title>140404084680520</title>\n",
       "<polygon fill=\"#d3d3d3\" stroke=\"#000000\" points=\"154,-141 65,-141 65,-122 154,-122 154,-141\"/>\n",
       "<text text-anchor=\"middle\" x=\"109.5\" y=\"-129\" font-family=\"monospace\" font-size=\"10.00\" fill=\"#000000\">AddBackward0</text>\n",
       "</g>\n",
       "<!-- 140404084680520&#45;&gt;140404084681192 -->\n",
       "<g id=\"edge1\" class=\"edge\">\n",
       "<title>140404084680520&#45;&gt;140404084681192</title>\n",
       "<path fill=\"none\" stroke=\"#000000\" d=\"M109.5,-121.9197C109.5,-114.9083 109.5,-105.1442 109.5,-96.4652\"/>\n",
       "<polygon fill=\"#000000\" stroke=\"#000000\" points=\"113.0001,-96.3408 109.5,-86.3408 106.0001,-96.3409 113.0001,-96.3408\"/>\n",
       "</g>\n",
       "<!-- 140404084682424 -->\n",
       "<g id=\"node4\" class=\"node\">\n",
       "<title>140404084682424</title>\n",
       "<polygon fill=\"#d3d3d3\" stroke=\"#000000\" points=\"154,-196 65,-196 65,-177 154,-177 154,-196\"/>\n",
       "<text text-anchor=\"middle\" x=\"109.5\" y=\"-184\" font-family=\"monospace\" font-size=\"10.00\" fill=\"#000000\">MulBackward0</text>\n",
       "</g>\n",
       "<!-- 140404084682424&#45;&gt;140404084680520 -->\n",
       "<g id=\"edge2\" class=\"edge\">\n",
       "<title>140404084682424&#45;&gt;140404084680520</title>\n",
       "<path fill=\"none\" stroke=\"#000000\" d=\"M109.5,-176.9197C109.5,-169.9083 109.5,-160.1442 109.5,-151.4652\"/>\n",
       "<polygon fill=\"#000000\" stroke=\"#000000\" points=\"113.0001,-151.3408 109.5,-141.3408 106.0001,-151.3409 113.0001,-151.3408\"/>\n",
       "</g>\n",
       "<!-- 140402444116096 -->\n",
       "<g id=\"node5\" class=\"node\">\n",
       "<title>140402444116096</title>\n",
       "<polygon fill=\"#d3d3d3\" stroke=\"#000000\" points=\"101,-251 0,-251 0,-232 101,-232 101,-251\"/>\n",
       "<text text-anchor=\"middle\" x=\"50.5\" y=\"-239\" font-family=\"monospace\" font-size=\"10.00\" fill=\"#000000\">AccumulateGrad</text>\n",
       "</g>\n",
       "<!-- 140402444116096&#45;&gt;140404084682424 -->\n",
       "<g id=\"edge3\" class=\"edge\">\n",
       "<title>140402444116096&#45;&gt;140404084682424</title>\n",
       "<path fill=\"none\" stroke=\"#000000\" d=\"M60.777,-231.9197C69.2176,-224.0514 81.377,-212.7164 91.4369,-203.3385\"/>\n",
       "<polygon fill=\"#000000\" stroke=\"#000000\" points=\"94.0154,-205.7198 98.9435,-196.3408 89.2422,-200.5995 94.0154,-205.7198\"/>\n",
       "</g>\n",
       "<!-- 140404084724360 -->\n",
       "<g id=\"node6\" class=\"node\">\n",
       "<title>140404084724360</title>\n",
       "<polygon fill=\"#add8e6\" stroke=\"#000000\" points=\"77.5,-317 23.5,-317 23.5,-287 77.5,-287 77.5,-317\"/>\n",
       "<text text-anchor=\"middle\" x=\"50.5\" y=\"-305\" font-family=\"monospace\" font-size=\"10.00\" fill=\"#000000\">x</text>\n",
       "<text text-anchor=\"middle\" x=\"50.5\" y=\"-294\" font-family=\"monospace\" font-size=\"10.00\" fill=\"#000000\"> (4)</text>\n",
       "</g>\n",
       "<!-- 140404084724360&#45;&gt;140402444116096 -->\n",
       "<g id=\"edge4\" class=\"edge\">\n",
       "<title>140404084724360&#45;&gt;140402444116096</title>\n",
       "<path fill=\"none\" stroke=\"#000000\" d=\"M50.5,-286.7333C50.5,-279.0322 50.5,-269.5977 50.5,-261.3414\"/>\n",
       "<polygon fill=\"#000000\" stroke=\"#000000\" points=\"54.0001,-261.0864 50.5,-251.0864 47.0001,-261.0864 54.0001,-261.0864\"/>\n",
       "</g>\n",
       "<!-- 140404084575928 -->\n",
       "<g id=\"node7\" class=\"node\">\n",
       "<title>140404084575928</title>\n",
       "<polygon fill=\"#d3d3d3\" stroke=\"#000000\" points=\"220,-251 119,-251 119,-232 220,-232 220,-251\"/>\n",
       "<text text-anchor=\"middle\" x=\"169.5\" y=\"-239\" font-family=\"monospace\" font-size=\"10.00\" fill=\"#000000\">AccumulateGrad</text>\n",
       "</g>\n",
       "<!-- 140404084575928&#45;&gt;140404084682424 -->\n",
       "<g id=\"edge5\" class=\"edge\">\n",
       "<title>140404084575928&#45;&gt;140404084682424</title>\n",
       "<path fill=\"none\" stroke=\"#000000\" d=\"M159.0488,-231.9197C150.4651,-224.0514 138.0997,-212.7164 127.8693,-203.3385\"/>\n",
       "<polygon fill=\"#000000\" stroke=\"#000000\" points=\"129.9721,-200.5181 120.2355,-196.3408 125.242,-205.6782 129.9721,-200.5181\"/>\n",
       "</g>\n",
       "<!-- 140404084724576 -->\n",
       "<g id=\"node8\" class=\"node\">\n",
       "<title>140404084724576</title>\n",
       "<polygon fill=\"#add8e6\" stroke=\"#000000\" points=\"196.5,-317 142.5,-317 142.5,-287 196.5,-287 196.5,-317\"/>\n",
       "<text text-anchor=\"middle\" x=\"169.5\" y=\"-305\" font-family=\"monospace\" font-size=\"10.00\" fill=\"#000000\">y</text>\n",
       "<text text-anchor=\"middle\" x=\"169.5\" y=\"-294\" font-family=\"monospace\" font-size=\"10.00\" fill=\"#000000\"> (4)</text>\n",
       "</g>\n",
       "<!-- 140404084724576&#45;&gt;140404084575928 -->\n",
       "<g id=\"edge6\" class=\"edge\">\n",
       "<title>140404084724576&#45;&gt;140404084575928</title>\n",
       "<path fill=\"none\" stroke=\"#000000\" d=\"M169.5,-286.7333C169.5,-279.0322 169.5,-269.5977 169.5,-261.3414\"/>\n",
       "<polygon fill=\"#000000\" stroke=\"#000000\" points=\"173.0001,-261.0864 169.5,-251.0864 166.0001,-261.0864 173.0001,-261.0864\"/>\n",
       "</g>\n",
       "</g>\n",
       "</svg>\n"
      ],
      "text/plain": [
       "<graphviz.dot.Digraph at 0x7fb25f97a8d0>"
      ]
     },
     "execution_count": 23,
     "metadata": {},
     "output_type": "execute_result"
    }
   ],
   "source": [
    "torchviz.make_dot(p, {\"x\": x, \"y\": y})"
   ]
  },
  {
   "cell_type": "markdown",
   "metadata": {
    "id": "aRwFh2SwVqp_"
   },
   "source": [
    "    Detaching variables. .detach() returns a copy of a variable, through which backpropagation doesn't pass.\n",
    "    If you average or just store batch losses during the optimization, you'd better detach those losses before averaging or storing.\n",
    "    Otherwise the computational graphs for each batch would be stored in memory as well as batch losses, so you run out of memory very fast.\n",
    "    \n",
    "    Also there is in-place version (.detach_()) which doesn't create detached copy of the variable, but detach variable itself from its computational graph."
   ]
  },
  {
   "cell_type": "code",
   "execution_count": 24,
   "metadata": {
    "colab": {
     "base_uri": "https://localhost:8080/"
    },
    "id": "iPMI51wnVqqA",
    "outputId": "ed7c0a61-4772-4bbe-806f-2c486b82a963"
   },
   "outputs": [
    {
     "name": "stdout",
     "output_type": "stream",
     "text": [
      "x: tensor([ 0.8857,  0.0538, -0.6149, -0.5003])\n",
      "y: tensor([ 1.2845,  0.4545, -1.5992,  1.4809])\n",
      "dp / dx: tensor([ 1.2845,  0.4545, -1.5992,  1.4809])\n",
      "dp / dy: None\n"
     ]
    }
   ],
   "source": [
    "x = torch.randn(4, requires_grad=True)\n",
    "y = torch.randn(4, requires_grad=True)\n",
    "z = x * y.detach_() + 10\n",
    "p = z.sum()\n",
    "p.backward()\n",
    "print('x:', x.data)\n",
    "print('y:', y.data)\n",
    "print('dp / dx:', x.grad)\n",
    "print('dp / dy:', y.grad)"
   ]
  },
  {
   "cell_type": "markdown",
   "metadata": {
    "id": "YfavO2GYVqqA"
   },
   "source": [
    "    Gradients are accumulated"
   ]
  },
  {
   "cell_type": "code",
   "execution_count": 25,
   "metadata": {
    "colab": {
     "base_uri": "https://localhost:8080/"
    },
    "id": "euwcv8zPVqqA",
    "outputId": "8365bc1e-9572-4a2b-ffec-03aa2b6a04c6"
   },
   "outputs": [
    {
     "name": "stdout",
     "output_type": "stream",
     "text": [
      "x: tensor([1., 1., 1., 1.], requires_grad=True)\n",
      "dp / dx: tensor([2., 2., 2., 2.])\n",
      "x: tensor([1., 1., 1., 1.], requires_grad=True)\n",
      "dp / dx: tensor([-1., -1., -1., -1.])\n"
     ]
    }
   ],
   "source": [
    "x = torch.tensor([1., 1, 1, 1], requires_grad=True)\n",
    "\n",
    "y = x ** 2\n",
    "p = y.sum()\n",
    "p.backward()\n",
    "print('x:', x)\n",
    "print('dp / dx:', x.grad)\n",
    "# [2, 2, 2, 2]\n",
    "\n",
    "# zero gradinents\n",
    "x.grad.zero_()\n",
    "\n",
    "y = 1 / x\n",
    "p = y.sum()\n",
    "p.backward()\n",
    "print('x:', x)\n",
    "print('dp / dx:', x.grad)\n",
    "# [-1, -1, -1, -1]"
   ]
  },
  {
   "cell_type": "markdown",
   "metadata": {
    "id": "IOHpOEPDVqqB"
   },
   "source": [
    "    For memory saving, gradients are stored only for so called leaf-variables."
   ]
  },
  {
   "cell_type": "code",
   "execution_count": 26,
   "metadata": {
    "colab": {
     "base_uri": "https://localhost:8080/"
    },
    "id": "HTlcQ4zwVqqB",
    "outputId": "979d2f2c-3403-4cea-ed08-2aa30e84cafc"
   },
   "outputs": [
    {
     "name": "stdout",
     "output_type": "stream",
     "text": [
      "x: tensor([-0.8088,  0.4931,  2.2623,  0.0602], requires_grad=True)\n",
      "y: tensor([0.1912, 1.4931, 3.2623, 1.0602], grad_fn=<AddBackward0>)\n",
      "p: tensor(6.0067, grad_fn=<SumBackward0>)\n",
      "x.grad: tensor([1., 1., 1., 1.])\n",
      "y.grad: None\n",
      "p.grad: None\n"
     ]
    },
    {
     "name": "stderr",
     "output_type": "stream",
     "text": [
      "/home/x/anaconda3/envs/i2dl/lib/python3.7/site-packages/ipykernel_launcher.py:11: UserWarning: The .grad attribute of a Tensor that is not a leaf Tensor is being accessed. Its .grad attribute won't be populated during autograd.backward(). If you indeed want the gradient for a non-leaf Tensor, use .retain_grad() on the non-leaf Tensor. If you access the non-leaf Tensor by mistake, make sure you access the leaf Tensor instead. See github.com/pytorch/pytorch/pull/30531 for more informations.\n",
      "  # This is added back by InteractiveShellApp.init_path()\n",
      "/home/x/anaconda3/envs/i2dl/lib/python3.7/site-packages/ipykernel_launcher.py:12: UserWarning: The .grad attribute of a Tensor that is not a leaf Tensor is being accessed. Its .grad attribute won't be populated during autograd.backward(). If you indeed want the gradient for a non-leaf Tensor, use .retain_grad() on the non-leaf Tensor. If you access the non-leaf Tensor by mistake, make sure you access the leaf Tensor instead. See github.com/pytorch/pytorch/pull/30531 for more informations.\n",
      "  if sys.path[0] == '':\n"
     ]
    }
   ],
   "source": [
    "# don't pay attention to UserWarning from Python\n",
    "\n",
    "x = torch.randn(4, requires_grad=True)  # leaf variable\n",
    "y = x + 1                               # not a leaf variable\n",
    "p = y.sum()                             # not a leaf variable\n",
    "p.backward()\n",
    "print('x:', x)\n",
    "print('y:', y)\n",
    "print('p:', p)\n",
    "print('x.grad:', x.grad)\n",
    "print('y.grad:', y.grad)\n",
    "print('p.grad:', p.grad)"
   ]
  },
  {
   "cell_type": "code",
   "execution_count": 27,
   "metadata": {
    "colab": {
     "base_uri": "https://localhost:8080/",
     "height": 229
    },
    "id": "e6mlvtJDx0LF",
    "outputId": "f052d5e0-4ca9-481b-bc4c-fc0d1ca6bf6a"
   },
   "outputs": [
    {
     "data": {
      "image/svg+xml": [
       "<?xml version=\"1.0\" encoding=\"UTF-8\" standalone=\"no\"?>\n",
       "<!DOCTYPE svg PUBLIC \"-//W3C//DTD SVG 1.1//EN\"\n",
       " \"http://www.w3.org/Graphics/SVG/1.1/DTD/svg11.dtd\">\n",
       "<!-- Generated by graphviz version 2.40.1 (20161225.0304)\n",
       " -->\n",
       "<!-- Title: %3 Pages: 1 -->\n",
       "<svg width=\"109pt\" height=\"270pt\"\n",
       " viewBox=\"0.00 0.00 109.00 270.00\" xmlns=\"http://www.w3.org/2000/svg\" xmlns:xlink=\"http://www.w3.org/1999/xlink\">\n",
       "<g id=\"graph0\" class=\"graph\" transform=\"scale(1 1) rotate(0) translate(4 266)\">\n",
       "<title>%3</title>\n",
       "<polygon fill=\"#ffffff\" stroke=\"transparent\" points=\"-4,4 -4,-266 105,-266 105,4 -4,4\"/>\n",
       "<!-- 140404084669104 -->\n",
       "<g id=\"node1\" class=\"node\">\n",
       "<title>140404084669104</title>\n",
       "<polygon fill=\"#caff70\" stroke=\"#000000\" points=\"77.5,-31 23.5,-31 23.5,0 77.5,0 77.5,-31\"/>\n",
       "<text text-anchor=\"middle\" x=\"50.5\" y=\"-7\" font-family=\"monospace\" font-size=\"10.00\" fill=\"#000000\"> ()</text>\n",
       "</g>\n",
       "<!-- 140404084576208 -->\n",
       "<g id=\"node2\" class=\"node\">\n",
       "<title>140404084576208</title>\n",
       "<polygon fill=\"#d3d3d3\" stroke=\"#000000\" points=\"95,-86 6,-86 6,-67 95,-67 95,-86\"/>\n",
       "<text text-anchor=\"middle\" x=\"50.5\" y=\"-74\" font-family=\"monospace\" font-size=\"10.00\" fill=\"#000000\">SumBackward0</text>\n",
       "</g>\n",
       "<!-- 140404084576208&#45;&gt;140404084669104 -->\n",
       "<g id=\"edge4\" class=\"edge\">\n",
       "<title>140404084576208&#45;&gt;140404084669104</title>\n",
       "<path fill=\"none\" stroke=\"#000000\" d=\"M50.5,-66.9688C50.5,-60.1289 50.5,-50.5621 50.5,-41.5298\"/>\n",
       "<polygon fill=\"#000000\" stroke=\"#000000\" points=\"54.0001,-41.3678 50.5,-31.3678 47.0001,-41.3678 54.0001,-41.3678\"/>\n",
       "</g>\n",
       "<!-- 140404084800928 -->\n",
       "<g id=\"node3\" class=\"node\">\n",
       "<title>140404084800928</title>\n",
       "<polygon fill=\"#d3d3d3\" stroke=\"#000000\" points=\"95,-141 6,-141 6,-122 95,-122 95,-141\"/>\n",
       "<text text-anchor=\"middle\" x=\"50.5\" y=\"-129\" font-family=\"monospace\" font-size=\"10.00\" fill=\"#000000\">AddBackward0</text>\n",
       "</g>\n",
       "<!-- 140404084800928&#45;&gt;140404084576208 -->\n",
       "<g id=\"edge1\" class=\"edge\">\n",
       "<title>140404084800928&#45;&gt;140404084576208</title>\n",
       "<path fill=\"none\" stroke=\"#000000\" d=\"M50.5,-121.9197C50.5,-114.9083 50.5,-105.1442 50.5,-96.4652\"/>\n",
       "<polygon fill=\"#000000\" stroke=\"#000000\" points=\"54.0001,-96.3408 50.5,-86.3408 47.0001,-96.3409 54.0001,-96.3408\"/>\n",
       "</g>\n",
       "<!-- 140404084801096 -->\n",
       "<g id=\"node4\" class=\"node\">\n",
       "<title>140404084801096</title>\n",
       "<polygon fill=\"#d3d3d3\" stroke=\"#000000\" points=\"101,-196 0,-196 0,-177 101,-177 101,-196\"/>\n",
       "<text text-anchor=\"middle\" x=\"50.5\" y=\"-184\" font-family=\"monospace\" font-size=\"10.00\" fill=\"#000000\">AccumulateGrad</text>\n",
       "</g>\n",
       "<!-- 140404084801096&#45;&gt;140404084800928 -->\n",
       "<g id=\"edge2\" class=\"edge\">\n",
       "<title>140404084801096&#45;&gt;140404084800928</title>\n",
       "<path fill=\"none\" stroke=\"#000000\" d=\"M50.5,-176.9197C50.5,-169.9083 50.5,-160.1442 50.5,-151.4652\"/>\n",
       "<polygon fill=\"#000000\" stroke=\"#000000\" points=\"54.0001,-151.3408 50.5,-141.3408 47.0001,-151.3409 54.0001,-151.3408\"/>\n",
       "</g>\n",
       "<!-- 140404643803784 -->\n",
       "<g id=\"node5\" class=\"node\">\n",
       "<title>140404643803784</title>\n",
       "<polygon fill=\"#add8e6\" stroke=\"#000000\" points=\"92,-262 9,-262 9,-232 92,-232 92,-262\"/>\n",
       "<text text-anchor=\"middle\" x=\"50.5\" y=\"-250\" font-family=\"monospace\" font-size=\"10.00\" fill=\"#000000\">x is a leaf</text>\n",
       "<text text-anchor=\"middle\" x=\"50.5\" y=\"-239\" font-family=\"monospace\" font-size=\"10.00\" fill=\"#000000\"> (4)</text>\n",
       "</g>\n",
       "<!-- 140404643803784&#45;&gt;140404084801096 -->\n",
       "<g id=\"edge3\" class=\"edge\">\n",
       "<title>140404643803784&#45;&gt;140404084801096</title>\n",
       "<path fill=\"none\" stroke=\"#000000\" d=\"M50.5,-231.7333C50.5,-224.0322 50.5,-214.5977 50.5,-206.3414\"/>\n",
       "<polygon fill=\"#000000\" stroke=\"#000000\" points=\"54.0001,-206.0864 50.5,-196.0864 47.0001,-206.0864 54.0001,-206.0864\"/>\n",
       "</g>\n",
       "</g>\n",
       "</svg>\n"
      ],
      "text/plain": [
       "<graphviz.dot.Digraph at 0x7fb25f997eb8>"
      ]
     },
     "execution_count": 27,
     "metadata": {},
     "output_type": "execute_result"
    }
   ],
   "source": [
    "torchviz.make_dot(p, {\"x is a leaf\": x})"
   ]
  },
  {
   "cell_type": "code",
   "execution_count": 28,
   "metadata": {
    "colab": {
     "base_uri": "https://localhost:8080/"
    },
    "id": "17U1E6ZoVqqD",
    "outputId": "661aa0ed-62c1-4bea-db1a-49f11666f355"
   },
   "outputs": [
    {
     "name": "stdout",
     "output_type": "stream",
     "text": [
      "x.grad: tensor([1., 1., 1., 1.])\n",
      "y.grad: tensor([1., 1., 1., 1.])\n",
      "z.grad: None\n",
      "p.grad: None\n",
      "x.is_leaf: True\n",
      "y.is_leaf: True\n",
      "z.is_leaf: False\n",
      "p.is_leaf: False\n"
     ]
    },
    {
     "name": "stderr",
     "output_type": "stream",
     "text": [
      "/home/x/anaconda3/envs/i2dl/lib/python3.7/site-packages/ipykernel_launcher.py:8: UserWarning: The .grad attribute of a Tensor that is not a leaf Tensor is being accessed. Its .grad attribute won't be populated during autograd.backward(). If you indeed want the gradient for a non-leaf Tensor, use .retain_grad() on the non-leaf Tensor. If you access the non-leaf Tensor by mistake, make sure you access the leaf Tensor instead. See github.com/pytorch/pytorch/pull/30531 for more informations.\n",
      "  \n",
      "/home/x/anaconda3/envs/i2dl/lib/python3.7/site-packages/ipykernel_launcher.py:9: UserWarning: The .grad attribute of a Tensor that is not a leaf Tensor is being accessed. Its .grad attribute won't be populated during autograd.backward(). If you indeed want the gradient for a non-leaf Tensor, use .retain_grad() on the non-leaf Tensor. If you access the non-leaf Tensor by mistake, make sure you access the leaf Tensor instead. See github.com/pytorch/pytorch/pull/30531 for more informations.\n",
      "  if __name__ == '__main__':\n"
     ]
    }
   ],
   "source": [
    "x = torch.randn(4, requires_grad=True)  # leaf variable\n",
    "y = torch.randn(4, requires_grad=True)  # leaf variable\n",
    "z = x + y    # not a leaf variable\n",
    "p = z.sum()  # not a leaf variable\n",
    "p.backward()\n",
    "print('x.grad:', x.grad)\n",
    "print('y.grad:', y.grad)\n",
    "print('z.grad:', z.grad)\n",
    "print('p.grad:', p.grad)\n",
    "print('x.is_leaf:', x.is_leaf)\n",
    "print('y.is_leaf:', y.is_leaf)\n",
    "print('z.is_leaf:', z.is_leaf)\n",
    "print('p.is_leaf:', p.is_leaf)"
   ]
  },
  {
   "cell_type": "markdown",
   "metadata": {
    "id": "e6dlSwdtVqqH"
   },
   "source": [
    "    One can use .retain_grad() to save gradients for non-leaf variables."
   ]
  },
  {
   "cell_type": "code",
   "execution_count": 29,
   "metadata": {
    "colab": {
     "base_uri": "https://localhost:8080/"
    },
    "id": "n4L9AtzBVqqH",
    "outputId": "16d8836b-3a3a-4fcb-b553-358d7148fdee"
   },
   "outputs": [
    {
     "name": "stdout",
     "output_type": "stream",
     "text": [
      "dp / dx: tensor([-1.7125,  1.3806, -4.3705,  0.0652])\n",
      "dp / dz: tensor([-2.9860,  1.1657,  2.3673, -1.2226])\n",
      "dp / dw: tensor([-1.4930,  0.5828,  1.1836, -0.6113])\n"
     ]
    }
   ],
   "source": [
    "x = torch.randn(4, requires_grad=True)   # leaf variable\n",
    "z = torch.randn(4, requires_grad=True)   # leaf variable\n",
    "w = z * 2      # not a leaf variable\n",
    "y = x * w + 1  # forward pass before retaining gradient is ok\n",
    "p = y.sum()\n",
    "\n",
    "w.retain_grad()\n",
    "\n",
    "p.backward()\n",
    "print('dp / dx:', x.grad)\n",
    "print('dp / dz:', z.grad)\n",
    "print('dp / dw:', w.grad)"
   ]
  },
  {
   "cell_type": "markdown",
   "metadata": {
    "id": "LDA5j6VnVqqI"
   },
   "source": [
    "    ** Note that even if there are non-leaf variables which require gradient in the computational graph, .backward() will fail.\n",
    "    For this to work one of the leaf variables ** must ** require gradient."
   ]
  },
  {
   "cell_type": "code",
   "execution_count": 30,
   "metadata": {
    "colab": {
     "base_uri": "https://localhost:8080/",
     "height": 364
    },
    "id": "iCTxJRCAVqqI",
    "outputId": "30ee3761-94df-4198-9ba6-5d1aa3659ce7"
   },
   "outputs": [
    {
     "ename": "RuntimeError",
     "evalue": "can't retain_grad on Tensor that has requires_grad=False",
     "output_type": "error",
     "traceback": [
      "\u001b[0;31m---------------------------------------------------------------------------\u001b[0m",
      "\u001b[0;31mRuntimeError\u001b[0m                              Traceback (most recent call last)",
      "\u001b[0;32m<ipython-input-30-a1d88584eebf>\u001b[0m in \u001b[0;36m<module>\u001b[0;34m\u001b[0m\n\u001b[1;32m      6\u001b[0m \u001b[0mp\u001b[0m \u001b[0;34m=\u001b[0m \u001b[0my\u001b[0m\u001b[0;34m.\u001b[0m\u001b[0msum\u001b[0m\u001b[0;34m(\u001b[0m\u001b[0;34m)\u001b[0m\u001b[0;34m\u001b[0m\u001b[0m\n\u001b[1;32m      7\u001b[0m \u001b[0;34m\u001b[0m\u001b[0m\n\u001b[0;32m----> 8\u001b[0;31m \u001b[0mw\u001b[0m\u001b[0;34m.\u001b[0m\u001b[0mretain_grad\u001b[0m\u001b[0;34m(\u001b[0m\u001b[0;34m)\u001b[0m\u001b[0;34m\u001b[0m\u001b[0m\n\u001b[0m\u001b[1;32m      9\u001b[0m \u001b[0;34m\u001b[0m\u001b[0m\n\u001b[1;32m     10\u001b[0m \u001b[0mp\u001b[0m\u001b[0;34m.\u001b[0m\u001b[0mbackward\u001b[0m\u001b[0;34m(\u001b[0m\u001b[0;34m)\u001b[0m\u001b[0;34m\u001b[0m\u001b[0m\n",
      "\u001b[0;32m~/anaconda3/envs/i2dl/lib/python3.7/site-packages/torch/tensor.py\u001b[0m in \u001b[0;36mretain_grad\u001b[0;34m(self)\u001b[0m\n\u001b[1;32m    344\u001b[0m             \u001b[0;32mreturn\u001b[0m \u001b[0mhandle_torch_function\u001b[0m\u001b[0;34m(\u001b[0m\u001b[0mTensor\u001b[0m\u001b[0;34m.\u001b[0m\u001b[0mretain_grad\u001b[0m\u001b[0;34m,\u001b[0m \u001b[0;34m(\u001b[0m\u001b[0mself\u001b[0m\u001b[0;34m,\u001b[0m\u001b[0;34m)\u001b[0m\u001b[0;34m,\u001b[0m \u001b[0mself\u001b[0m\u001b[0;34m)\u001b[0m\u001b[0;34m\u001b[0m\u001b[0m\n\u001b[1;32m    345\u001b[0m         \u001b[0;32mif\u001b[0m \u001b[0;32mnot\u001b[0m \u001b[0mself\u001b[0m\u001b[0;34m.\u001b[0m\u001b[0mrequires_grad\u001b[0m\u001b[0;34m:\u001b[0m\u001b[0;34m\u001b[0m\u001b[0m\n\u001b[0;32m--> 346\u001b[0;31m             \u001b[0;32mraise\u001b[0m \u001b[0mRuntimeError\u001b[0m\u001b[0;34m(\u001b[0m\u001b[0;34m\"can't retain_grad on Tensor that has requires_grad=False\"\u001b[0m\u001b[0;34m)\u001b[0m\u001b[0;34m\u001b[0m\u001b[0m\n\u001b[0m\u001b[1;32m    347\u001b[0m         \u001b[0;32mif\u001b[0m \u001b[0mself\u001b[0m\u001b[0;34m.\u001b[0m\u001b[0mis_leaf\u001b[0m\u001b[0;34m:\u001b[0m  \u001b[0;31m# no-op for leaves\u001b[0m\u001b[0;34m\u001b[0m\u001b[0m\n\u001b[1;32m    348\u001b[0m             \u001b[0;32mreturn\u001b[0m\u001b[0;34m\u001b[0m\u001b[0m\n",
      "\u001b[0;31mRuntimeError\u001b[0m: can't retain_grad on Tensor that has requires_grad=False"
     ]
    }
   ],
   "source": [
    "# will not work\n",
    "x = torch.randn(4, requires_grad=False)   # leaf variable\n",
    "z = torch.randn(4, requires_grad=False)   # leaf variable\n",
    "w = z * 2      # not a leaf variable\n",
    "y = x * w + 1  # forward pass before retaining gradient is ok\n",
    "p = y.sum()\n",
    "\n",
    "w.retain_grad()\n",
    "\n",
    "p.backward()"
   ]
  },
  {
   "cell_type": "markdown",
   "metadata": {
    "id": "233eeHf3VqqO"
   },
   "source": [
    "## Optimization"
   ]
  },
  {
   "cell_type": "markdown",
   "metadata": {
    "id": "P67JCCfqVqqO"
   },
   "source": [
    "    Let's use optimization in PyTorch to find minimum of some simple function"
   ]
  },
  {
   "cell_type": "code",
   "execution_count": 31,
   "metadata": {
    "id": "ZrWpnNTLVqqO"
   },
   "outputs": [],
   "source": [
    "import time\n",
    "from IPython import display"
   ]
  },
  {
   "cell_type": "code",
   "execution_count": 32,
   "metadata": {
    "id": "DvWSunEyVqqO"
   },
   "outputs": [],
   "source": [
    "def func(x):\n",
    "    return (x - 10) ** 2 + 14"
   ]
  },
  {
   "cell_type": "code",
   "execution_count": 33,
   "metadata": {
    "colab": {
     "base_uri": "https://localhost:8080/",
     "height": 265
    },
    "id": "FZeitzHDVqqO",
    "outputId": "0a23b1f8-c1da-472d-f6d6-ad0846e0d3a8"
   },
   "outputs": [
    {
     "data": {
      "image/png": "[encoded data removed]",
      "text/plain": [
       "<Figure size 432x288 with 1 Axes>"
      ]
     },
     "metadata": {
      "needs_background": "light"
     },
     "output_type": "display_data"
    }
   ],
   "source": [
    "x = torch.linspace(-100, 100, 100)\n",
    "y = func(x)\n",
    "\n",
    "plt.plot(x, y)\n",
    "plt.scatter([10], [14], label='Minimum', c='red')\n",
    "plt.legend()\n",
    "plt.grid()\n",
    "plt.show()"
   ]
  },
  {
   "cell_type": "code",
   "execution_count": 34,
   "metadata": {
    "colab": {
     "base_uri": "https://localhost:8080/",
     "height": 281
    },
    "id": "baV7b4w6VqqO",
    "outputId": "a815803c-c5a5-4dab-9bd8-1735de14e730"
   },
   "outputs": [
    {
     "data": {
      "image/png": "[encoded data removed]",
      "text/plain": [
       "<Figure size 432x288 with 1 Axes>"
      ]
     },
     "metadata": {
      "needs_background": "light"
     },
     "output_type": "display_data"
    }
   ],
   "source": [
    "# requires_grad=True is required\n",
    "current_solution = torch.tensor([100.], requires_grad=True)\n",
    "\n",
    "# initialize a simple SGD\n",
    "# SGD will minimize w.r.t current_solution\n",
    "# optimizer = torch.optim.SGD([current_solution], 1e-2)\n",
    "\n",
    "for i in range(200):  # 200 steps\n",
    "    # forward pass\n",
    "    current_loss = func(current_solution)\n",
    "    \n",
    "    # resetting grad\n",
    "    # zero out .grad of `current_solution`\n",
    "    # optimizer.zero_grad()\n",
    "    if current_solution.grad is not None:\n",
    "        current_solution.grad.zero_()\n",
    "    \n",
    "    # compute gradients w.r.t `current_solution`\n",
    "    current_loss.backward()\n",
    "    \n",
    "    # update current_solution\n",
    "    # optimizer.step()\n",
    "    with torch.no_grad():\n",
    "        current_solution -= 0.01 * current_solution.grad\n",
    "    \n",
    "    if i % 5 == 0:\n",
    "        display.clear_output(wait=True)\n",
    "        \n",
    "        x = torch.linspace(-100, 100, 100)\n",
    "        y = func(x)\n",
    "\n",
    "        plt.plot(x, y)\n",
    "        plt.scatter([10], [14], label='Minimum', c='red', linewidths=3)\n",
    "        plt.scatter([current_solution.item()], [current_loss.item()],\n",
    "                    label='Current Solution', marker='*', c='green', linewidths=3)\n",
    "        \n",
    "        plt.legend()\n",
    "        plt.grid()\n",
    "        plt.title(f'Step №{i}')\n",
    "        plt.show()\n",
    "        \n",
    "        time.sleep(0.01)"
   ]
  },
  {
   "cell_type": "markdown",
   "metadata": {
    "id": "7ajMTRlqVqqJ"
   },
   "source": [
    "## Dataset API\n",
    "    PyTorch provides convenient functionality for working with data during neural network training."
   ]
  },
  {
   "cell_type": "code",
   "execution_count": 35,
   "metadata": {
    "id": "wt5FE6KhVqqJ"
   },
   "outputs": [],
   "source": [
    "from torch.utils.data import DataLoader, Dataset"
   ]
  },
  {
   "cell_type": "markdown",
   "metadata": {
    "id": "qXtWStwdVqqJ"
   },
   "source": [
    "    The `Dataset` is a class that initializes our data somehow in the constructor.\n",
    "    It also has two main methods __getitem__ and __len__.\n",
    "    Let's make a simple dataset, where one element is a vector of size 5"
   ]
  },
  {
   "cell_type": "code",
   "execution_count": 36,
   "metadata": {
    "id": "WFpxOyOHVqqK"
   },
   "outputs": [],
   "source": [
    "class SimpleDataset(Dataset):\n",
    "    def __init__(self, data: torch.Tensor):\n",
    "        self.data = data\n",
    "    \n",
    "    def __getitem__(self, index: int):\n",
    "        return self.data[index]\n",
    "\n",
    "    def __len__(self):\n",
    "        return len(self.data)"
   ]
  },
  {
   "cell_type": "code",
   "execution_count": 37,
   "metadata": {
    "id": "9cKTTweHVqqK"
   },
   "outputs": [],
   "source": [
    "example_data = torch.randn(1000, 5)\n",
    "simple_dataset = SimpleDataset(example_data)"
   ]
  },
  {
   "cell_type": "code",
   "execution_count": 38,
   "metadata": {
    "colab": {
     "base_uri": "https://localhost:8080/"
    },
    "id": "dLwDtOfMVqqL",
    "outputId": "65c7a02c-d611-43ba-f950-4ed27e24eda5"
   },
   "outputs": [
    {
     "data": {
      "text/plain": [
       "tensor([-0.4030, -0.3552,  0.4386, -1.7475, -0.3576])"
      ]
     },
     "execution_count": 38,
     "metadata": {},
     "output_type": "execute_result"
    }
   ],
   "source": [
    "simple_dataset[10]"
   ]
  },
  {
   "cell_type": "code",
   "execution_count": 39,
   "metadata": {
    "colab": {
     "base_uri": "https://localhost:8080/"
    },
    "id": "dzmNnFLXVqqL",
    "outputId": "83a41128-4484-4813-f953-04ceff03565e"
   },
   "outputs": [
    {
     "data": {
      "text/plain": [
       "1000"
      ]
     },
     "execution_count": 39,
     "metadata": {},
     "output_type": "execute_result"
    }
   ],
   "source": [
    "len(simple_dataset)"
   ]
  },
  {
   "cell_type": "markdown",
   "metadata": {
    "id": "0pxMrNejVqqL"
   },
   "source": [
    "    Second important class is `Dataloader`.\n",
    "    It takes some objects from the dataset and gathers them into a batch."
   ]
  },
  {
   "cell_type": "code",
   "execution_count": 40,
   "metadata": {
    "id": "WBSvqnmYVqqL"
   },
   "outputs": [],
   "source": [
    "simple_dataloader = DataLoader(simple_dataset, batch_size=10)"
   ]
  },
  {
   "cell_type": "code",
   "execution_count": 41,
   "metadata": {
    "colab": {
     "base_uri": "https://localhost:8080/",
     "height": 66,
     "referenced_widgets": [
      "27e92b6b04af4fada400e9071e2386da",
      "e3950dd335564a46a7e07e0954794930",
      "d836e84bd4ba45b584020baa51e322b5",
      "db8d44c5721b44efb63e24a51a1fc5b9",
      "e8283e47d35542828457a5df989a2dd8",
      "9b73d84782934fbe8e78f54713e4af1f",
      "a6542de7a5ee4a89b5f66f271dee3e01",
      "8cfa45cc18f6487a8f66088463905829"
     ]
    },
    "id": "bqeqV-TQ02zO",
    "outputId": "e5ae4c87-615b-4cfb-e736-ec1258680ddc"
   },
   "outputs": [
    {
     "data": {
      "application/vnd.jupyter.widget-view+json": {
       "model_id": "7dd9317ad9e140fa947774fd802e15a4",
       "version_major": 2,
       "version_minor": 0
      },
      "text/plain": [
       "  0%|          | 0/100 [00:00<?, ?it/s]"
      ]
     },
     "metadata": {},
     "output_type": "display_data"
    }
   ],
   "source": [
    "import tqdm\n",
    "\n",
    "for batch in tqdm.notebook.tqdm(simple_dataloader):\n",
    "    time.sleep(0.1)"
   ]
  },
  {
   "cell_type": "markdown",
   "metadata": {
    "id": "-npP_eQ6VqqL"
   },
   "source": [
    "    Note that `simple_dataloader` is an iterator and has not yet done anything with the data.\n",
    "    Let's take a look at the first batсh"
   ]
  },
  {
   "cell_type": "code",
   "execution_count": 42,
   "metadata": {
    "colab": {
     "base_uri": "https://localhost:8080/"
    },
    "id": "E9mS3HY6VqqN",
    "outputId": "a05e730b-2f51-483b-8591-4af580ac6310"
   },
   "outputs": [
    {
     "name": "stdout",
     "output_type": "stream",
     "text": [
      "torch.Size([10, 5])\n",
      "tensor([[-7.5678e-02,  8.8770e-01, -2.2164e+00, -5.8907e-01,  4.2062e-01],\n",
      "        [ 1.0862e+00,  6.9495e-01,  4.6059e-02, -1.3115e-01,  1.4014e+00],\n",
      "        [-1.4376e-01, -5.4825e-01,  1.4541e-02, -4.8718e-01,  7.0213e-02],\n",
      "        [ 1.7122e-01,  5.3939e-01, -8.1925e-01,  1.6293e+00,  1.1460e+00],\n",
      "        [ 1.5937e-01, -6.9583e-01, -1.5457e+00,  7.1811e-04,  8.4963e-01],\n",
      "        [-5.1107e-02, -9.0138e-02,  3.2867e-01, -1.9148e+00,  3.9978e-01],\n",
      "        [-1.1088e-02, -3.5203e-01, -1.0841e+00,  7.6252e-01, -4.3472e-01],\n",
      "        [-8.7877e-01, -1.0690e-02, -3.8726e-02, -6.4324e-01,  1.1353e+00],\n",
      "        [-3.0002e-02, -4.5387e-02,  7.0337e-01,  1.2292e+00, -1.0766e+00],\n",
      "        [ 1.3644e+00,  9.8376e-01,  1.2896e+00,  9.9223e-01,  4.8856e-01]])\n"
     ]
    }
   ],
   "source": [
    "for batch in simple_dataloader:\n",
    "    first_batch = batch\n",
    "    print(first_batch.shape)\n",
    "    print(first_batch)\n",
    "    break"
   ]
  },
  {
   "cell_type": "markdown",
   "metadata": {
    "id": "EamfcjsEVqqN"
   },
   "source": [
    "    DataLoader has many arguments for detailed configuration. Check the documentation so you can use it in the future (https://pytorch.org/tutorials/beginner/data_loading_tutorial.html)"
   ]
  },
  {
   "cell_type": "markdown",
   "metadata": {
    "id": "ULYbGQ728R_f"
   },
   "source": [
    "## Utilizing GPU"
   ]
  },
  {
   "cell_type": "code",
   "execution_count": 43,
   "metadata": {
    "colab": {
     "base_uri": "https://localhost:8080/"
    },
    "id": "c1LPycNC8eFI",
    "outputId": "efba2682-5502-4c0b-9906-8e5b2ca96acf"
   },
   "outputs": [],
   "source": [
    "# ! nvidia-smi"
   ]
  },
  {
   "cell_type": "code",
   "execution_count": 44,
   "metadata": {
    "colab": {
     "base_uri": "https://localhost:8080/"
    },
    "id": "-LCRnivT8UHW",
    "outputId": "ef46419d-27f3-4579-ae1b-4ed233123a5e"
   },
   "outputs": [
    {
     "data": {
      "text/plain": [
       "device(type='cuda', index=0)"
      ]
     },
     "execution_count": 44,
     "metadata": {},
     "output_type": "execute_result"
    }
   ],
   "source": [
    "device = torch.device(\"cuda:0\" if torch.cuda.is_available() else \"cpu\")\n",
    "device"
   ]
  },
  {
   "cell_type": "code",
   "execution_count": 45,
   "metadata": {
    "colab": {
     "base_uri": "https://localhost:8080/"
    },
    "id": "vRx0bmTr8pCu",
    "outputId": "15995042-61d2-4963-f371-090a12a598bd"
   },
   "outputs": [
    {
     "name": "stdout",
     "output_type": "stream",
     "text": [
      "tensor([[4.8441e-03, 4.7164e-06, 6.9951e-03,  ..., 5.0241e-05, 2.0587e-11,\n",
      "         8.6722e-01],\n",
      "        [1.3946e-04, 1.6331e-02, 6.1319e-05,  ..., 7.4579e-03, 9.2129e-03,\n",
      "         7.4558e-01],\n",
      "        [1.9416e-01, 2.9042e-01, 4.3240e-04,  ..., 3.9056e-07, 5.2062e-03,\n",
      "         2.8086e-04],\n",
      "        ...,\n",
      "        [3.3279e-01, 4.6242e-01, 7.8469e-01,  ..., 1.9986e-24, 9.9650e-03,\n",
      "         5.3500e-05],\n",
      "        [2.1241e-10, 9.3812e-02, 5.7598e-02,  ..., 2.6577e-04, 4.7007e-03,\n",
      "         4.6789e-02],\n",
      "        [3.2216e-15, 3.1631e-12, 5.9959e-07,  ..., 7.8251e-02, 1.7634e-03,\n",
      "         5.0739e-02]])\n",
      "CPU times: user 6.24 s, sys: 684 ms, total: 6.93 s\n",
      "Wall time: 3.21 s\n"
     ]
    }
   ],
   "source": [
    "%%time\n",
    "# CPU\n",
    "x = torch.rand((20000, 20000))\n",
    "print(x.pow(10))"
   ]
  },
  {
   "cell_type": "code",
   "execution_count": 46,
   "metadata": {
    "colab": {
     "base_uri": "https://localhost:8080/"
    },
    "id": "Yt4Ysa3Y9ruM",
    "outputId": "6b33450e-63d5-41af-80e0-3c24058aaf77"
   },
   "outputs": [
    {
     "name": "stdout",
     "output_type": "stream",
     "text": [
      "tensor([[5.9021e-02, 2.4558e-03, 9.5332e-07,  ..., 8.1174e-01, 2.1897e-01,\n",
      "         7.5848e-02],\n",
      "        [1.1012e-02, 1.5509e-05, 1.2965e-05,  ..., 3.5542e-14, 2.8760e-06,\n",
      "         6.7591e-01],\n",
      "        [1.4942e-03, 4.9415e-05, 1.1041e-02,  ..., 1.1787e-02, 5.3321e-03,\n",
      "         6.7100e-04],\n",
      "        ...,\n",
      "        [2.1088e-15, 5.1318e-06, 1.1082e-09,  ..., 1.0246e-11, 7.9610e-01,\n",
      "         4.4332e-01],\n",
      "        [1.8979e-02, 3.6945e-01, 4.4678e-05,  ..., 5.0840e-02, 6.5210e-01,\n",
      "         7.8161e-01],\n",
      "        [3.2478e-02, 5.4685e-05, 9.9137e-14,  ..., 2.1606e-05, 1.9093e-01,\n",
      "         1.2761e-05]], device='cuda:0')\n",
      "CPU times: user 1.65 s, sys: 711 ms, total: 2.37 s\n",
      "Wall time: 2.37 s\n"
     ]
    }
   ],
   "source": [
    "%%time\n",
    "# GPU (200x faster) (may have to run one more time because of the initialization time)\n",
    "x = torch.rand((20000, 20000), device=device)\n",
    "print(x.pow(10))"
   ]
  }
 ],
 "metadata": {
  "accelerator": "GPU",
  "colab": {
   "collapsed_sections": [],
   "name": "week02_introduction_to_pytorch_framework.ipynb",
   "provenance": []
  },
  "kernelspec": {
   "display_name": "i2dl",
   "language": "python",
   "name": "i2dl"
  },
  "language_info": {
   "codemirror_mode": {
    "name": "ipython",
    "version": 3
   },
   "file_extension": ".py",
   "mimetype": "text/x-python",
   "name": "python",
   "nbconvert_exporter": "python",
   "pygments_lexer": "ipython3",
   "version": "3.7.0"
  },
  "widgets": {
   "application/vnd.jupyter.widget-state+json": {
    "27e92b6b04af4fada400e9071e2386da": {
     "model_module": "@jupyter-widgets/controls",
     "model_name": "HBoxModel",
     "state": {
      "_dom_classes": [],
      "_model_module": "@jupyter-widgets/controls",
      "_model_module_version": "1.5.0",
      "_model_name": "HBoxModel",
      "_view_count": null,
      "_view_module": "@jupyter-widgets/controls",
      "_view_module_version": "1.5.0",
      "_view_name": "HBoxView",
      "box_style": "",
      "children": [
       "IPY_MODEL_d836e84bd4ba45b584020baa51e322b5",
       "IPY_MODEL_db8d44c5721b44efb63e24a51a1fc5b9"
      ],
      "layout": "IPY_MODEL_e3950dd335564a46a7e07e0954794930"
     }
    },
    "8cfa45cc18f6487a8f66088463905829": {
     "model_module": "@jupyter-widgets/base",
     "model_name": "LayoutModel",
     "state": {
      "_model_module": "@jupyter-widgets/base",
      "_model_module_version": "1.2.0",
      "_model_name": "LayoutModel",
      "_view_count": null,
      "_view_module": "@jupyter-widgets/base",
      "_view_module_version": "1.2.0",
      "_view_name": "LayoutView",
      "align_content": null,
      "align_items": null,
      "align_self": null,
      "border": null,
      "bottom": null,
      "display": null,
      "flex": null,
      "flex_flow": null,
      "grid_area": null,
      "grid_auto_columns": null,
      "grid_auto_flow": null,
      "grid_auto_rows": null,
      "grid_column": null,
      "grid_gap": null,
      "grid_row": null,
      "grid_template_areas": null,
      "grid_template_columns": null,
      "grid_template_rows": null,
      "height": null,
      "justify_content": null,
      "justify_items": null,
      "left": null,
      "margin": null,
      "max_height": null,
      "max_width": null,
      "min_height": null,
      "min_width": null,
      "object_fit": null,
      "object_position": null,
      "order": null,
      "overflow": null,
      "overflow_x": null,
      "overflow_y": null,
      "padding": null,
      "right": null,
      "top": null,
      "visibility": null,
      "width": null
     }
    },
    "9b73d84782934fbe8e78f54713e4af1f": {
     "model_module": "@jupyter-widgets/base",
     "model_name": "LayoutModel",
     "state": {
      "_model_module": "@jupyter-widgets/base",
      "_model_module_version": "1.2.0",
      "_model_name": "LayoutModel",
      "_view_count": null,
      "_view_module": "@jupyter-widgets/base",
      "_view_module_version": "1.2.0",
      "_view_name": "LayoutView",
      "align_content": null,
      "align_items": null,
      "align_self": null,
      "border": null,
      "bottom": null,
      "display": null,
      "flex": null,
      "flex_flow": null,
      "grid_area": null,
      "grid_auto_columns": null,
      "grid_auto_flow": null,
      "grid_auto_rows": null,
      "grid_column": null,
      "grid_gap": null,
      "grid_row": null,
      "grid_template_areas": null,
      "grid_template_columns": null,
      "grid_template_rows": null,
      "height": null,
      "justify_content": null,
      "justify_items": null,
      "left": null,
      "margin": null,
      "max_height": null,
      "max_width": null,
      "min_height": null,
      "min_width": null,
      "object_fit": null,
      "object_position": null,
      "order": null,
      "overflow": null,
      "overflow_x": null,
      "overflow_y": null,
      "padding": null,
      "right": null,
      "top": null,
      "visibility": null,
      "width": null
     }
    },
    "a6542de7a5ee4a89b5f66f271dee3e01": {
     "model_module": "@jupyter-widgets/controls",
     "model_name": "DescriptionStyleModel",
     "state": {
      "_model_module": "@jupyter-widgets/controls",
      "_model_module_version": "1.5.0",
      "_model_name": "DescriptionStyleModel",
      "_view_count": null,
      "_view_module": "@jupyter-widgets/base",
      "_view_module_version": "1.2.0",
      "_view_name": "StyleView",
      "description_width": ""
     }
    },
    "d836e84bd4ba45b584020baa51e322b5": {
     "model_module": "@jupyter-widgets/controls",
     "model_name": "FloatProgressModel",
     "state": {
      "_dom_classes": [],
      "_model_module": "@jupyter-widgets/controls",
      "_model_module_version": "1.5.0",
      "_model_name": "FloatProgressModel",
      "_view_count": null,
      "_view_module": "@jupyter-widgets/controls",
      "_view_module_version": "1.5.0",
      "_view_name": "ProgressView",
      "bar_style": "success",
      "description": "100%",
      "description_tooltip": null,
      "layout": "IPY_MODEL_9b73d84782934fbe8e78f54713e4af1f",
      "max": 100,
      "min": 0,
      "orientation": "horizontal",
      "style": "IPY_MODEL_e8283e47d35542828457a5df989a2dd8",
      "value": 100
     }
    },
    "db8d44c5721b44efb63e24a51a1fc5b9": {
     "model_module": "@jupyter-widgets/controls",
     "model_name": "HTMLModel",
     "state": {
      "_dom_classes": [],
      "_model_module": "@jupyter-widgets/controls",
      "_model_module_version": "1.5.0",
      "_model_name": "HTMLModel",
      "_view_count": null,
      "_view_module": "@jupyter-widgets/controls",
      "_view_module_version": "1.5.0",
      "_view_name": "HTMLView",
      "description": "",
      "description_tooltip": null,
      "layout": "IPY_MODEL_8cfa45cc18f6487a8f66088463905829",
      "placeholder": "​",
      "style": "IPY_MODEL_a6542de7a5ee4a89b5f66f271dee3e01",
      "value": " 100/100 [00:10&lt;00:00,  9.80it/s]"
     }
    },
    "e3950dd335564a46a7e07e0954794930": {
     "model_module": "@jupyter-widgets/base",
     "model_name": "LayoutModel",
     "state": {
      "_model_module": "@jupyter-widgets/base",
      "_model_module_version": "1.2.0",
      "_model_name": "LayoutModel",
      "_view_count": null,
      "_view_module": "@jupyter-widgets/base",
      "_view_module_version": "1.2.0",
      "_view_name": "LayoutView",
      "align_content": null,
      "align_items": null,
      "align_self": null,
      "border": null,
      "bottom": null,
      "display": null,
      "flex": null,
      "flex_flow": null,
      "grid_area": null,
      "grid_auto_columns": null,
      "grid_auto_flow": null,
      "grid_auto_rows": null,
      "grid_column": null,
      "grid_gap": null,
      "grid_row": null,
      "grid_template_areas": null,
      "grid_template_columns": null,
      "grid_template_rows": null,
      "height": null,
      "justify_content": null,
      "justify_items": null,
      "left": null,
      "margin": null,
      "max_height": null,
      "max_width": null,
      "min_height": null,
      "min_width": null,
      "object_fit": null,
      "object_position": null,
      "order": null,
      "overflow": null,
      "overflow_x": null,
      "overflow_y": null,
      "padding": null,
      "right": null,
      "top": null,
      "visibility": null,
      "width": null
     }
    },
    "e8283e47d35542828457a5df989a2dd8": {
     "model_module": "@jupyter-widgets/controls",
     "model_name": "ProgressStyleModel",
     "state": {
      "_model_module": "@jupyter-widgets/controls",
      "_model_module_version": "1.5.0",
      "_model_name": "ProgressStyleModel",
      "_view_count": null,
      "_view_module": "@jupyter-widgets/base",
      "_view_module_version": "1.2.0",
      "_view_name": "StyleView",
      "bar_color": null,
      "description_width": "initial"
     }
    }
   }
  }
 },
 "nbformat": 4,
 "nbformat_minor": 1
}
