{
 "cells": [
  {
   "cell_type": "code",
   "execution_count": 1,
   "metadata": {
    "id": "zX4Kg8DUTKWO"
   },
   "outputs": [],
   "source": [
    "#@title Licensed under the Apache License, Version 2.0 (the \"License\");\n",
    "# you may not use this file except in compliance with the License.\n",
    "# You may obtain a copy of the License at\n",
    "#\n",
    "# https://www.apache.org/licenses/LICENSE-2.0\n",
    "#\n",
    "# Unless required by applicable law or agreed to in writing, software\n",
    "# distributed under the License is distributed on an \"AS IS\" BASIS,\n",
    "# WITHOUT WARRANTIES OR CONDITIONS OF ANY KIND, either express or implied.\n",
    "# See the License for the specific language governing permissions and\n",
    "# limitations under the License."
   ]
  },
  {
   "cell_type": "code",
   "execution_count": 2,
   "metadata": {
    "id": "BOwsuGQQY9OL"
   },
   "outputs": [],
   "source": [
    "from tensorflow.keras.preprocessing.sequence import pad_sequences\n",
    "from tensorflow.keras.layers import Embedding, LSTM, Dense, Dropout, Bidirectional\n",
    "from tensorflow.keras.preprocessing.text import Tokenizer\n",
    "from tensorflow.keras.models import Sequential\n",
    "from tensorflow.keras.optimizers import Adam\n",
    "from tensorflow.keras import regularizers\n",
    "import tensorflow.keras.utils as ku \n",
    "import numpy as np "
   ]
  },
  {
   "cell_type": "code",
   "execution_count": 3,
   "metadata": {
    "id": "PRnDnCW-Z7qv"
   },
   "outputs": [],
   "source": [
    "tokenizer = Tokenizer()\n",
    "# !wget --no-check-certificate \\\n",
    "#     https://storage.googleapis.com/laurencemoroney-blog.appspot.com/sonnets.txt \\\n",
    "#     -O /tmp/sonnets.txt\n",
    "data = open('./sonnets.txt').read()\n",
    "\n",
    "corpus = data.lower().split(\"\\n\")\n",
    "\n",
    "\n",
    "tokenizer.fit_on_texts(corpus)\n",
    "total_words = len(tokenizer.word_index) + 1\n",
    "\n",
    "# create input sequences using list of tokens\n",
    "input_sequences = []\n",
    "for line in corpus:\n",
    "    token_list = tokenizer.texts_to_sequences([line])[0]\n",
    "    for i in range(1, len(token_list)):\n",
    "        n_gram_sequence = token_list[:i+1]\n",
    "        input_sequences.append(n_gram_sequence)\n",
    "\n",
    "\n",
    "# pad sequences \n",
    "max_sequence_len = max([len(x) for x in input_sequences])\n",
    "input_sequences = np.array(pad_sequences(input_sequences, maxlen=max_sequence_len, padding='pre'))\n",
    "\n",
    "# create predictors and label\n",
    "predictors, label = input_sequences[:,:-1],input_sequences[:,-1]\n",
    "\n",
    "label = ku.to_categorical(label, num_classes=total_words)"
   ]
  },
  {
   "cell_type": "code",
   "execution_count": 4,
   "metadata": {
    "id": "w9vH8Y59ajYL"
   },
   "outputs": [
    {
     "name": "stdout",
     "output_type": "stream",
     "text": [
      "Model: \"sequential\"\n",
      "_________________________________________________________________\n",
      "Layer (type)                 Output Shape              Param #   \n",
      "=================================================================\n",
      "embedding (Embedding)        (None, 10, 100)           321100    \n",
      "_________________________________________________________________\n",
      "bidirectional (Bidirectional (None, 10, 300)           301200    \n",
      "_________________________________________________________________\n",
      "dropout (Dropout)            (None, 10, 300)           0         \n",
      "_________________________________________________________________\n",
      "lstm_1 (LSTM)                (None, 100)               160400    \n",
      "_________________________________________________________________\n",
      "dense (Dense)                (None, 1605)              162105    \n",
      "_________________________________________________________________\n",
      "dense_1 (Dense)              (None, 3211)              5156866   \n",
      "=================================================================\n",
      "Total params: 6,101,671\n",
      "Trainable params: 6,101,671\n",
      "Non-trainable params: 0\n",
      "_________________________________________________________________\n",
      "None\n"
     ]
    }
   ],
   "source": [
    "model = Sequential()\n",
    "model.add(Embedding(total_words, 100, input_length=max_sequence_len-1))\n",
    "model.add(Bidirectional(LSTM(150, return_sequences = True)))\n",
    "model.add(Dropout(0.2))\n",
    "model.add(LSTM(100))\n",
    "model.add(Dense(total_words/2, activation='relu', kernel_regularizer=regularizers.l2(0.01)))\n",
    "model.add(Dense(total_words, activation='softmax'))\n",
    "model.compile(loss='categorical_crossentropy', optimizer='adam', metrics=['accuracy'])\n",
    "print(model.summary())"
   ]
  },
  {
   "cell_type": "code",
   "execution_count": 5,
   "metadata": {
    "id": "AIg2f1HBxqof"
   },
   "outputs": [
    {
     "name": "stdout",
     "output_type": "stream",
     "text": [
      "Epoch 1/100\n",
      "484/484 [==============================] - 24s 50ms/step - loss: 6.9131 - accuracy: 0.0205\n",
      "Epoch 2/100\n",
      "484/484 [==============================] - 24s 50ms/step - loss: 6.5013 - accuracy: 0.0215\n",
      "Epoch 3/100\n",
      "484/484 [==============================] - 24s 50ms/step - loss: 6.4019 - accuracy: 0.0243\n",
      "Epoch 4/100\n",
      "484/484 [==============================] - 24s 51ms/step - loss: 6.2922 - accuracy: 0.0318\n",
      "Epoch 5/100\n",
      "484/484 [==============================] - 25s 51ms/step - loss: 6.1902 - accuracy: 0.0354\n",
      "Epoch 6/100\n",
      "484/484 [==============================] - 25s 51ms/step - loss: 6.0969 - accuracy: 0.0374\n",
      "Epoch 7/100\n",
      "484/484 [==============================] - 25s 51ms/step - loss: 6.0161 - accuracy: 0.0413\n",
      "Epoch 8/100\n",
      "484/484 [==============================] - 25s 51ms/step - loss: 5.9217 - accuracy: 0.0474\n",
      "Epoch 9/100\n",
      "484/484 [==============================] - 25s 52ms/step - loss: 5.8148 - accuracy: 0.0560\n",
      "Epoch 10/100\n",
      "484/484 [==============================] - 25s 51ms/step - loss: 5.7022 - accuracy: 0.0616\n",
      "Epoch 11/100\n",
      "484/484 [==============================] - 25s 51ms/step - loss: 5.5978 - accuracy: 0.0679\n",
      "Epoch 12/100\n",
      "484/484 [==============================] - 25s 51ms/step - loss: 5.4875 - accuracy: 0.0737\n",
      "Epoch 13/100\n",
      "484/484 [==============================] - 24s 49ms/step - loss: 5.3858 - accuracy: 0.0790\n",
      "Epoch 14/100\n",
      "484/484 [==============================] - 24s 49ms/step - loss: 5.2870 - accuracy: 0.0861\n",
      "Epoch 15/100\n",
      "484/484 [==============================] - 24s 49ms/step - loss: 5.1826 - accuracy: 0.0909\n",
      "Epoch 16/100\n",
      "484/484 [==============================] - 24s 49ms/step - loss: 5.0837 - accuracy: 0.0992\n",
      "Epoch 17/100\n",
      "484/484 [==============================] - 24s 49ms/step - loss: 4.9857 - accuracy: 0.1079\n",
      "Epoch 18/100\n",
      "484/484 [==============================] - 26s 53ms/step - loss: 4.8843 - accuracy: 0.1135\n",
      "Epoch 19/100\n",
      "484/484 [==============================] - 25s 53ms/step - loss: 4.7883 - accuracy: 0.1220\n",
      "Epoch 20/100\n",
      "484/484 [==============================] - 25s 52ms/step - loss: 4.6911 - accuracy: 0.1299\n",
      "Epoch 21/100\n",
      "484/484 [==============================] - 25s 52ms/step - loss: 4.5992 - accuracy: 0.1394\n",
      "Epoch 22/100\n",
      "484/484 [==============================] - 25s 52ms/step - loss: 4.4966 - accuracy: 0.1484\n",
      "Epoch 23/100\n",
      "484/484 [==============================] - 25s 52ms/step - loss: 4.4010 - accuracy: 0.1608\n",
      "Epoch 24/100\n",
      "484/484 [==============================] - 25s 52ms/step - loss: 4.3018 - accuracy: 0.1685\n",
      "Epoch 25/100\n",
      "484/484 [==============================] - 25s 52ms/step - loss: 4.2066 - accuracy: 0.1821\n",
      "Epoch 26/100\n",
      "484/484 [==============================] - 25s 52ms/step - loss: 4.1089 - accuracy: 0.1953\n",
      "Epoch 27/100\n",
      "484/484 [==============================] - 25s 51ms/step - loss: 4.0177 - accuracy: 0.2078\n",
      "Epoch 28/100\n",
      "484/484 [==============================] - 25s 52ms/step - loss: 3.9139 - accuracy: 0.2228\n",
      "Epoch 29/100\n",
      "484/484 [==============================] - 25s 52ms/step - loss: 3.8211 - accuracy: 0.2382\n",
      "Epoch 30/100\n",
      "484/484 [==============================] - 25s 52ms/step - loss: 3.7272 - accuracy: 0.2562\n",
      "Epoch 31/100\n",
      "484/484 [==============================] - 25s 52ms/step - loss: 3.6391 - accuracy: 0.2716\n",
      "Epoch 32/100\n",
      "484/484 [==============================] - 25s 52ms/step - loss: 3.5469 - accuracy: 0.2886\n",
      "Epoch 33/100\n",
      "484/484 [==============================] - 25s 51ms/step - loss: 3.4679 - accuracy: 0.3029\n",
      "Epoch 34/100\n",
      "484/484 [==============================] - 25s 51ms/step - loss: 3.3747 - accuracy: 0.3263\n",
      "Epoch 35/100\n",
      "484/484 [==============================] - 25s 52ms/step - loss: 3.2886 - accuracy: 0.3472\n",
      "Epoch 36/100\n",
      "484/484 [==============================] - 25s 52ms/step - loss: 3.2042 - accuracy: 0.3633\n",
      "Epoch 37/100\n",
      "484/484 [==============================] - 25s 52ms/step - loss: 3.1488 - accuracy: 0.3749\n",
      "Epoch 38/100\n",
      "484/484 [==============================] - 25s 52ms/step - loss: 3.0762 - accuracy: 0.3945\n",
      "Epoch 39/100\n",
      "484/484 [==============================] - 25s 51ms/step - loss: 2.9982 - accuracy: 0.4103\n",
      "Epoch 40/100\n",
      "484/484 [==============================] - 25s 52ms/step - loss: 2.9279 - accuracy: 0.4272\n",
      "Epoch 41/100\n",
      "484/484 [==============================] - 24s 50ms/step - loss: 2.8536 - accuracy: 0.4430\n",
      "Epoch 42/100\n",
      "484/484 [==============================] - 26s 53ms/step - loss: 2.7903 - accuracy: 0.4611\n",
      "Epoch 43/100\n",
      "484/484 [==============================] - 25s 53ms/step - loss: 2.7365 - accuracy: 0.4673\n",
      "Epoch 44/100\n",
      "484/484 [==============================] - 26s 53ms/step - loss: 2.6622 - accuracy: 0.4855\n",
      "Epoch 45/100\n",
      "484/484 [==============================] - 26s 53ms/step - loss: 2.6082 - accuracy: 0.4971\n",
      "Epoch 46/100\n",
      "484/484 [==============================] - 25s 51ms/step - loss: 2.5609 - accuracy: 0.5117\n",
      "Epoch 47/100\n",
      "484/484 [==============================] - 26s 53ms/step - loss: 2.5020 - accuracy: 0.5261\n",
      "Epoch 48/100\n",
      "484/484 [==============================] - 26s 54ms/step - loss: 2.4445 - accuracy: 0.5373\n",
      "Epoch 49/100\n",
      "484/484 [==============================] - 24s 50ms/step - loss: 2.3925 - accuracy: 0.5511\n",
      "Epoch 50/100\n",
      "484/484 [==============================] - 25s 51ms/step - loss: 2.3480 - accuracy: 0.5567\n",
      "Epoch 51/100\n",
      "484/484 [==============================] - 25s 53ms/step - loss: 2.3061 - accuracy: 0.5711\n",
      "Epoch 52/100\n",
      "484/484 [==============================] - 28s 57ms/step - loss: 2.2535 - accuracy: 0.5811\n",
      "Epoch 53/100\n",
      "484/484 [==============================] - 25s 51ms/step - loss: 2.2067 - accuracy: 0.5899\n",
      "Epoch 54/100\n",
      "484/484 [==============================] - 25s 52ms/step - loss: 2.1616 - accuracy: 0.5976\n",
      "Epoch 55/100\n",
      "484/484 [==============================] - 26s 54ms/step - loss: 2.1100 - accuracy: 0.6128\n",
      "Epoch 56/100\n",
      "484/484 [==============================] - 24s 50ms/step - loss: 2.0857 - accuracy: 0.6152\n",
      "Epoch 57/100\n",
      "484/484 [==============================] - 24s 50ms/step - loss: 2.0466 - accuracy: 0.6254\n",
      "Epoch 58/100\n",
      "484/484 [==============================] - 26s 53ms/step - loss: 2.0107 - accuracy: 0.6332\n",
      "Epoch 59/100\n",
      "484/484 [==============================] - 24s 50ms/step - loss: 1.9648 - accuracy: 0.6441\n",
      "Epoch 60/100\n",
      "484/484 [==============================] - 24s 50ms/step - loss: 1.9332 - accuracy: 0.6516\n",
      "Epoch 61/100\n",
      "484/484 [==============================] - 25s 52ms/step - loss: 1.8993 - accuracy: 0.6544\n",
      "Epoch 62/100\n",
      "484/484 [==============================] - 26s 54ms/step - loss: 1.8649 - accuracy: 0.6662\n",
      "Epoch 63/100\n",
      "484/484 [==============================] - 26s 53ms/step - loss: 1.8450 - accuracy: 0.6675\n",
      "Epoch 64/100\n",
      "484/484 [==============================] - 26s 54ms/step - loss: 1.7966 - accuracy: 0.6806\n",
      "Epoch 65/100\n",
      "484/484 [==============================] - 25s 52ms/step - loss: 1.7705 - accuracy: 0.6868\n",
      "Epoch 66/100\n",
      "484/484 [==============================] - 25s 51ms/step - loss: 1.7522 - accuracy: 0.6875\n",
      "Epoch 67/100\n",
      "484/484 [==============================] - 25s 51ms/step - loss: 1.7225 - accuracy: 0.6978\n",
      "Epoch 68/100\n",
      "484/484 [==============================] - 25s 51ms/step - loss: 1.6909 - accuracy: 0.7018\n",
      "Epoch 69/100\n",
      "484/484 [==============================] - 24s 50ms/step - loss: 1.6643 - accuracy: 0.7083\n",
      "Epoch 70/100\n",
      "484/484 [==============================] - 24s 50ms/step - loss: 1.6389 - accuracy: 0.7145\n",
      "Epoch 71/100\n",
      "484/484 [==============================] - 25s 51ms/step - loss: 1.6017 - accuracy: 0.7211\n",
      "Epoch 72/100\n",
      "484/484 [==============================] - 25s 52ms/step - loss: 1.5841 - accuracy: 0.7233\n",
      "Epoch 73/100\n",
      "484/484 [==============================] - 25s 52ms/step - loss: 1.5625 - accuracy: 0.7276\n",
      "Epoch 74/100\n",
      "484/484 [==============================] - 26s 54ms/step - loss: 1.5629 - accuracy: 0.7293\n",
      "Epoch 75/100\n",
      "484/484 [==============================] - 25s 51ms/step - loss: 1.5273 - accuracy: 0.7325\n",
      "Epoch 76/100\n",
      "484/484 [==============================] - 26s 53ms/step - loss: 1.5070 - accuracy: 0.7388\n",
      "Epoch 77/100\n",
      "484/484 [==============================] - 26s 54ms/step - loss: 1.4797 - accuracy: 0.7474\n",
      "Epoch 78/100\n",
      "484/484 [==============================] - 24s 50ms/step - loss: 1.4614 - accuracy: 0.7476\n",
      "Epoch 79/100\n"
     ]
    },
    {
     "name": "stdout",
     "output_type": "stream",
     "text": [
      "484/484 [==============================] - 24s 50ms/step - loss: 1.4338 - accuracy: 0.7567\n",
      "Epoch 80/100\n",
      "484/484 [==============================] - 24s 50ms/step - loss: 1.4293 - accuracy: 0.7516\n",
      "Epoch 81/100\n",
      "484/484 [==============================] - 27s 55ms/step - loss: 1.4144 - accuracy: 0.7546\n",
      "Epoch 82/100\n",
      "484/484 [==============================] - 25s 53ms/step - loss: 1.3854 - accuracy: 0.7634\n",
      "Epoch 83/100\n",
      "484/484 [==============================] - 25s 51ms/step - loss: 1.3795 - accuracy: 0.7613\n",
      "Epoch 84/100\n",
      "484/484 [==============================] - 25s 52ms/step - loss: 1.3700 - accuracy: 0.7664\n",
      "Epoch 85/100\n",
      "484/484 [==============================] - 26s 53ms/step - loss: 1.3456 - accuracy: 0.7687\n",
      "Epoch 86/100\n",
      "484/484 [==============================] - 26s 53ms/step - loss: 1.3217 - accuracy: 0.7728\n",
      "Epoch 87/100\n",
      "484/484 [==============================] - 24s 50ms/step - loss: 1.3145 - accuracy: 0.7740\n",
      "Epoch 88/100\n",
      "484/484 [==============================] - 24s 50ms/step - loss: 1.3035 - accuracy: 0.7766\n",
      "Epoch 89/100\n",
      "484/484 [==============================] - 25s 51ms/step - loss: 1.2984 - accuracy: 0.7765\n",
      "Epoch 90/100\n",
      "484/484 [==============================] - 25s 52ms/step - loss: 1.2719 - accuracy: 0.7817\n",
      "Epoch 91/100\n",
      "484/484 [==============================] - 25s 52ms/step - loss: 1.2597 - accuracy: 0.7851\n",
      "Epoch 92/100\n",
      "484/484 [==============================] - 25s 52ms/step - loss: 1.2527 - accuracy: 0.7838\n",
      "Epoch 93/100\n",
      "484/484 [==============================] - 28s 57ms/step - loss: 1.2460 - accuracy: 0.7826\n",
      "Epoch 94/100\n",
      "484/484 [==============================] - 25s 52ms/step - loss: 1.2181 - accuracy: 0.7908\n",
      "Epoch 95/100\n",
      "484/484 [==============================] - 25s 52ms/step - loss: 1.2097 - accuracy: 0.7907\n",
      "Epoch 96/100\n",
      "484/484 [==============================] - 25s 51ms/step - loss: 1.2106 - accuracy: 0.7894\n",
      "Epoch 97/100\n",
      "484/484 [==============================] - 25s 53ms/step - loss: 1.1920 - accuracy: 0.7966\n",
      "Epoch 98/100\n",
      "484/484 [==============================] - 25s 51ms/step - loss: 1.1720 - accuracy: 0.7983\n",
      "Epoch 99/100\n",
      "484/484 [==============================] - 26s 54ms/step - loss: 1.1606 - accuracy: 0.7995\n",
      "Epoch 100/100\n",
      "484/484 [==============================] - 25s 51ms/step - loss: 1.1572 - accuracy: 0.8020\n"
     ]
    }
   ],
   "source": [
    " history = model.fit(predictors, label, epochs=100, verbose=1)"
   ]
  },
  {
   "cell_type": "code",
   "execution_count": 6,
   "metadata": {
    "id": "1fXTEO3GJ282"
   },
   "outputs": [
    {
     "data": {
      "image/png": "[encoded data removed]",
      "text/plain": [
       "<Figure size 432x288 with 1 Axes>"
      ]
     },
     "metadata": {
      "needs_background": "light"
     },
     "output_type": "display_data"
    },
    {
     "data": {
      "image/png": "[encoded data removed]",
      "text/plain": [
       "<Figure size 432x288 with 1 Axes>"
      ]
     },
     "metadata": {
      "needs_background": "light"
     },
     "output_type": "display_data"
    }
   ],
   "source": [
    "import matplotlib.pyplot as plt\n",
    "acc = history.history['accuracy']\n",
    "loss = history.history['loss']\n",
    "\n",
    "epochs = range(len(acc))\n",
    "\n",
    "plt.plot(epochs, acc, 'b', label='Training accuracy')\n",
    "plt.title('Training accuracy')\n",
    "\n",
    "plt.figure()\n",
    "\n",
    "plt.plot(epochs, loss, 'b', label='Training Loss')\n",
    "plt.title('Training loss')\n",
    "plt.legend()\n",
    "\n",
    "plt.show()"
   ]
  },
  {
   "cell_type": "code",
   "execution_count": 7,
   "metadata": {},
   "outputs": [],
   "source": [
    "model.save('sonnets.h5')"
   ]
  },
  {
   "cell_type": "code",
   "execution_count": 9,
   "metadata": {
    "id": "6Vc6PHgxa6Hm"
   },
   "outputs": [
    {
     "name": "stdout",
     "output_type": "stream",
     "text": [
      "Help me Obi Wan Kenobi, you're my only hope surmise mad did frame prove prove wrong back offence threw offence give 'will' or new 'will' or forth born on too delight decrease gay dyed fall there lack days had lived shows till remain beloved might hence defy last up forth pain lie still forth cross forth thee ' lived still one alone none seen hide thine best much show men date mother sad cries none brought to lend thee light give crave forth thee meet seen fill some cured part on seen will spend remain groan shows down till seen she seen brought to store by convert convert date\n"
     ]
    }
   ],
   "source": [
    "seed_text = \"Help me Obi Wan Kenobi, you're my only hope\"\n",
    "next_words = 100\n",
    "  \n",
    "for _ in range(next_words):\n",
    "    token_list = tokenizer.texts_to_sequences([seed_text])[0]\n",
    "    token_list = pad_sequences([token_list], maxlen=max_sequence_len-1, padding='pre')\n",
    "    predicted = np.argmax(model.predict(token_list, verbose=0), axis=-1)\n",
    "    output_word = \"\"\n",
    "    for word, index in tokenizer.word_index.items():\n",
    "        if index == predicted:\n",
    "            output_word = word\n",
    "            break\n",
    "    seed_text += \" \" + output_word\n",
    "print(seed_text)"
   ]
  },
  {
   "cell_type": "code",
   "execution_count": null,
   "metadata": {},
   "outputs": [],
   "source": []
  }
 ],
 "metadata": {
  "accelerator": "GPU",
  "colab": {
   "name": "NLP_Week4_Exercise_Shakespeare_Answer.ipynb",
   "provenance": []
  },
  "kernelspec": {
   "display_name": "Python 3",
   "language": "python",
   "name": "python3"
  },
  "language_info": {
   "codemirror_mode": {
    "name": "ipython",
    "version": 3
   },
   "file_extension": ".py",
   "mimetype": "text/x-python",
   "name": "python",
   "nbconvert_exporter": "python",
   "pygments_lexer": "ipython3",
   "version": "3.8.3"
  }
 },
 "nbformat": 4,
 "nbformat_minor": 1
}
