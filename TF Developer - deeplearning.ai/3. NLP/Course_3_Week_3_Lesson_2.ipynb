{
 "cells": [
  {
   "cell_type": "code",
   "execution_count": 1,
   "metadata": {
    "id": "zX4Kg8DUTKWO"
   },
   "outputs": [],
   "source": [
    "#@title Licensed under the Apache License, Version 2.0 (the \"License\");\n",
    "# you may not use this file except in compliance with the License.\n",
    "# You may obtain a copy of the License at\n",
    "#\n",
    "# https://www.apache.org/licenses/LICENSE-2.0\n",
    "#\n",
    "# Unless required by applicable law or agreed to in writing, software\n",
    "# distributed under the License is distributed on an \"AS IS\" BASIS,\n",
    "# WITHOUT WARRANTIES OR CONDITIONS OF ANY KIND, either express or implied.\n",
    "# See the License for the specific language governing permissions and\n",
    "# limitations under the License."
   ]
  },
  {
   "cell_type": "markdown",
   "metadata": {
    "id": "jjjDJJS13lXH"
   },
   "source": [
    "<a href=\"https://colab.research.google.com/github/lmoroney/dlaicourse/blob/master/TensorFlow%20In%20Practice/Course%203%20-%20NLP/Course%203%20-%20Week%203%20-%20Lesson%202.ipynb\" target=\"_parent\"><img src=\"https://colab.research.google.com/assets/colab-badge.svg\" alt=\"Open In Colab\"/></a>"
   ]
  },
  {
   "cell_type": "code",
   "execution_count": 2,
   "metadata": {
    "id": "jGwXGIXvFhXW"
   },
   "outputs": [
    {
     "name": "stdout",
     "output_type": "stream",
     "text": [
      "Model: \"sequential\"\n",
      "_________________________________________________________________\n",
      "Layer (type)                 Output Shape              Param #   \n",
      "=================================================================\n",
      "embedding (Embedding)        (None, 120, 16)           16000     \n",
      "_________________________________________________________________\n",
      "bidirectional (Bidirectional (None, 64)                12544     \n",
      "_________________________________________________________________\n",
      "dense (Dense)                (None, 24)                1560      \n",
      "_________________________________________________________________\n",
      "dense_1 (Dense)              (None, 1)                 25        \n",
      "=================================================================\n",
      "Total params: 30,129\n",
      "Trainable params: 30,129\n",
      "Non-trainable params: 0\n",
      "_________________________________________________________________\n",
      "Epoch 1/50\n",
      "625/625 [==============================] - 27s 44ms/step - loss: 0.4619 - accuracy: 0.7616 - val_loss: 0.3910 - val_accuracy: 0.8202\n",
      "Epoch 2/50\n",
      "625/625 [==============================] - 26s 42ms/step - loss: 0.3760 - accuracy: 0.8296 - val_loss: 0.4337 - val_accuracy: 0.8123\n",
      "Epoch 3/50\n",
      "625/625 [==============================] - 26s 41ms/step - loss: 0.3400 - accuracy: 0.8469 - val_loss: 0.3760 - val_accuracy: 0.8293\n",
      "Epoch 4/50\n",
      "625/625 [==============================] - 28s 44ms/step - loss: 0.3179 - accuracy: 0.8580 - val_loss: 0.3700 - val_accuracy: 0.8362\n",
      "Epoch 5/50\n",
      "625/625 [==============================] - 28s 45ms/step - loss: 0.3032 - accuracy: 0.8648 - val_loss: 0.3716 - val_accuracy: 0.8346\n",
      "Epoch 6/50\n",
      "625/625 [==============================] - 27s 43ms/step - loss: 0.2933 - accuracy: 0.8717 - val_loss: 0.3790 - val_accuracy: 0.8286\n",
      "Epoch 7/50\n",
      "625/625 [==============================] - 27s 44ms/step - loss: 0.2863 - accuracy: 0.8746 - val_loss: 0.3982 - val_accuracy: 0.8283\n",
      "Epoch 8/50\n",
      "625/625 [==============================] - 28s 44ms/step - loss: 0.2793 - accuracy: 0.8759 - val_loss: 0.3826 - val_accuracy: 0.8360\n",
      "Epoch 9/50\n",
      "625/625 [==============================] - 28s 45ms/step - loss: 0.2710 - accuracy: 0.8814 - val_loss: 0.3948 - val_accuracy: 0.8286\n",
      "Epoch 10/50\n",
      "625/625 [==============================] - 27s 44ms/step - loss: 0.2632 - accuracy: 0.8855 - val_loss: 0.4121 - val_accuracy: 0.8243\n",
      "Epoch 11/50\n",
      "625/625 [==============================] - 25s 41ms/step - loss: 0.2569 - accuracy: 0.8895 - val_loss: 0.4073 - val_accuracy: 0.8240\n",
      "Epoch 12/50\n",
      "625/625 [==============================] - 25s 40ms/step - loss: 0.2499 - accuracy: 0.8908 - val_loss: 0.4187 - val_accuracy: 0.8192\n",
      "Epoch 13/50\n",
      "625/625 [==============================] - 25s 41ms/step - loss: 0.2417 - accuracy: 0.8965 - val_loss: 0.4111 - val_accuracy: 0.8250\n",
      "Epoch 14/50\n",
      "625/625 [==============================] - 25s 40ms/step - loss: 0.2311 - accuracy: 0.9005 - val_loss: 0.4303 - val_accuracy: 0.8243\n",
      "Epoch 15/50\n",
      "625/625 [==============================] - 26s 41ms/step - loss: 0.2215 - accuracy: 0.9058 - val_loss: 0.4767 - val_accuracy: 0.8205\n",
      "Epoch 16/50\n",
      "625/625 [==============================] - 26s 41ms/step - loss: 0.2136 - accuracy: 0.9092 - val_loss: 0.4496 - val_accuracy: 0.8217\n",
      "Epoch 17/50\n",
      "625/625 [==============================] - 25s 40ms/step - loss: 0.2050 - accuracy: 0.9148 - val_loss: 0.4882 - val_accuracy: 0.8179\n",
      "Epoch 18/50\n",
      "625/625 [==============================] - 26s 41ms/step - loss: 0.1987 - accuracy: 0.9152 - val_loss: 0.5193 - val_accuracy: 0.8161\n",
      "Epoch 19/50\n",
      "625/625 [==============================] - 26s 42ms/step - loss: 0.1926 - accuracy: 0.9186 - val_loss: 0.5278 - val_accuracy: 0.8168\n",
      "Epoch 20/50\n",
      "625/625 [==============================] - 26s 41ms/step - loss: 0.1816 - accuracy: 0.9247 - val_loss: 0.5852 - val_accuracy: 0.8149\n",
      "Epoch 21/50\n",
      "625/625 [==============================] - 25s 40ms/step - loss: 0.1745 - accuracy: 0.9277 - val_loss: 0.6459 - val_accuracy: 0.8091\n",
      "Epoch 22/50\n",
      "625/625 [==============================] - 26s 41ms/step - loss: 0.1691 - accuracy: 0.9287 - val_loss: 0.5950 - val_accuracy: 0.8161\n",
      "Epoch 23/50\n",
      "625/625 [==============================] - 26s 42ms/step - loss: 0.1592 - accuracy: 0.9341 - val_loss: 0.6569 - val_accuracy: 0.8131\n",
      "Epoch 24/50\n",
      "625/625 [==============================] - 28s 44ms/step - loss: 0.1558 - accuracy: 0.9344 - val_loss: 0.7062 - val_accuracy: 0.8109\n",
      "Epoch 25/50\n",
      "625/625 [==============================] - 26s 42ms/step - loss: 0.1452 - accuracy: 0.9414 - val_loss: 0.7237 - val_accuracy: 0.8113\n",
      "Epoch 26/50\n",
      "625/625 [==============================] - 27s 43ms/step - loss: 0.1390 - accuracy: 0.9438 - val_loss: 0.8339 - val_accuracy: 0.8111\n",
      "Epoch 27/50\n",
      "625/625 [==============================] - 26s 42ms/step - loss: 0.1348 - accuracy: 0.9446 - val_loss: 0.8126 - val_accuracy: 0.8085\n",
      "Epoch 28/50\n",
      "625/625 [==============================] - 25s 40ms/step - loss: 0.1271 - accuracy: 0.9474 - val_loss: 0.8806 - val_accuracy: 0.8114\n",
      "Epoch 29/50\n",
      "625/625 [==============================] - 26s 42ms/step - loss: 0.1223 - accuracy: 0.9509 - val_loss: 0.9051 - val_accuracy: 0.8094\n",
      "Epoch 30/50\n",
      "625/625 [==============================] - 26s 41ms/step - loss: 0.1189 - accuracy: 0.9513 - val_loss: 0.8676 - val_accuracy: 0.8070\n",
      "Epoch 31/50\n",
      "625/625 [==============================] - 26s 41ms/step - loss: 0.1114 - accuracy: 0.9548 - val_loss: 1.0197 - val_accuracy: 0.8067\n",
      "Epoch 32/50\n",
      "625/625 [==============================] - 25s 40ms/step - loss: 0.1066 - accuracy: 0.9569 - val_loss: 1.0235 - val_accuracy: 0.8080\n",
      "Epoch 33/50\n",
      "625/625 [==============================] - 25s 40ms/step - loss: 0.0993 - accuracy: 0.9593 - val_loss: 1.1169 - val_accuracy: 0.8049\n",
      "Epoch 34/50\n",
      "625/625 [==============================] - 25s 40ms/step - loss: 0.0937 - accuracy: 0.9613 - val_loss: 1.1052 - val_accuracy: 0.8018\n",
      "Epoch 35/50\n",
      "625/625 [==============================] - 25s 40ms/step - loss: 0.0951 - accuracy: 0.9595 - val_loss: 1.2157 - val_accuracy: 0.8024\n",
      "Epoch 36/50\n",
      "625/625 [==============================] - 27s 43ms/step - loss: 0.0881 - accuracy: 0.9627 - val_loss: 1.2644 - val_accuracy: 0.8037\n",
      "Epoch 37/50\n",
      "625/625 [==============================] - 28s 45ms/step - loss: 0.0837 - accuracy: 0.9646 - val_loss: 1.3315 - val_accuracy: 0.7983\n",
      "Epoch 38/50\n",
      "625/625 [==============================] - 27s 44ms/step - loss: 0.0804 - accuracy: 0.9664 - val_loss: 1.4537 - val_accuracy: 0.7949\n",
      "Epoch 39/50\n",
      "625/625 [==============================] - 29s 46ms/step - loss: 0.0850 - accuracy: 0.9650 - val_loss: 1.3794 - val_accuracy: 0.8006\n",
      "Epoch 40/50\n",
      "625/625 [==============================] - 26s 42ms/step - loss: 0.0736 - accuracy: 0.9688 - val_loss: 1.4577 - val_accuracy: 0.8001\n",
      "Epoch 41/50\n",
      "625/625 [==============================] - 27s 43ms/step - loss: 0.0669 - accuracy: 0.9719 - val_loss: 1.5457 - val_accuracy: 0.7994\n",
      "Epoch 42/50\n",
      "625/625 [==============================] - 29s 46ms/step - loss: 0.0686 - accuracy: 0.9707 - val_loss: 1.6263 - val_accuracy: 0.8034\n",
      "Epoch 43/50\n",
      "625/625 [==============================] - 29s 47ms/step - loss: 0.0674 - accuracy: 0.9716 - val_loss: 1.6188 - val_accuracy: 0.7968\n",
      "Epoch 44/50\n",
      "625/625 [==============================] - 29s 46ms/step - loss: 0.0618 - accuracy: 0.9725 - val_loss: 1.6747 - val_accuracy: 0.8010\n",
      "Epoch 45/50\n",
      "625/625 [==============================] - 28s 45ms/step - loss: 0.0635 - accuracy: 0.9728 - val_loss: 1.6929 - val_accuracy: 0.7953\n",
      "Epoch 46/50\n",
      "625/625 [==============================] - 27s 44ms/step - loss: 0.0634 - accuracy: 0.9725 - val_loss: 1.8477 - val_accuracy: 0.8007\n",
      "Epoch 47/50\n",
      "625/625 [==============================] - 28s 45ms/step - loss: 0.0589 - accuracy: 0.9736 - val_loss: 1.8647 - val_accuracy: 0.7988\n",
      "Epoch 48/50\n",
      "625/625 [==============================] - 27s 43ms/step - loss: 0.0595 - accuracy: 0.9748 - val_loss: 1.7866 - val_accuracy: 0.7971\n",
      "Epoch 49/50\n",
      "625/625 [==============================] - 25s 40ms/step - loss: 0.0511 - accuracy: 0.9776 - val_loss: 1.8413 - val_accuracy: 0.7951\n",
      "Epoch 50/50\n",
      "625/625 [==============================] - 27s 43ms/step - loss: 0.0549 - accuracy: 0.9759 - val_loss: 1.9596 - val_accuracy: 0.7998\n"
     ]
    }
   ],
   "source": [
    "import numpy as np\n",
    "\n",
    "import json\n",
    "import tensorflow as tf\n",
    "\n",
    "from tensorflow.keras.preprocessing.text import Tokenizer\n",
    "from tensorflow.keras.preprocessing.sequence import pad_sequences\n",
    "\n",
    "# !wget --no-check-certificate \\\n",
    "#     https://storage.googleapis.com/laurencemoroney-blog.appspot.com/sarcasm.json \\\n",
    "#     -O /tmp/sarcasm.json\n",
    "\n",
    "vocab_size = 1000\n",
    "embedding_dim = 16\n",
    "max_length = 120\n",
    "trunc_type='post'\n",
    "padding_type='post'\n",
    "oov_tok = \"<OOV>\"\n",
    "training_size = 20000\n",
    "\n",
    "\n",
    "with open(\"./sarcasm.json\", 'r') as f:\n",
    "    datastore = json.load(f)\n",
    "\n",
    "\n",
    "sentences = []\n",
    "labels = []\n",
    "urls = []\n",
    "for item in datastore:\n",
    "    sentences.append(item['headline'])\n",
    "    labels.append(item['is_sarcastic'])\n",
    "\n",
    "training_sentences = sentences[0:training_size]\n",
    "testing_sentences = sentences[training_size:]\n",
    "training_labels = labels[0:training_size]\n",
    "testing_labels = labels[training_size:]\n",
    "\n",
    "tokenizer = Tokenizer(num_words=vocab_size, oov_token=oov_tok)\n",
    "tokenizer.fit_on_texts(training_sentences)\n",
    "word_index = tokenizer.word_index\n",
    "\n",
    "training_sequences = tokenizer.texts_to_sequences(training_sentences)\n",
    "training_padded = pad_sequences(training_sequences, maxlen=max_length, padding=padding_type, truncating=trunc_type)\n",
    "\n",
    "testing_sequences = tokenizer.texts_to_sequences(testing_sentences)\n",
    "testing_padded = pad_sequences(testing_sequences, maxlen=max_length, padding=padding_type, truncating=trunc_type)\n",
    "\n",
    "model = tf.keras.Sequential([\n",
    "    tf.keras.layers.Embedding(vocab_size, embedding_dim, input_length=max_length),\n",
    "    tf.keras.layers.Bidirectional(tf.keras.layers.LSTM(32)),\n",
    "    tf.keras.layers.Dense(24, activation='relu'),\n",
    "    tf.keras.layers.Dense(1, activation='sigmoid')\n",
    "])\n",
    "model.compile(loss='binary_crossentropy',optimizer='adam',metrics=['accuracy'])\n",
    "model.summary()\n",
    "\n",
    "num_epochs = 50\n",
    "training_padded = np.array(training_padded)\n",
    "training_labels = np.array(training_labels)\n",
    "testing_padded = np.array(testing_padded)\n",
    "testing_labels = np.array(testing_labels)\n",
    "history = model.fit(training_padded, training_labels, epochs=num_epochs, validation_data=(testing_padded, testing_labels), verbose=1)\n"
   ]
  },
  {
   "cell_type": "code",
   "execution_count": 3,
   "metadata": {
    "id": "g9DC6dmLF8DC"
   },
   "outputs": [
    {
     "data": {
      "image/png": "[encoded data removed]",
      "text/plain": [
       "<Figure size 432x288 with 1 Axes>"
      ]
     },
     "metadata": {
      "needs_background": "light"
     },
     "output_type": "display_data"
    },
    {
     "data": {
      "image/png": "[encoded data removed]",
      "text/plain": [
       "<Figure size 432x288 with 1 Axes>"
      ]
     },
     "metadata": {
      "needs_background": "light"
     },
     "output_type": "display_data"
    }
   ],
   "source": [
    "import matplotlib.pyplot as plt\n",
    "\n",
    "\n",
    "def plot_graphs(history, string):\n",
    "    plt.plot(history.history[string])\n",
    "    plt.plot(history.history['val_'+string])\n",
    "    plt.xlabel(\"Epochs\")\n",
    "    plt.ylabel(string)\n",
    "    plt.legend([string, 'val_'+string])\n",
    "    plt.title(string)\n",
    "    plt.show()\n",
    "\n",
    "plot_graphs(history, 'accuracy')\n",
    "plot_graphs(history, 'loss')"
   ]
  },
  {
   "cell_type": "code",
   "execution_count": 4,
   "metadata": {
    "id": "7ZEZIUppGhdi"
   },
   "outputs": [],
   "source": [
    "model.save(\"sarcasm_lstm.h5\")"
   ]
  },
  {
   "cell_type": "code",
   "execution_count": null,
   "metadata": {},
   "outputs": [],
   "source": []
  }
 ],
 "metadata": {
  "accelerator": "GPU",
  "colab": {
   "collapsed_sections": [],
   "name": "Course 3 - Week 3 - Lesson 2.ipynb",
   "provenance": []
  },
  "kernelspec": {
   "display_name": "Python 3",
   "language": "python",
   "name": "python3"
  },
  "language_info": {
   "codemirror_mode": {
    "name": "ipython",
    "version": 3
   },
   "file_extension": ".py",
   "mimetype": "text/x-python",
   "name": "python",
   "nbconvert_exporter": "python",
   "pygments_lexer": "ipython3",
   "version": "3.8.3"
  }
 },
 "nbformat": 4,
 "nbformat_minor": 1
}
