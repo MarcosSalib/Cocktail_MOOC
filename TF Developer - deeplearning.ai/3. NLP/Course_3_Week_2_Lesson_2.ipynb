{
 "cells": [
  {
   "cell_type": "code",
   "execution_count": 1,
   "metadata": {
    "id": "zX4Kg8DUTKWO"
   },
   "outputs": [],
   "source": [
    "#@title Licensed under the Apache License, Version 2.0 (the \"License\");\n",
    "# you may not use this file except in compliance with the License.\n",
    "# You may obtain a copy of the License at\n",
    "#\n",
    "# https://www.apache.org/licenses/LICENSE-2.0\n",
    "#\n",
    "# Unless required by applicable law or agreed to in writing, software\n",
    "# distributed under the License is distributed on an \"AS IS\" BASIS,\n",
    "# WITHOUT WARRANTIES OR CONDITIONS OF ANY KIND, either express or implied.\n",
    "# See the License for the specific language governing permissions and\n",
    "# limitations under the License."
   ]
  },
  {
   "cell_type": "markdown",
   "metadata": {
    "id": "view-in-github"
   },
   "source": [
    "<a href=\"https://colab.research.google.com/github/lmoroney/dlaicourse/blob/master/TensorFlow%20In%20Practice/Course%203%20-%20NLP/Course%203%20-%20Week%202%20-%20Lesson%202.ipynb\" target=\"_parent\"><img src=\"https://colab.research.google.com/assets/colab-badge.svg\" alt=\"Open In Colab\"/></a>"
   ]
  },
  {
   "cell_type": "code",
   "execution_count": 2,
   "metadata": {
    "id": "4gs9htvM7n_x"
   },
   "outputs": [],
   "source": [
    "# Run this to ensure TensorFlow 2.x is used\n",
    "try:\n",
    "  # %tensorflow_version only exists in Colab.\n",
    "  %tensorflow_version 2.x\n",
    "except Exception:\n",
    "  pass"
   ]
  },
  {
   "cell_type": "code",
   "execution_count": 3,
   "metadata": {
    "id": "XYYDvoskkE61"
   },
   "outputs": [],
   "source": [
    "import json\n",
    "import tensorflow as tf\n",
    "\n",
    "from tensorflow.keras.preprocessing.text import Tokenizer\n",
    "from tensorflow.keras.preprocessing.sequence import pad_sequences"
   ]
  },
  {
   "cell_type": "code",
   "execution_count": 4,
   "metadata": {
    "id": "0eJSTTYnkJQd"
   },
   "outputs": [],
   "source": [
    "vocab_size = 10000\n",
    "embedding_dim = 32\n",
    "max_length = 100\n",
    "trunc_type='post'\n",
    "padding_type='post'\n",
    "oov_tok = \"<OOV>\"\n",
    "training_size = 20000\n"
   ]
  },
  {
   "cell_type": "code",
   "execution_count": 5,
   "metadata": {
    "colab": {
     "base_uri": "https://localhost:8080/",
     "height": 204
    },
    "id": "BQVuQrZNkPn9",
    "outputId": "7dff4968-05fb-4404-c941-6ad9f1f82c39"
   },
   "outputs": [],
   "source": [
    "# !wget --no-check-certificate \\\n",
    "#     https://storage.googleapis.com/laurencemoroney-blog.appspot.com/sarcasm.json \\\n",
    "#     -O /tmp/sarcasm.json\n"
   ]
  },
  {
   "cell_type": "code",
   "execution_count": 6,
   "metadata": {
    "id": "oaLaaqhNkUPd"
   },
   "outputs": [],
   "source": [
    "with open(\"./sarcasm.json\", 'r') as f:\n",
    "    datastore = json.load(f)\n",
    "\n",
    "sentences = []\n",
    "labels = []\n",
    "\n",
    "for item in datastore:\n",
    "    sentences.append(item['headline'])\n",
    "    labels.append(item['is_sarcastic'])"
   ]
  },
  {
   "cell_type": "code",
   "execution_count": 7,
   "metadata": {
    "id": "S1sD-7v0kYWk"
   },
   "outputs": [],
   "source": [
    "training_sentences = sentences[0:training_size]\n",
    "testing_sentences = sentences[training_size:]\n",
    "training_labels = labels[0:training_size]\n",
    "testing_labels = labels[training_size:]"
   ]
  },
  {
   "cell_type": "code",
   "execution_count": 8,
   "metadata": {
    "id": "3u8UB0MCkZ5N"
   },
   "outputs": [],
   "source": [
    "tokenizer = Tokenizer(num_words=vocab_size, oov_token=oov_tok)\n",
    "tokenizer.fit_on_texts(training_sentences)\n",
    "\n",
    "word_index = tokenizer.word_index\n",
    "\n",
    "training_sequences = tokenizer.texts_to_sequences(training_sentences)\n",
    "training_padded = pad_sequences(training_sequences, maxlen=max_length, padding=padding_type, truncating=trunc_type)\n",
    "\n",
    "testing_sequences = tokenizer.texts_to_sequences(testing_sentences)\n",
    "testing_padded = pad_sequences(testing_sequences, maxlen=max_length, padding=padding_type, truncating=trunc_type)"
   ]
  },
  {
   "cell_type": "code",
   "execution_count": 9,
   "metadata": {
    "id": "GrAlWBKf99Ya"
   },
   "outputs": [],
   "source": [
    "# Need this block to get it to work with TensorFlow 2.x\n",
    "import numpy as np\n",
    "training_padded = np.array(training_padded)\n",
    "training_labels = np.array(training_labels)\n",
    "testing_padded = np.array(testing_padded)\n",
    "testing_labels = np.array(testing_labels)"
   ]
  },
  {
   "cell_type": "code",
   "execution_count": 10,
   "metadata": {
    "id": "FufaT4vlkiDE"
   },
   "outputs": [],
   "source": [
    "model = tf.keras.Sequential([\n",
    "    tf.keras.layers.Embedding(vocab_size, embedding_dim, input_length=max_length),\n",
    "    tf.keras.layers.GlobalAveragePooling1D(),\n",
    "    tf.keras.layers.Dense(24, activation='relu'),\n",
    "    tf.keras.layers.Dense(1, activation='sigmoid')\n",
    "])\n",
    "model.compile(loss='binary_crossentropy',optimizer='adam',metrics=['accuracy'])"
   ]
  },
  {
   "cell_type": "code",
   "execution_count": 11,
   "metadata": {
    "colab": {
     "base_uri": "https://localhost:8080/",
     "height": 289
    },
    "id": "XfDt1hmYkiys",
    "outputId": "a791d3ed-5c5c-40b5-e612-87cb2aa50ba2"
   },
   "outputs": [
    {
     "name": "stdout",
     "output_type": "stream",
     "text": [
      "Model: \"sequential\"\n",
      "_________________________________________________________________\n",
      "Layer (type)                 Output Shape              Param #   \n",
      "=================================================================\n",
      "embedding (Embedding)        (None, 100, 32)           320000    \n",
      "_________________________________________________________________\n",
      "global_average_pooling1d (Gl (None, 32)                0         \n",
      "_________________________________________________________________\n",
      "dense (Dense)                (None, 24)                792       \n",
      "_________________________________________________________________\n",
      "dense_1 (Dense)              (None, 1)                 25        \n",
      "=================================================================\n",
      "Total params: 320,817\n",
      "Trainable params: 320,817\n",
      "Non-trainable params: 0\n",
      "_________________________________________________________________\n"
     ]
    }
   ],
   "source": [
    "model.summary()\n"
   ]
  },
  {
   "cell_type": "code",
   "execution_count": 12,
   "metadata": {
    "colab": {
     "base_uri": "https://localhost:8080/",
     "height": 1000
    },
    "id": "2DTKQFf1kkyc",
    "outputId": "432575d9-b507-41bf-a458-ccce5101489e"
   },
   "outputs": [
    {
     "name": "stdout",
     "output_type": "stream",
     "text": [
      "Epoch 1/30\n",
      "625/625 - 1s - loss: 0.6512 - accuracy: 0.6167 - val_loss: 0.5317 - val_accuracy: 0.8146\n",
      "Epoch 2/30\n",
      "625/625 - 1s - loss: 0.3975 - accuracy: 0.8382 - val_loss: 0.3712 - val_accuracy: 0.8407\n",
      "Epoch 3/30\n",
      "625/625 - 1s - loss: 0.2923 - accuracy: 0.8839 - val_loss: 0.3435 - val_accuracy: 0.8550\n",
      "Epoch 4/30\n",
      "625/625 - 1s - loss: 0.2411 - accuracy: 0.9055 - val_loss: 0.3421 - val_accuracy: 0.8512\n",
      "Epoch 5/30\n",
      "625/625 - 1s - loss: 0.2093 - accuracy: 0.9171 - val_loss: 0.3889 - val_accuracy: 0.8323\n",
      "Epoch 6/30\n",
      "625/625 - 1s - loss: 0.1818 - accuracy: 0.9293 - val_loss: 0.3570 - val_accuracy: 0.8554\n",
      "Epoch 7/30\n",
      "625/625 - 1s - loss: 0.1591 - accuracy: 0.9398 - val_loss: 0.3864 - val_accuracy: 0.8445\n",
      "Epoch 8/30\n",
      "625/625 - 1s - loss: 0.1413 - accuracy: 0.9491 - val_loss: 0.3953 - val_accuracy: 0.8523\n",
      "Epoch 9/30\n",
      "625/625 - 1s - loss: 0.1257 - accuracy: 0.9554 - val_loss: 0.4439 - val_accuracy: 0.8410\n",
      "Epoch 10/30\n",
      "625/625 - 1s - loss: 0.1125 - accuracy: 0.9611 - val_loss: 0.4426 - val_accuracy: 0.8469\n",
      "Epoch 11/30\n",
      "625/625 - 1s - loss: 0.1012 - accuracy: 0.9660 - val_loss: 0.4741 - val_accuracy: 0.8425\n",
      "Epoch 12/30\n",
      "625/625 - 1s - loss: 0.0907 - accuracy: 0.9692 - val_loss: 0.5128 - val_accuracy: 0.8359\n",
      "Epoch 13/30\n",
      "625/625 - 1s - loss: 0.0834 - accuracy: 0.9721 - val_loss: 0.5386 - val_accuracy: 0.8365\n",
      "Epoch 14/30\n",
      "625/625 - 1s - loss: 0.0753 - accuracy: 0.9753 - val_loss: 0.5651 - val_accuracy: 0.8396\n",
      "Epoch 15/30\n",
      "625/625 - 1s - loss: 0.0686 - accuracy: 0.9772 - val_loss: 0.6093 - val_accuracy: 0.8305\n",
      "Epoch 16/30\n",
      "625/625 - 1s - loss: 0.0607 - accuracy: 0.9813 - val_loss: 0.6526 - val_accuracy: 0.8286\n",
      "Epoch 17/30\n",
      "625/625 - 1s - loss: 0.0556 - accuracy: 0.9823 - val_loss: 0.6622 - val_accuracy: 0.8295\n",
      "Epoch 18/30\n",
      "625/625 - 1s - loss: 0.0509 - accuracy: 0.9840 - val_loss: 0.7437 - val_accuracy: 0.8196\n",
      "Epoch 19/30\n",
      "625/625 - 1s - loss: 0.0474 - accuracy: 0.9862 - val_loss: 0.7398 - val_accuracy: 0.8268\n",
      "Epoch 20/30\n",
      "625/625 - 1s - loss: 0.0414 - accuracy: 0.9880 - val_loss: 0.7836 - val_accuracy: 0.8220\n",
      "Epoch 21/30\n",
      "625/625 - 1s - loss: 0.0414 - accuracy: 0.9878 - val_loss: 0.8388 - val_accuracy: 0.8241\n",
      "Epoch 22/30\n",
      "625/625 - 1s - loss: 0.0357 - accuracy: 0.9901 - val_loss: 0.8594 - val_accuracy: 0.8188\n",
      "Epoch 23/30\n",
      "625/625 - 1s - loss: 0.0320 - accuracy: 0.9910 - val_loss: 0.8952 - val_accuracy: 0.8201\n",
      "Epoch 24/30\n",
      "625/625 - 1s - loss: 0.0312 - accuracy: 0.9912 - val_loss: 0.9396 - val_accuracy: 0.8164\n",
      "Epoch 25/30\n",
      "625/625 - 1s - loss: 0.0290 - accuracy: 0.9917 - val_loss: 0.9742 - val_accuracy: 0.8128\n",
      "Epoch 26/30\n",
      "625/625 - 1s - loss: 0.0244 - accuracy: 0.9937 - val_loss: 1.0303 - val_accuracy: 0.8137\n",
      "Epoch 27/30\n",
      "625/625 - 1s - loss: 0.0226 - accuracy: 0.9941 - val_loss: 1.0784 - val_accuracy: 0.8134\n",
      "Epoch 28/30\n",
      "625/625 - 1s - loss: 0.0224 - accuracy: 0.9936 - val_loss: 1.1104 - val_accuracy: 0.8110\n",
      "Epoch 29/30\n",
      "625/625 - 1s - loss: 0.0205 - accuracy: 0.9941 - val_loss: 1.1567 - val_accuracy: 0.8083\n",
      "Epoch 30/30\n",
      "625/625 - 1s - loss: 0.0193 - accuracy: 0.9947 - val_loss: 1.2353 - val_accuracy: 0.8106\n"
     ]
    }
   ],
   "source": [
    "num_epochs = 30\n",
    "history = model.fit(training_padded, training_labels, epochs=num_epochs, validation_data=(testing_padded, testing_labels), verbose=2)"
   ]
  },
  {
   "cell_type": "code",
   "execution_count": 13,
   "metadata": {
    "colab": {
     "base_uri": "https://localhost:8080/",
     "height": 541
    },
    "id": "2HYfBKXjkmU8",
    "outputId": "da26c89d-5f83-4bfc-e927-68283e6905b1"
   },
   "outputs": [
    {
     "data": {
      "image/png": "[encoded data removed]",
      "text/plain": [
       "<Figure size 432x288 with 1 Axes>"
      ]
     },
     "metadata": {
      "needs_background": "light"
     },
     "output_type": "display_data"
    },
    {
     "data": {
      "image/png": "[encoded data removed]",
      "text/plain": [
       "<Figure size 432x288 with 1 Axes>"
      ]
     },
     "metadata": {
      "needs_background": "light"
     },
     "output_type": "display_data"
    }
   ],
   "source": [
    "import matplotlib.pyplot as plt\n",
    "\n",
    "\n",
    "def plot_graphs(history, string):\n",
    "    plt.plot(history.history[string])\n",
    "    plt.plot(history.history['val_'+string])\n",
    "    plt.xlabel(\"Epochs\")\n",
    "    plt.ylabel(string)\n",
    "    plt.title(string)\n",
    "    plt.legend([string, 'val_'+string])\n",
    "    plt.show()\n",
    "\n",
    "plot_graphs(history, \"accuracy\")\n",
    "plot_graphs(history, \"loss\")\n",
    "\n",
    "# in the loss graph, the validation here shall represent 'confidence per prediction' in the model\n",
    "# this is quite common when dealing with texts\n",
    "# hyperparameters play a role here\n",
    "# "
   ]
  },
  {
   "cell_type": "code",
   "execution_count": 14,
   "metadata": {
    "colab": {
     "base_uri": "https://localhost:8080/",
     "height": 88
    },
    "id": "7SBdAZAenvzL",
    "outputId": "aa10a06e-23ab-4438-d6ba-f08f3b421b52"
   },
   "outputs": [
    {
     "name": "stdout",
     "output_type": "stream",
     "text": [
      "former <OOV> store clerk sues over secret 'black <OOV> for minority shoppers ? ? ? ? ? ? ? ? ? ? ? ? ? ? ? ? ? ? ? ? ? ? ? ? ? ? ? ? ? ? ? ? ? ? ? ? ? ? ? ? ? ? ? ? ? ? ? ? ? ? ? ? ? ? ? ? ? ? ? ? ? ? ? ? ? ? ? ? ? ? ? ? ? ? ? ? ? ? ? ? ? ? ? ? ? ? ? ? \n",
      "\n",
      "mom starting to fear son's web series closest thing she will have to grandchild \n",
      "\n",
      "1\n"
     ]
    }
   ],
   "source": [
    "reverse_word_index = dict([(value, key) for (key, value) in word_index.items()])\n",
    "\n",
    "def decode_sentence(text):\n",
    "    return ' '.join([reverse_word_index.get(i, '?') for i in text])\n",
    "\n",
    "print(decode_sentence(training_padded[0]), '\\n')\n",
    "print(training_sentences[2], '\\n')\n",
    "print(labels[2])"
   ]
  },
  {
   "cell_type": "code",
   "execution_count": 15,
   "metadata": {
    "colab": {
     "base_uri": "https://localhost:8080/",
     "height": 34
    },
    "id": "c9MqihtEkzQ9",
    "outputId": "ada9d117-3bb3-4b38-c735-aed398f11d2e"
   },
   "outputs": [
    {
     "name": "stdout",
     "output_type": "stream",
     "text": [
      "(10000, 32)\n"
     ]
    }
   ],
   "source": [
    "e = model.layers[0]\n",
    "weights = e.get_weights()[0]\n",
    "print(weights.shape) # shape: (vocab_size, embedding_dim)\n"
   ]
  },
  {
   "cell_type": "code",
   "execution_count": 16,
   "metadata": {
    "id": "LoBXVffknldU"
   },
   "outputs": [],
   "source": [
    "import io\n",
    "\n",
    "out_v = io.open('vecs2.tsv', 'w', encoding='utf-8')\n",
    "out_m = io.open('meta2.tsv', 'w', encoding='utf-8')\n",
    "for word_num in range(1, vocab_size):\n",
    "  word = reverse_word_index[word_num]\n",
    "  embeddings = weights[word_num]\n",
    "  out_m.write(word + \"\\n\")\n",
    "  out_v.write('\\t'.join([str(x) for x in embeddings]) + \"\\n\")\n",
    "out_v.close()\n",
    "out_m.close()"
   ]
  },
  {
   "cell_type": "code",
   "execution_count": 17,
   "metadata": {
    "colab": {
     "base_uri": "https://localhost:8080/",
     "height": 17
    },
    "id": "U4eZ5HtVnnEE",
    "outputId": "578e2fc9-0980-45b3-8765-5964ead1ce0d"
   },
   "outputs": [],
   "source": [
    "try:\n",
    "  from google.colab import files\n",
    "except ImportError:\n",
    "  pass\n",
    "else:\n",
    "  files.download('vecs2.tsv')\n",
    "  files.download('meta2.tsv')"
   ]
  },
  {
   "cell_type": "code",
   "execution_count": 18,
   "metadata": {
    "colab": {
     "base_uri": "https://localhost:8080/",
     "height": 51
    },
    "id": "cG8-ArY-qDcz",
    "outputId": "430fda31-e410-4534-f54b-79db76645cf8"
   },
   "outputs": [
    {
     "name": "stdout",
     "output_type": "stream",
     "text": [
      "[[9.9430639e-01]\n",
      " [4.5789267e-05]]\n"
     ]
    }
   ],
   "source": [
    "sentence = [\"granny starting to fear spiders in the garden might be real\", \"game of thrones season finale showing this sunday night\"]\n",
    "sequences = tokenizer.texts_to_sequences(sentence)\n",
    "padded = pad_sequences(sequences, maxlen=max_length, padding=padding_type, truncating=trunc_type)\n",
    "print(model.predict(padded))"
   ]
  },
  {
   "cell_type": "code",
   "execution_count": null,
   "metadata": {
    "id": "410zrnJGLfRX"
   },
   "outputs": [],
   "source": []
  }
 ],
 "metadata": {
  "accelerator": "GPU",
  "colab": {
   "collapsed_sections": [],
   "name": "Course 3 - Week 2 - Lesson 2.ipynb",
   "provenance": [],
   "toc_visible": true
  },
  "kernelspec": {
   "display_name": "Python 3",
   "language": "python",
   "name": "python3"
  },
  "language_info": {
   "codemirror_mode": {
    "name": "ipython",
    "version": 3
   },
   "file_extension": ".py",
   "mimetype": "text/x-python",
   "name": "python",
   "nbconvert_exporter": "python",
   "pygments_lexer": "ipython3",
   "version": "3.8.3"
  }
 },
 "nbformat": 4,
 "nbformat_minor": 1
}
