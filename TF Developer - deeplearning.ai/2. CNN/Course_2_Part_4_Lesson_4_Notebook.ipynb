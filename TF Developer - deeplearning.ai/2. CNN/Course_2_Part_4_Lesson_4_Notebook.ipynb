{
 "cells": [
  {
   "cell_type": "markdown",
   "metadata": {
    "id": "rX8mhOLljYeM"
   },
   "source": [
    "##### Copyright 2019 The TensorFlow Authors."
   ]
  },
  {
   "cell_type": "code",
   "execution_count": null,
   "metadata": {
    "cellView": "form",
    "id": "BZSlp3DAjdYf"
   },
   "outputs": [],
   "source": [
    "#@title Licensed under the Apache License, Version 2.0 (the \"License\");\n",
    "# you may not use this file except in compliance with the License.\n",
    "# You may obtain a copy of the License at\n",
    "#\n",
    "# https://www.apache.org/licenses/LICENSE-2.0\n",
    "#\n",
    "# Unless required by applicable law or agreed to in writing, software\n",
    "# distributed under the License is distributed on an \"AS IS\" BASIS,\n",
    "# WITHOUT WARRANTIES OR CONDITIONS OF ANY KIND, either express or implied.\n",
    "# See the License for the specific language governing permissions and\n",
    "# limitations under the License."
   ]
  },
  {
   "cell_type": "code",
   "execution_count": 1,
   "metadata": {
    "colab": {
     "base_uri": "https://localhost:8080/",
     "height": 391
    },
    "id": "RXZT2UsyIVe_",
    "outputId": "dd3df949-e3d8-416b-a794-3146eefa15a8"
   },
   "outputs": [
    {
     "name": "stdout",
     "output_type": "stream",
     "text": [
      "--2020-09-27 07:04:23--  https://storage.googleapis.com/laurencemoroney-blog.appspot.com/horse-or-human.zip\n",
      "Resolving storage.googleapis.com (storage.googleapis.com)... 74.125.204.128, 64.233.189.128, 108.177.97.128, ...\n",
      "Connecting to storage.googleapis.com (storage.googleapis.com)|74.125.204.128|:443... connected.\n",
      "HTTP request sent, awaiting response... 200 OK\n",
      "Length: 149574867 (143M) [application/zip]\n",
      "Saving to: ‘/tmp/horse-or-human.zip’\n",
      "\n",
      "/tmp/horse-or-human 100%[===================>] 142.65M  80.0MB/s    in 1.8s    \n",
      "\n",
      "2020-09-27 07:04:25 (80.0 MB/s) - ‘/tmp/horse-or-human.zip’ saved [149574867/149574867]\n",
      "\n",
      "--2020-09-27 07:04:25--  https://storage.googleapis.com/laurencemoroney-blog.appspot.com/validation-horse-or-human.zip\n",
      "Resolving storage.googleapis.com (storage.googleapis.com)... 74.125.203.128, 64.233.189.128, 108.177.97.128, ...\n",
      "Connecting to storage.googleapis.com (storage.googleapis.com)|74.125.203.128|:443... connected.\n",
      "HTTP request sent, awaiting response... 200 OK\n",
      "Length: 11480187 (11M) [application/zip]\n",
      "Saving to: ‘/tmp/validation-horse-or-human.zip’\n",
      "\n",
      "/tmp/validation-hor 100%[===================>]  10.95M  7.33MB/s    in 1.5s    \n",
      "\n",
      "2020-09-27 07:04:27 (7.33 MB/s) - ‘/tmp/validation-horse-or-human.zip’ saved [11480187/11480187]\n",
      "\n"
     ]
    }
   ],
   "source": [
    "!wget --no-check-certificate \\\n",
    "    https://storage.googleapis.com/laurencemoroney-blog.appspot.com/horse-or-human.zip \\\n",
    "    -O /tmp/horse-or-human.zip\n",
    "\n",
    "!wget --no-check-certificate \\\n",
    "    https://storage.googleapis.com/laurencemoroney-blog.appspot.com/validation-horse-or-human.zip \\\n",
    "    -O /tmp/validation-horse-or-human.zip\n",
    "  \n",
    "import os\n",
    "import zipfile\n",
    "\n",
    "local_zip = '/tmp/horse-or-human.zip'\n",
    "zip_ref = zipfile.ZipFile(local_zip, 'r')\n",
    "zip_ref.extractall('/tmp/horse-or-human')\n",
    "local_zip = '/tmp/validation-horse-or-human.zip'\n",
    "zip_ref = zipfile.ZipFile(local_zip, 'r')\n",
    "zip_ref.extractall('/tmp/validation-horse-or-human')\n",
    "zip_ref.close()\n",
    "# Directory with our training horse pictures\n",
    "train_horse_dir = os.path.join('/tmp/horse-or-human/horses')\n",
    "\n",
    "# Directory with our training human pictures\n",
    "train_human_dir = os.path.join('/tmp/horse-or-human/humans')\n",
    "\n",
    "# Directory with our training horse pictures\n",
    "validation_horse_dir = os.path.join('/tmp/validation-horse-or-human/horses')\n",
    "\n",
    "# Directory with our training human pictures\n",
    "validation_human_dir = os.path.join('/tmp/validation-horse-or-human/humans')"
   ]
  },
  {
   "cell_type": "markdown",
   "metadata": {
    "id": "5oqBkNBJmtUv"
   },
   "source": [
    "## Building a Small Model from Scratch\n",
    "\n",
    "But before we continue, let's start defining the model:\n",
    "\n",
    "Step 1 will be to import tensorflow."
   ]
  },
  {
   "cell_type": "code",
   "execution_count": 2,
   "metadata": {
    "id": "qvfZg3LQbD-5"
   },
   "outputs": [],
   "source": [
    "import tensorflow as tf"
   ]
  },
  {
   "cell_type": "markdown",
   "metadata": {
    "id": "BnhYCP4tdqjC"
   },
   "source": [
    "We then add convolutional layers as in the previous example, and flatten the final result to feed into the densely connected layers."
   ]
  },
  {
   "cell_type": "markdown",
   "metadata": {
    "id": "gokG5HKpdtzm"
   },
   "source": [
    "Finally we add the densely connected layers. \n",
    "\n",
    "Note that because we are facing a two-class classification problem, i.e. a *binary classification problem*, we will end our network with a [*sigmoid* activation](https://wikipedia.org/wiki/Sigmoid_function), so that the output of our network will be a single scalar between 0 and 1, encoding the probability that the current image is class 1 (as opposed to class 0)."
   ]
  },
  {
   "cell_type": "code",
   "execution_count": 3,
   "metadata": {
    "id": "PixZ2s5QbYQ3"
   },
   "outputs": [],
   "source": [
    "model = tf.keras.models.Sequential([\n",
    "    # Note the input shape is the desired size of the image 300x300 with 3 bytes color\n",
    "    # This is the first convolution\n",
    "    tf.keras.layers.Conv2D(16, (3,3), activation='relu', input_shape=(300, 300, 3)),\n",
    "    tf.keras.layers.MaxPooling2D(2, 2),\n",
    "    # The second convolution\n",
    "    tf.keras.layers.Conv2D(32, (3,3), activation='relu'),\n",
    "    tf.keras.layers.MaxPooling2D(2,2),\n",
    "    # The third convolution\n",
    "    tf.keras.layers.Conv2D(64, (3,3), activation='relu'),\n",
    "    tf.keras.layers.MaxPooling2D(2,2),\n",
    "    # The fourth convolution\n",
    "    tf.keras.layers.Conv2D(64, (3,3), activation='relu'),\n",
    "    tf.keras.layers.MaxPooling2D(2,2),\n",
    "    # The fifth convolution\n",
    "    tf.keras.layers.Conv2D(64, (3,3), activation='relu'),\n",
    "    tf.keras.layers.MaxPooling2D(2,2),\n",
    "    # Flatten the results to feed into a DNN\n",
    "    tf.keras.layers.Flatten(),\n",
    "    # 512 neuron hidden layer\n",
    "    tf.keras.layers.Dense(512, activation='relu'),\n",
    "    # Only 1 output neuron. It will contain a value from 0-1 where 0 for 1 class ('horses') and 1 for the other ('humans')\n",
    "    tf.keras.layers.Dense(1, activation='sigmoid')\n",
    "])"
   ]
  },
  {
   "cell_type": "code",
   "execution_count": 4,
   "metadata": {
    "id": "8DHWhFP_uhq3"
   },
   "outputs": [],
   "source": [
    "from tensorflow.keras.optimizers import RMSprop\n",
    "\n",
    "model.compile(loss='binary_crossentropy',\n",
    "              optimizer=RMSprop(lr=1e-4),\n",
    "              metrics=['accuracy'])"
   ]
  },
  {
   "cell_type": "code",
   "execution_count": 5,
   "metadata": {
    "colab": {
     "base_uri": "https://localhost:8080/",
     "height": 51
    },
    "id": "ClebU9NJg99G",
    "outputId": "70179ffe-bdba-41a2-9aab-cb5b8fda68d4"
   },
   "outputs": [
    {
     "name": "stdout",
     "output_type": "stream",
     "text": [
      "Found 1027 images belonging to 2 classes.\n",
      "Found 256 images belonging to 2 classes.\n"
     ]
    }
   ],
   "source": [
    "from tensorflow.keras.preprocessing.image import ImageDataGenerator\n",
    "\n",
    "# All images will be rescaled by 1./255\n",
    "train_datagen = ImageDataGenerator(\n",
    "      rescale=1./255,\n",
    "      rotation_range=40,\n",
    "      width_shift_range=0.2,\n",
    "      height_shift_range=0.2,\n",
    "      shear_range=0.2,\n",
    "      zoom_range=0.2,\n",
    "      horizontal_flip=True,\n",
    "      fill_mode='nearest')\n",
    "\n",
    "validation_datagen = ImageDataGenerator(rescale=1/255)\n",
    "\n",
    "# Flow training images in batches of 128 using train_datagen generator\n",
    "train_generator = train_datagen.flow_from_directory(\n",
    "        '/tmp/horse-or-human/',  # This is the source directory for training images\n",
    "        target_size=(300, 300),  # All images will be resized to 150x150\n",
    "        batch_size=128,\n",
    "        # Since we use binary_crossentropy loss, we need binary labels\n",
    "        class_mode='binary')\n",
    "\n",
    "# Flow training images in batches of 128 using train_datagen generator\n",
    "validation_generator = validation_datagen.flow_from_directory(\n",
    "        '/tmp/validation-horse-or-human/',  # This is the source directory for training images\n",
    "        target_size=(300, 300),  # All images will be resized to 150x150\n",
    "        batch_size=32,\n",
    "        # Since we use binary_crossentropy loss, we need binary labels\n",
    "        class_mode='binary')"
   ]
  },
  {
   "cell_type": "code",
   "execution_count": 6,
   "metadata": {
    "colab": {
     "base_uri": "https://localhost:8080/",
     "height": 1000
    },
    "id": "Fb1_lgobv81m",
    "outputId": "09f8ed67-d9c1-45b9-a2dd-f079824a4096"
   },
   "outputs": [
    {
     "name": "stdout",
     "output_type": "stream",
     "text": [
      "Epoch 1/100\n",
      "8/8 [==============================] - 17s 2s/step - loss: 0.6962 - accuracy: 0.4983 - val_loss: 0.6907 - val_accuracy: 0.5000\n",
      "Epoch 2/100\n",
      "8/8 [==============================] - 19s 2s/step - loss: 0.6833 - accuracy: 0.5528 - val_loss: 0.6557 - val_accuracy: 0.7461\n",
      "Epoch 3/100\n",
      "8/8 [==============================] - 19s 2s/step - loss: 0.6833 - accuracy: 0.6485 - val_loss: 0.6356 - val_accuracy: 0.5938\n",
      "Epoch 4/100\n",
      "8/8 [==============================] - 18s 2s/step - loss: 0.6502 - accuracy: 0.7108 - val_loss: 0.6327 - val_accuracy: 0.5430\n",
      "Epoch 5/100\n",
      "8/8 [==============================] - 21s 3s/step - loss: 0.6229 - accuracy: 0.6852 - val_loss: 0.5712 - val_accuracy: 0.6875\n",
      "Epoch 6/100\n",
      "8/8 [==============================] - 21s 3s/step - loss: 0.5956 - accuracy: 0.7275 - val_loss: 0.4916 - val_accuracy: 0.8281\n",
      "Epoch 7/100\n",
      "8/8 [==============================] - 18s 2s/step - loss: 0.5607 - accuracy: 0.7464 - val_loss: 0.9848 - val_accuracy: 0.5039\n",
      "Epoch 8/100\n",
      "8/8 [==============================] - 18s 2s/step - loss: 0.5569 - accuracy: 0.7208 - val_loss: 0.6850 - val_accuracy: 0.6133\n",
      "Epoch 9/100\n",
      "8/8 [==============================] - 18s 2s/step - loss: 0.5874 - accuracy: 0.7620 - val_loss: 0.7717 - val_accuracy: 0.6016\n",
      "Epoch 10/100\n",
      "8/8 [==============================] - 20s 2s/step - loss: 0.4771 - accuracy: 0.8037 - val_loss: 0.7832 - val_accuracy: 0.6211\n",
      "Epoch 11/100\n",
      "8/8 [==============================] - 18s 2s/step - loss: 0.5033 - accuracy: 0.7608 - val_loss: 0.7014 - val_accuracy: 0.6680\n",
      "Epoch 12/100\n",
      "8/8 [==============================] - 18s 2s/step - loss: 0.4630 - accuracy: 0.7920 - val_loss: 1.3697 - val_accuracy: 0.5352\n",
      "Epoch 13/100\n",
      "8/8 [==============================] - 18s 2s/step - loss: 0.4731 - accuracy: 0.7675 - val_loss: 0.7154 - val_accuracy: 0.6758\n",
      "Epoch 14/100\n",
      "8/8 [==============================] - 18s 2s/step - loss: 0.4685 - accuracy: 0.7998 - val_loss: 1.1313 - val_accuracy: 0.5938\n",
      "Epoch 15/100\n",
      "8/8 [==============================] - 18s 2s/step - loss: 0.4995 - accuracy: 0.7586 - val_loss: 1.1013 - val_accuracy: 0.6094\n",
      "Epoch 16/100\n",
      "8/8 [==============================] - 18s 2s/step - loss: 0.4131 - accuracy: 0.8076 - val_loss: 0.4921 - val_accuracy: 0.8086\n",
      "Epoch 17/100\n",
      "8/8 [==============================] - 20s 3s/step - loss: 0.4672 - accuracy: 0.7969 - val_loss: 1.5584 - val_accuracy: 0.5625\n",
      "Epoch 18/100\n",
      "8/8 [==============================] - 18s 2s/step - loss: 0.4024 - accuracy: 0.8198 - val_loss: 0.2348 - val_accuracy: 0.9023\n",
      "Epoch 19/100\n",
      "8/8 [==============================] - 18s 2s/step - loss: 0.5938 - accuracy: 0.7686 - val_loss: 1.3329 - val_accuracy: 0.6133\n",
      "Epoch 20/100\n",
      "8/8 [==============================] - 17s 2s/step - loss: 0.3919 - accuracy: 0.8354 - val_loss: 2.3860 - val_accuracy: 0.5078\n",
      "Epoch 21/100\n",
      "8/8 [==============================] - 18s 2s/step - loss: 0.3946 - accuracy: 0.8209 - val_loss: 1.4342 - val_accuracy: 0.6094\n",
      "Epoch 22/100\n",
      "8/8 [==============================] - 18s 2s/step - loss: 0.3597 - accuracy: 0.8432 - val_loss: 0.7086 - val_accuracy: 0.7695\n",
      "Epoch 23/100\n",
      "8/8 [==============================] - 18s 2s/step - loss: 0.4175 - accuracy: 0.8109 - val_loss: 1.7276 - val_accuracy: 0.5859\n",
      "Epoch 24/100\n",
      "8/8 [==============================] - 18s 2s/step - loss: 0.4508 - accuracy: 0.8020 - val_loss: 1.1025 - val_accuracy: 0.6719\n",
      "Epoch 25/100\n",
      "8/8 [==============================] - 18s 2s/step - loss: 0.3933 - accuracy: 0.8176 - val_loss: 1.2341 - val_accuracy: 0.6602\n",
      "Epoch 26/100\n",
      "8/8 [==============================] - 18s 2s/step - loss: 0.3493 - accuracy: 0.8465 - val_loss: 1.9201 - val_accuracy: 0.5898\n",
      "Epoch 27/100\n",
      "8/8 [==============================] - 17s 2s/step - loss: 0.3570 - accuracy: 0.8343 - val_loss: 0.5720 - val_accuracy: 0.8164\n",
      "Epoch 28/100\n",
      "8/8 [==============================] - 17s 2s/step - loss: 0.3912 - accuracy: 0.8343 - val_loss: 2.3535 - val_accuracy: 0.5352\n",
      "Epoch 29/100\n",
      "8/8 [==============================] - 18s 2s/step - loss: 0.3287 - accuracy: 0.8732 - val_loss: 3.1076 - val_accuracy: 0.5000\n",
      "Epoch 30/100\n",
      "8/8 [==============================] - 18s 2s/step - loss: 0.4079 - accuracy: 0.7976 - val_loss: 1.8931 - val_accuracy: 0.5898\n",
      "Epoch 31/100\n",
      "8/8 [==============================] - 18s 2s/step - loss: 0.3266 - accuracy: 0.8498 - val_loss: 2.7882 - val_accuracy: 0.5156\n",
      "Epoch 32/100\n",
      "8/8 [==============================] - 20s 2s/step - loss: 0.3685 - accuracy: 0.8457 - val_loss: 1.7141 - val_accuracy: 0.6094\n",
      "Epoch 33/100\n",
      "8/8 [==============================] - 18s 2s/step - loss: 0.4732 - accuracy: 0.8331 - val_loss: 2.4670 - val_accuracy: 0.5625\n",
      "Epoch 34/100\n",
      "8/8 [==============================] - 20s 3s/step - loss: 0.3314 - accuracy: 0.8509 - val_loss: 2.0107 - val_accuracy: 0.5898\n",
      "Epoch 35/100\n",
      "8/8 [==============================] - 20s 2s/step - loss: 0.2943 - accuracy: 0.8799 - val_loss: 2.2439 - val_accuracy: 0.5742\n",
      "Epoch 36/100\n",
      "8/8 [==============================] - 18s 2s/step - loss: 0.3625 - accuracy: 0.8376 - val_loss: 2.1366 - val_accuracy: 0.5742\n",
      "Epoch 37/100\n",
      "8/8 [==============================] - 18s 2s/step - loss: 0.3612 - accuracy: 0.8543 - val_loss: 1.6329 - val_accuracy: 0.6289\n",
      "Epoch 38/100\n",
      "8/8 [==============================] - 18s 2s/step - loss: 0.2876 - accuracy: 0.8888 - val_loss: 2.9467 - val_accuracy: 0.5195\n",
      "Epoch 39/100\n",
      "8/8 [==============================] - 18s 2s/step - loss: 0.3226 - accuracy: 0.8509 - val_loss: 1.4444 - val_accuracy: 0.6797\n",
      "Epoch 40/100\n",
      "8/8 [==============================] - 18s 2s/step - loss: 0.3088 - accuracy: 0.8665 - val_loss: 2.3179 - val_accuracy: 0.5742\n",
      "Epoch 41/100\n",
      "8/8 [==============================] - 17s 2s/step - loss: 0.3189 - accuracy: 0.8565 - val_loss: 2.2889 - val_accuracy: 0.5859\n",
      "Epoch 42/100\n",
      "8/8 [==============================] - 18s 2s/step - loss: 0.3067 - accuracy: 0.8665 - val_loss: 2.7539 - val_accuracy: 0.5625\n",
      "Epoch 43/100\n",
      "8/8 [==============================] - 18s 2s/step - loss: 0.3165 - accuracy: 0.8598 - val_loss: 2.1537 - val_accuracy: 0.5938\n",
      "Epoch 44/100\n",
      "8/8 [==============================] - 17s 2s/step - loss: 0.2696 - accuracy: 0.8921 - val_loss: 1.9722 - val_accuracy: 0.6289\n",
      "Epoch 45/100\n",
      "8/8 [==============================] - 20s 3s/step - loss: 0.3050 - accuracy: 0.8623 - val_loss: 2.0930 - val_accuracy: 0.6055\n",
      "Epoch 46/100\n",
      "8/8 [==============================] - 18s 2s/step - loss: 0.2675 - accuracy: 0.8966 - val_loss: 2.6037 - val_accuracy: 0.5742\n",
      "Epoch 47/100\n",
      "8/8 [==============================] - 18s 2s/step - loss: 0.3012 - accuracy: 0.8788 - val_loss: 2.2161 - val_accuracy: 0.6211\n",
      "Epoch 48/100\n",
      "8/8 [==============================] - 18s 2s/step - loss: 0.2534 - accuracy: 0.8954 - val_loss: 2.2897 - val_accuracy: 0.5781\n",
      "Epoch 49/100\n",
      "8/8 [==============================] - 18s 2s/step - loss: 0.3001 - accuracy: 0.8699 - val_loss: 2.4872 - val_accuracy: 0.5742\n",
      "Epoch 50/100\n",
      "8/8 [==============================] - 18s 2s/step - loss: 0.3093 - accuracy: 0.8687 - val_loss: 1.9144 - val_accuracy: 0.6562\n",
      "Epoch 51/100\n",
      "8/8 [==============================] - 18s 2s/step - loss: 0.2477 - accuracy: 0.8988 - val_loss: 2.2217 - val_accuracy: 0.6328\n",
      "Epoch 52/100\n",
      "8/8 [==============================] - 20s 2s/step - loss: 0.2736 - accuracy: 0.8809 - val_loss: 1.7071 - val_accuracy: 0.6719\n",
      "Epoch 53/100\n",
      "8/8 [==============================] - 20s 3s/step - loss: 0.2657 - accuracy: 0.8865 - val_loss: 3.3870 - val_accuracy: 0.5430\n",
      "Epoch 54/100\n",
      "8/8 [==============================] - 18s 2s/step - loss: 0.2681 - accuracy: 0.8854 - val_loss: 2.3732 - val_accuracy: 0.6172\n",
      "Epoch 55/100\n",
      "8/8 [==============================] - 18s 2s/step - loss: 0.2863 - accuracy: 0.8710 - val_loss: 1.5905 - val_accuracy: 0.6602\n",
      "Epoch 56/100\n",
      "8/8 [==============================] - 18s 2s/step - loss: 0.2791 - accuracy: 0.8966 - val_loss: 2.4895 - val_accuracy: 0.5781\n",
      "Epoch 57/100\n",
      "8/8 [==============================] - 18s 2s/step - loss: 0.2375 - accuracy: 0.9121 - val_loss: 2.6934 - val_accuracy: 0.5742\n",
      "Epoch 58/100\n",
      "8/8 [==============================] - 20s 3s/step - loss: 0.2790 - accuracy: 0.8730 - val_loss: 1.8816 - val_accuracy: 0.6523\n",
      "Epoch 59/100\n",
      "8/8 [==============================] - 18s 2s/step - loss: 0.2407 - accuracy: 0.9043 - val_loss: 2.4582 - val_accuracy: 0.6133\n",
      "Epoch 60/100\n",
      "8/8 [==============================] - 20s 3s/step - loss: 0.2524 - accuracy: 0.8857 - val_loss: 2.5201 - val_accuracy: 0.6172\n",
      "Epoch 61/100\n",
      "8/8 [==============================] - 18s 2s/step - loss: 0.2198 - accuracy: 0.9132 - val_loss: 4.9983 - val_accuracy: 0.5078\n",
      "Epoch 62/100\n",
      "8/8 [==============================] - 18s 2s/step - loss: 0.3394 - accuracy: 0.8610 - val_loss: 2.3985 - val_accuracy: 0.6289\n",
      "Epoch 63/100\n",
      "8/8 [==============================] - 20s 2s/step - loss: 0.2009 - accuracy: 0.9219 - val_loss: 2.9794 - val_accuracy: 0.5781\n",
      "Epoch 64/100\n",
      "8/8 [==============================] - 20s 3s/step - loss: 0.2828 - accuracy: 0.8810 - val_loss: 2.5744 - val_accuracy: 0.6172\n",
      "Epoch 65/100\n",
      "8/8 [==============================] - 18s 2s/step - loss: 0.2417 - accuracy: 0.9010 - val_loss: 1.9064 - val_accuracy: 0.6680\n",
      "Epoch 66/100\n",
      "8/8 [==============================] - 17s 2s/step - loss: 0.2032 - accuracy: 0.9244 - val_loss: 6.0510 - val_accuracy: 0.5000\n",
      "Epoch 67/100\n",
      "8/8 [==============================] - 18s 2s/step - loss: 0.3856 - accuracy: 0.8521 - val_loss: 2.3472 - val_accuracy: 0.6250\n",
      "Epoch 68/100\n",
      "8/8 [==============================] - 18s 2s/step - loss: 0.2068 - accuracy: 0.9199 - val_loss: 3.3402 - val_accuracy: 0.5508\n",
      "Epoch 69/100\n",
      "8/8 [==============================] - 18s 2s/step - loss: 0.2157 - accuracy: 0.9055 - val_loss: 3.5751 - val_accuracy: 0.5508\n",
      "Epoch 70/100\n",
      "8/8 [==============================] - 20s 3s/step - loss: 0.2309 - accuracy: 0.9032 - val_loss: 2.5447 - val_accuracy: 0.6406\n",
      "Epoch 71/100\n",
      "8/8 [==============================] - 18s 2s/step - loss: 0.1771 - accuracy: 0.9355 - val_loss: 4.7848 - val_accuracy: 0.5273\n",
      "Epoch 72/100\n",
      "8/8 [==============================] - 20s 3s/step - loss: 0.2867 - accuracy: 0.8799 - val_loss: 2.6680 - val_accuracy: 0.6367\n",
      "Epoch 73/100\n",
      "8/8 [==============================] - 21s 3s/step - loss: 0.2050 - accuracy: 0.9188 - val_loss: 2.7601 - val_accuracy: 0.6211\n",
      "Epoch 74/100\n",
      "8/8 [==============================] - 18s 2s/step - loss: 0.2624 - accuracy: 0.8954 - val_loss: 2.0364 - val_accuracy: 0.6641\n",
      "Epoch 75/100\n",
      "8/8 [==============================] - 20s 3s/step - loss: 0.2221 - accuracy: 0.9199 - val_loss: 2.8136 - val_accuracy: 0.6133\n",
      "Epoch 76/100\n",
      "8/8 [==============================] - 18s 2s/step - loss: 0.2831 - accuracy: 0.8843 - val_loss: 2.5196 - val_accuracy: 0.6211\n",
      "Epoch 77/100\n",
      "8/8 [==============================] - 18s 2s/step - loss: 0.2071 - accuracy: 0.9232 - val_loss: 2.4899 - val_accuracy: 0.6523\n",
      "Epoch 78/100\n",
      "8/8 [==============================] - 19s 2s/step - loss: 0.2129 - accuracy: 0.9077 - val_loss: 3.4645 - val_accuracy: 0.5625\n",
      "Epoch 79/100\n",
      "8/8 [==============================] - 19s 2s/step - loss: 0.1558 - accuracy: 0.9288 - val_loss: 1.9735 - val_accuracy: 0.6836\n",
      "Epoch 80/100\n",
      "8/8 [==============================] - 18s 2s/step - loss: 0.1830 - accuracy: 0.9288 - val_loss: 2.3103 - val_accuracy: 0.6641\n",
      "Epoch 81/100\n",
      "8/8 [==============================] - 20s 3s/step - loss: 0.2049 - accuracy: 0.9121 - val_loss: 2.2188 - val_accuracy: 0.6602\n",
      "Epoch 82/100\n",
      "8/8 [==============================] - 18s 2s/step - loss: 0.3394 - accuracy: 0.8776 - val_loss: 2.4358 - val_accuracy: 0.6523\n",
      "Epoch 83/100\n",
      "8/8 [==============================] - 21s 3s/step - loss: 0.1545 - accuracy: 0.9388 - val_loss: 2.4656 - val_accuracy: 0.6523\n",
      "Epoch 84/100\n",
      "8/8 [==============================] - 18s 2s/step - loss: 0.1900 - accuracy: 0.9143 - val_loss: 2.7148 - val_accuracy: 0.6289\n",
      "Epoch 85/100\n",
      "8/8 [==============================] - 18s 2s/step - loss: 0.1622 - accuracy: 0.9333 - val_loss: 2.7751 - val_accuracy: 0.6367\n",
      "Epoch 86/100\n",
      "8/8 [==============================] - 18s 2s/step - loss: 0.2067 - accuracy: 0.9132 - val_loss: 5.8079 - val_accuracy: 0.5078\n",
      "Epoch 87/100\n",
      "8/8 [==============================] - 18s 2s/step - loss: 0.2182 - accuracy: 0.9143 - val_loss: 3.0305 - val_accuracy: 0.6094\n",
      "Epoch 88/100\n",
      "8/8 [==============================] - 21s 3s/step - loss: 0.2347 - accuracy: 0.9110 - val_loss: 3.0963 - val_accuracy: 0.6094\n",
      "Epoch 89/100\n",
      "8/8 [==============================] - 18s 2s/step - loss: 0.1395 - accuracy: 0.9466 - val_loss: 3.6522 - val_accuracy: 0.5742\n",
      "Epoch 90/100\n",
      "8/8 [==============================] - 18s 2s/step - loss: 0.1691 - accuracy: 0.9388 - val_loss: 3.6765 - val_accuracy: 0.5703\n",
      "Epoch 91/100\n",
      "8/8 [==============================] - 18s 2s/step - loss: 0.1750 - accuracy: 0.9277 - val_loss: 5.8970 - val_accuracy: 0.5039\n",
      "Epoch 92/100\n",
      "8/8 [==============================] - 18s 2s/step - loss: 0.3125 - accuracy: 0.8854 - val_loss: 2.6967 - val_accuracy: 0.6484\n",
      "Epoch 93/100\n",
      "8/8 [==============================] - 18s 2s/step - loss: 0.1512 - accuracy: 0.9366 - val_loss: 4.6417 - val_accuracy: 0.5391\n",
      "Epoch 94/100\n",
      "8/8 [==============================] - 18s 2s/step - loss: 0.1630 - accuracy: 0.9321 - val_loss: 3.9173 - val_accuracy: 0.5586\n",
      "Epoch 95/100\n",
      "8/8 [==============================] - 18s 2s/step - loss: 0.1982 - accuracy: 0.9110 - val_loss: 2.1538 - val_accuracy: 0.6641\n",
      "Epoch 96/100\n",
      "8/8 [==============================] - 18s 2s/step - loss: 0.1669 - accuracy: 0.9321 - val_loss: 2.1001 - val_accuracy: 0.6797\n",
      "Epoch 97/100\n",
      "8/8 [==============================] - 18s 2s/step - loss: 0.2173 - accuracy: 0.9077 - val_loss: 3.3978 - val_accuracy: 0.5703\n",
      "Epoch 98/100\n",
      "8/8 [==============================] - 20s 3s/step - loss: 0.1392 - accuracy: 0.9444 - val_loss: 4.6585 - val_accuracy: 0.5391\n",
      "Epoch 99/100\n",
      "8/8 [==============================] - 20s 2s/step - loss: 0.1523 - accuracy: 0.9375 - val_loss: 2.8127 - val_accuracy: 0.6484\n",
      "Epoch 100/100\n",
      "8/8 [==============================] - 18s 2s/step - loss: 0.1352 - accuracy: 0.9455 - val_loss: 1.5403 - val_accuracy: 0.7500\n"
     ]
    }
   ],
   "source": [
    "history = model.fit(\n",
    "      train_generator,\n",
    "      steps_per_epoch=8,  \n",
    "      epochs=100,\n",
    "      verbose=1,\n",
    "      validation_data = validation_generator,\n",
    "      validation_steps=8)"
   ]
  },
  {
   "cell_type": "code",
   "execution_count": 7,
   "metadata": {
    "colab": {
     "base_uri": "https://localhost:8080/",
     "height": 545
    },
    "id": "7zNPRWOVJdOH",
    "outputId": "952d4719-ef31-45f2-8d3a-d90308608033"
   },
   "outputs": [
    {
     "data": {
      "image/png": "[encoded data removed]",
      "text/plain": [
       "<Figure size 432x288 with 1 Axes>"
      ]
     },
     "metadata": {
      "needs_background": "light",
      "tags": []
     },
     "output_type": "display_data"
    },
    {
     "data": {
      "image/png": "[encoded data removed]",
      "text/plain": [
       "<Figure size 432x288 with 1 Axes>"
      ]
     },
     "metadata": {
      "needs_background": "light",
      "tags": []
     },
     "output_type": "display_data"
    }
   ],
   "source": [
    "import matplotlib.pyplot as plt\n",
    "acc = history.history['accuracy']\n",
    "val_acc = history.history['val_accuracy']\n",
    "loss = history.history['loss']\n",
    "val_loss = history.history['val_loss']\n",
    "\n",
    "epochs = range(len(acc))\n",
    "\n",
    "plt.plot(epochs, acc, 'r', label='Training accuracy')\n",
    "plt.plot(epochs, val_acc, 'b', label='Validation accuracy')\n",
    "plt.title('Training and validation accuracy')\n",
    "\n",
    "plt.figure()\n",
    "\n",
    "plt.plot(epochs, loss, 'r', label='Training Loss')\n",
    "plt.plot(epochs, val_loss, 'b', label='Validation Loss')\n",
    "plt.title('Training and validation loss')\n",
    "plt.legend()\n",
    "\n",
    "plt.show()"
   ]
  }
 ],
 "metadata": {
  "accelerator": "GPU",
  "colab": {
   "collapsed_sections": [],
   "name": "Course 2 - Part 4 - Lesson 4 - Notebook.ipynb",
   "provenance": [],
   "toc_visible": true
  },
  "kernelspec": {
   "display_name": "Python 3",
   "language": "python",
   "name": "python3"
  },
  "language_info": {
   "codemirror_mode": {
    "name": "ipython",
    "version": 3
   },
   "file_extension": ".py",
   "mimetype": "text/x-python",
   "name": "python",
   "nbconvert_exporter": "python",
   "pygments_lexer": "ipython3",
   "version": "3.8.3"
  }
 },
 "nbformat": 4,
 "nbformat_minor": 1
}
