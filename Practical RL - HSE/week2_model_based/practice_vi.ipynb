{
 "cells": [
  {
   "cell_type": "markdown",
   "metadata": {},
   "source": [
    "# Markov decision process\n",
    "\n",
    "This week's methods are all built to solve __M__arkov __D__ecision __P__rocesses. In the broadest sense, an MDP is defined by how it changes states and how rewards are computed.\n",
    "\n",
    "State transition is defined by $P(s' |s,a)$ - how likely are you to end at state $s'$ if you take action $a$ from state $s$. Now there's more than one way to define rewards, but we'll use $r(s,a,s')$ function for convenience.\n",
    "\n",
    "_This notebook is inspired by the awesome_ [CS294](https://github.com/berkeleydeeprlcourse/homework/blob/36a0b58261acde756abd55306fbe63df226bf62b/hw2/HW2.ipynb) _by Berkeley_"
   ]
  },
  {
   "cell_type": "markdown",
   "metadata": {},
   "source": [
    "For starters, let's define a simple MDP from this picture:\n",
    "\n",
    "<img src=\"https://upload.wikimedia.org/wikipedia/commons/a/ad/Markov_Decision_Process.svg\" width=\"400px\" alt=\"Diagram by Waldoalvarez via Wikimedia Commons, CC BY-SA 4.0\"/>"
   ]
  },
  {
   "cell_type": "code",
   "execution_count": 1,
   "metadata": {},
   "outputs": [
    {
     "name": "stderr",
     "output_type": "stream",
     "text": [
      "'bash' is not recognized as an internal or external command,\n",
      "operable program or batch file.\n"
     ]
    }
   ],
   "source": [
    "import sys, os\n",
    "if 'google.colab' in sys.modules and not os.path.exists('.setup_complete'):\n",
    "    !wget -q https://raw.githubusercontent.com/yandexdataschool/Practical_RL/spring20/setup_colab.sh -O- | bash\n",
    "\n",
    "    !wget -q https://raw.githubusercontent.com/yandexdataschool/Practical_RL/coursera/grading.py -O ../grading.py\n",
    "    !wget -q https://raw.githubusercontent.com/yandexdataschool/Practical_RL/coursera/week2_model_based/submit.py\n",
    "    !wget -q https://raw.githubusercontent.com/yandexdataschool/Practical_RL/coursera/week2_model_based/mdp.py\n",
    "\n",
    "    !touch .setup_complete\n",
    "\n",
    "# This code creates a virtual display to draw game images on.\n",
    "# It will have no effect if your machine has a monitor.\n",
    "if type(os.environ.get(\"DISPLAY\")) is not str or len(os.environ.get(\"DISPLAY\")) == 0:\n",
    "    !bash ../xvfb start\n",
    "    os.environ['DISPLAY'] = ':1'"
   ]
  },
  {
   "cell_type": "code",
   "execution_count": 2,
   "metadata": {},
   "outputs": [],
   "source": [
    "transition_probs = {\n",
    "    's0': {\n",
    "        'a0': {'s0': 0.5, 's2': 0.5},\n",
    "        'a1': {'s2': 1}\n",
    "    },\n",
    "    's1': {\n",
    "        'a0': {'s0': 0.7, 's1': 0.1, 's2': 0.2},\n",
    "        'a1': {'s1': 0.95, 's2': 0.05}\n",
    "    },\n",
    "    's2': {\n",
    "        'a0': {'s0': 0.4, 's2': 0.6},\n",
    "        'a1': {'s0': 0.3, 's1': 0.3, 's2': 0.4}\n",
    "    }\n",
    "}\n",
    "rewards = {\n",
    "    's1': {'a0': {'s0': +5}},\n",
    "    's2': {'a1': {'s0': -1}}\n",
    "}\n",
    "\n",
    "from mdp import MDP\n",
    "mdp = MDP(transition_probs, rewards, initial_state='s0')"
   ]
  },
  {
   "cell_type": "markdown",
   "metadata": {},
   "source": [
    "We can now use MDP just as any other gym environment:"
   ]
  },
  {
   "cell_type": "code",
   "execution_count": 3,
   "metadata": {},
   "outputs": [
    {
     "name": "stdout",
     "output_type": "stream",
     "text": [
      "initial state = s0\n",
      "next_state = s2, reward = 0.0, done = False\n"
     ]
    }
   ],
   "source": [
    "print('initial state =', mdp.reset())\n",
    "next_state, reward, done, info = mdp.step('a1')\n",
    "print('next_state = %s, reward = %s, done = %s' % (next_state, reward, done))"
   ]
  },
  {
   "cell_type": "markdown",
   "metadata": {},
   "source": [
    "but it also has other methods that you'll need for Value Iteration"
   ]
  },
  {
   "cell_type": "code",
   "execution_count": 4,
   "metadata": {},
   "outputs": [
    {
     "name": "stdout",
     "output_type": "stream",
     "text": [
      "mdp.get_all_states = ('s0', 's1', 's2')\n",
      "mdp.get_possible_actions('s1') =  ('a0', 'a1')\n",
      "mdp.get_next_states('s1', 'a0') =  {'s0': 0.7, 's1': 0.1, 's2': 0.2}\n",
      "mdp.get_reward('s1', 'a0', 's0') =  5\n",
      "mdp.get_transition_prob('s1', 'a0', 's0') =  0.7\n"
     ]
    }
   ],
   "source": [
    "print(\"mdp.get_all_states =\", mdp.get_all_states())\n",
    "print(\"mdp.get_possible_actions('s1') = \", mdp.get_possible_actions('s1'))\n",
    "print(\"mdp.get_next_states('s1', 'a0') = \", mdp.get_next_states('s1', 'a0'))\n",
    "print(\"mdp.get_reward('s1', 'a0', 's0') = \", mdp.get_reward('s1', 'a0', 's0'))\n",
    "print(\"mdp.get_transition_prob('s1', 'a0', 's0') = \",\n",
    "      mdp.get_transition_prob('s1', 'a0', 's0'))"
   ]
  },
  {
   "cell_type": "markdown",
   "metadata": {},
   "source": [
    "### Optional: Visualizing MDPs\n",
    "\n",
    "You can also visualize any MDP with the drawing fuction donated by [neer201](https://github.com/neer201).\n",
    "\n",
    "You have to install graphviz for system and for python. For ubuntu just run:\n",
    "\n",
    "1. `sudo apt-get install graphviz`\n",
    "2. `pip install graphviz`\n",
    "3. restart the notebook\n",
    "\n",
    "__Note:__ Installing graphviz on some OS (esp. Windows) may be tricky. However, you can ignore this part alltogether and use the standart vizualization."
   ]
  },
  {
   "cell_type": "code",
   "execution_count": 5,
   "metadata": {},
   "outputs": [
    {
     "name": "stdout",
     "output_type": "stream",
     "text": [
      "Graphviz available: True\n"
     ]
    }
   ],
   "source": [
    "from mdp import has_graphviz\n",
    "from IPython.display import display\n",
    "print(\"Graphviz available:\", has_graphviz)"
   ]
  },
  {
   "cell_type": "code",
   "execution_count": 6,
   "metadata": {},
   "outputs": [
    {
     "data": {
      "image/svg+xml": [
       "<?xml version=\"1.0\" encoding=\"UTF-8\" standalone=\"no\"?>\r\n",
       "<!DOCTYPE svg PUBLIC \"-//W3C//DTD SVG 1.1//EN\"\r\n",
       " \"http://www.w3.org/Graphics/SVG/1.1/DTD/svg11.dtd\">\r\n",
       "<!-- Generated by graphviz version 2.47.0 (20210316.0004)\r\n",
       " -->\r\n",
       "<!-- Title: MDP Pages: 1 -->\r\n",
       "<svg width=\"720pt\" height=\"227pt\"\r\n",
       " viewBox=\"0.00 0.00 720.00 226.97\" xmlns=\"http://www.w3.org/2000/svg\" xmlns:xlink=\"http://www.w3.org/1999/xlink\">\r\n",
       "<g id=\"graph0\" class=\"graph\" transform=\"scale(0.7 0.7) rotate(0) translate(4 318)\">\r\n",
       "<title>MDP</title>\r\n",
       "<polygon fill=\"white\" stroke=\"transparent\" points=\"-4,4 -4,-318 1017.46,-318 1017.46,4 -4,4\"/>\r\n",
       "<!-- s0 -->\r\n",
       "<g id=\"node1\" class=\"node\">\r\n",
       "<title>s0</title>\r\n",
       "<ellipse fill=\"#85ff75\" stroke=\"#85ff75\" cx=\"40\" cy=\"-116\" rx=\"36\" ry=\"36\"/>\r\n",
       "<ellipse fill=\"none\" stroke=\"#85ff75\" cx=\"40\" cy=\"-116\" rx=\"40\" ry=\"40\"/>\r\n",
       "<text text-anchor=\"middle\" x=\"40\" y=\"-109.8\" font-family=\"Arial\" font-size=\"24.00\">s0</text>\r\n",
       "</g>\r\n",
       "<!-- s0&#45;a0 -->\r\n",
       "<g id=\"node2\" class=\"node\">\r\n",
       "<title>s0&#45;a0</title>\r\n",
       "<ellipse fill=\"lightpink\" stroke=\"lightpink\" cx=\"192.58\" cy=\"-160\" rx=\"27.65\" ry=\"27.65\"/>\r\n",
       "<text text-anchor=\"middle\" x=\"192.58\" y=\"-155\" font-family=\"Arial\" font-size=\"20.00\">a0</text>\r\n",
       "</g>\r\n",
       "<!-- s0&#45;&gt;s0&#45;a0 -->\r\n",
       "<g id=\"edge1\" class=\"edge\">\r\n",
       "<title>s0&#45;&gt;s0&#45;a0</title>\r\n",
       "<path fill=\"none\" stroke=\"red\" stroke-width=\"2\" d=\"M79.07,-124.58C99.39,-129.44 124.73,-135.94 147,-143 150.34,-144.06 153.79,-145.23 157.23,-146.45\"/>\r\n",
       "<polygon fill=\"red\" stroke=\"red\" stroke-width=\"2\" points=\"156.17,-149.79 166.76,-149.96 158.59,-143.22 156.17,-149.79\"/>\r\n",
       "</g>\r\n",
       "<!-- s0&#45;a1 -->\r\n",
       "<g id=\"node4\" class=\"node\">\r\n",
       "<title>s0&#45;a1</title>\r\n",
       "<ellipse fill=\"lightpink\" stroke=\"lightpink\" cx=\"192.58\" cy=\"-233\" rx=\"27.65\" ry=\"27.65\"/>\r\n",
       "<text text-anchor=\"middle\" x=\"192.58\" y=\"-228\" font-family=\"Arial\" font-size=\"20.00\">a1</text>\r\n",
       "</g>\r\n",
       "<!-- s0&#45;&gt;s0&#45;a1 -->\r\n",
       "<g id=\"edge4\" class=\"edge\">\r\n",
       "<title>s0&#45;&gt;s0&#45;a1</title>\r\n",
       "<path fill=\"none\" stroke=\"red\" stroke-width=\"2\" d=\"M66.92,-145.67C76.24,-155.54 87.14,-166.24 98,-175 117.05,-190.37 140.45,-204.87 159.09,-215.53\"/>\r\n",
       "<polygon fill=\"red\" stroke=\"red\" stroke-width=\"2\" points=\"157.39,-218.59 167.82,-220.44 160.82,-212.49 157.39,-218.59\"/>\r\n",
       "</g>\r\n",
       "<!-- s0&#45;a0&#45;&gt;s0 -->\r\n",
       "<g id=\"edge2\" class=\"edge\">\r\n",
       "<title>s0&#45;a0&#45;&gt;s0</title>\r\n",
       "<path fill=\"none\" stroke=\"blue\" stroke-dasharray=\"5,2\" d=\"M165.02,-155.7C146.09,-152.3 120.19,-146.97 98,-140 94.19,-138.8 90.29,-137.45 86.39,-136\"/>\r\n",
       "<polygon fill=\"blue\" stroke=\"blue\" points=\"87.39,-132.64 76.8,-132.28 84.86,-139.16 87.39,-132.64\"/>\r\n",
       "<text text-anchor=\"middle\" x=\"122.5\" y=\"-158.2\" font-family=\"Arial\" font-size=\"16.00\">p = 0.5</text>\r\n",
       "</g>\r\n",
       "<!-- s2 -->\r\n",
       "<g id=\"node3\" class=\"node\">\r\n",
       "<title>s2</title>\r\n",
       "<ellipse fill=\"#85ff75\" stroke=\"#85ff75\" cx=\"430.15\" cy=\"-183\" rx=\"36\" ry=\"36\"/>\r\n",
       "<ellipse fill=\"none\" stroke=\"#85ff75\" cx=\"430.15\" cy=\"-183\" rx=\"40\" ry=\"40\"/>\r\n",
       "<text text-anchor=\"middle\" x=\"430.15\" y=\"-176.8\" font-family=\"Arial\" font-size=\"24.00\">s2</text>\r\n",
       "</g>\r\n",
       "<!-- s0&#45;a0&#45;&gt;s2 -->\r\n",
       "<g id=\"edge3\" class=\"edge\">\r\n",
       "<title>s0&#45;a0&#45;&gt;s2</title>\r\n",
       "<path fill=\"none\" stroke=\"blue\" stroke-dasharray=\"5,2\" d=\"M220.14,-162.59C258.9,-166.38 331.61,-173.48 380.22,-178.22\"/>\r\n",
       "<polygon fill=\"blue\" stroke=\"blue\" points=\"379.91,-181.71 390.2,-179.2 380.59,-174.74 379.91,-181.71\"/>\r\n",
       "<text text-anchor=\"middle\" x=\"305.15\" y=\"-182.2\" font-family=\"Arial\" font-size=\"16.00\">p = 0.5</text>\r\n",
       "</g>\r\n",
       "<!-- s2&#45;a0 -->\r\n",
       "<g id=\"node8\" class=\"node\">\r\n",
       "<title>s2&#45;a0</title>\r\n",
       "<ellipse fill=\"lightpink\" stroke=\"lightpink\" cx=\"662.73\" cy=\"-162\" rx=\"27.65\" ry=\"27.65\"/>\r\n",
       "<text text-anchor=\"middle\" x=\"662.73\" y=\"-157\" font-family=\"Arial\" font-size=\"20.00\">a0</text>\r\n",
       "</g>\r\n",
       "<!-- s2&#45;&gt;s2&#45;a0 -->\r\n",
       "<g id=\"edge13\" class=\"edge\">\r\n",
       "<title>s2&#45;&gt;s2&#45;a0</title>\r\n",
       "<path fill=\"none\" stroke=\"red\" stroke-width=\"2\" d=\"M470.1,-186.95C508.07,-189.78 567.22,-191.48 617.15,-181 620.83,-180.23 624.58,-179.15 628.26,-177.89\"/>\r\n",
       "<polygon fill=\"red\" stroke=\"red\" stroke-width=\"2\" points=\"629.69,-181.09 637.77,-174.24 627.18,-174.56 629.69,-181.09\"/>\r\n",
       "</g>\r\n",
       "<!-- s2&#45;a1 -->\r\n",
       "<g id=\"node9\" class=\"node\">\r\n",
       "<title>s2&#45;a1</title>\r\n",
       "<ellipse fill=\"lightpink\" stroke=\"lightpink\" cx=\"662.73\" cy=\"-80\" rx=\"27.65\" ry=\"27.65\"/>\r\n",
       "<text text-anchor=\"middle\" x=\"662.73\" y=\"-75\" font-family=\"Arial\" font-size=\"20.00\">a1</text>\r\n",
       "</g>\r\n",
       "<!-- s2&#45;&gt;s2&#45;a1 -->\r\n",
       "<g id=\"edge16\" class=\"edge\">\r\n",
       "<title>s2&#45;&gt;s2&#45;a1</title>\r\n",
       "<path fill=\"none\" stroke=\"red\" stroke-width=\"2\" d=\"M464.42,-161.95C472.09,-157.44 480.3,-152.87 488.15,-149 534.94,-125.93 591.47,-104.61 627.02,-91.94\"/>\r\n",
       "<polygon fill=\"red\" stroke=\"red\" stroke-width=\"2\" points=\"628.21,-95.24 636.47,-88.61 625.88,-88.64 628.21,-95.24\"/>\r\n",
       "</g>\r\n",
       "<!-- s0&#45;a1&#45;&gt;s2 -->\r\n",
       "<g id=\"edge5\" class=\"edge\">\r\n",
       "<title>s0&#45;a1&#45;&gt;s2</title>\r\n",
       "<path fill=\"none\" stroke=\"blue\" stroke-dasharray=\"5,2\" d=\"M220.05,-228.69C255.05,-222.82 318.54,-211.6 372.15,-199 375.31,-198.26 378.55,-197.46 381.8,-196.62\"/>\r\n",
       "<polygon fill=\"blue\" stroke=\"blue\" points=\"382.79,-199.98 391.56,-194.04 381,-193.22 382.79,-199.98\"/>\r\n",
       "<text text-anchor=\"middle\" x=\"305.15\" y=\"-230.2\" font-family=\"Arial\" font-size=\"16.00\">p = 1</text>\r\n",
       "</g>\r\n",
       "<!-- s1 -->\r\n",
       "<g id=\"node5\" class=\"node\">\r\n",
       "<title>s1</title>\r\n",
       "<ellipse fill=\"#85ff75\" stroke=\"#85ff75\" cx=\"824.31\" cy=\"-116\" rx=\"36\" ry=\"36\"/>\r\n",
       "<ellipse fill=\"none\" stroke=\"#85ff75\" cx=\"824.31\" cy=\"-116\" rx=\"40\" ry=\"40\"/>\r\n",
       "<text text-anchor=\"middle\" x=\"824.31\" y=\"-109.8\" font-family=\"Arial\" font-size=\"24.00\">s1</text>\r\n",
       "</g>\r\n",
       "<!-- s1&#45;a0 -->\r\n",
       "<g id=\"node6\" class=\"node\">\r\n",
       "<title>s1&#45;a0</title>\r\n",
       "<ellipse fill=\"lightpink\" stroke=\"lightpink\" cx=\"985.89\" cy=\"-92\" rx=\"27.65\" ry=\"27.65\"/>\r\n",
       "<text text-anchor=\"middle\" x=\"985.89\" y=\"-87\" font-family=\"Arial\" font-size=\"20.00\">a0</text>\r\n",
       "</g>\r\n",
       "<!-- s1&#45;&gt;s1&#45;a0 -->\r\n",
       "<g id=\"edge6\" class=\"edge\">\r\n",
       "<title>s1&#45;&gt;s1&#45;a0</title>\r\n",
       "<path fill=\"none\" stroke=\"red\" stroke-width=\"2\" d=\"M864.31,-112.23C886.64,-109.82 915.14,-106.34 940.31,-102 943,-101.54 945.77,-101.01 948.56,-100.46\"/>\r\n",
       "<polygon fill=\"red\" stroke=\"red\" stroke-width=\"2\" points=\"949.51,-103.84 958.57,-98.36 948.07,-96.99 949.51,-103.84\"/>\r\n",
       "</g>\r\n",
       "<!-- s1&#45;a1 -->\r\n",
       "<g id=\"node7\" class=\"node\">\r\n",
       "<title>s1&#45;a1</title>\r\n",
       "<ellipse fill=\"lightpink\" stroke=\"lightpink\" cx=\"985.89\" cy=\"-174\" rx=\"27.65\" ry=\"27.65\"/>\r\n",
       "<text text-anchor=\"middle\" x=\"985.89\" y=\"-169\" font-family=\"Arial\" font-size=\"20.00\">a1</text>\r\n",
       "</g>\r\n",
       "<!-- s1&#45;&gt;s1&#45;a1 -->\r\n",
       "<g id=\"edge10\" class=\"edge\">\r\n",
       "<title>s1&#45;&gt;s1&#45;a1</title>\r\n",
       "<path fill=\"none\" stroke=\"red\" stroke-width=\"2\" d=\"M862.59,-127.85C885.23,-135.24 914.61,-145.18 940.31,-155 943.82,-156.34 947.45,-157.79 951.07,-159.27\"/>\r\n",
       "<polygon fill=\"red\" stroke=\"red\" stroke-width=\"2\" points=\"949.92,-162.58 960.5,-163.21 952.62,-156.12 949.92,-162.58\"/>\r\n",
       "</g>\r\n",
       "<!-- s1&#45;a0&#45;&gt;s0 -->\r\n",
       "<g id=\"edge7\" class=\"edge\">\r\n",
       "<title>s1&#45;a0&#45;&gt;s0</title>\r\n",
       "<path fill=\"none\" stroke=\"blue\" stroke-dasharray=\"5,2\" d=\"M966.26,-72.49C938.38,-45.48 882.87,0 825.31,0 191.58,0 191.58,0 191.58,0 140.71,0 96.51,-42.06 69.39,-75.52\"/>\r\n",
       "<polygon fill=\"blue\" stroke=\"blue\" points=\"66.64,-73.36 63.2,-83.38 72.13,-77.69 66.64,-73.36\"/>\r\n",
       "<text text-anchor=\"middle\" x=\"552.65\" y=\"-5.2\" font-family=\"Arial\" font-size=\"16.00\">p = 0.7 &#160;reward =5</text>\r\n",
       "</g>\r\n",
       "<!-- s1&#45;a0&#45;&gt;s2 -->\r\n",
       "<g id=\"edge9\" class=\"edge\">\r\n",
       "<title>s1&#45;a0&#45;&gt;s2</title>\r\n",
       "<path fill=\"none\" stroke=\"blue\" stroke-dasharray=\"5,2\" d=\"M970.15,-114.86C966.01,-121.81 961.72,-129.58 958.31,-137 947.93,-159.61 960.27,-175.15 940.31,-190 779.04,-309.99 687.05,-229.03 488.15,-200 484.88,-199.52 481.54,-198.9 478.19,-198.17\"/>\r\n",
       "<polygon fill=\"blue\" stroke=\"blue\" points=\"478.76,-194.71 468.21,-195.73 477.1,-201.51 478.76,-194.71\"/>\r\n",
       "<text text-anchor=\"middle\" x=\"737.31\" y=\"-258.2\" font-family=\"Arial\" font-size=\"16.00\">p = 0.2</text>\r\n",
       "</g>\r\n",
       "<!-- s1&#45;a0&#45;&gt;s1 -->\r\n",
       "<g id=\"edge8\" class=\"edge\">\r\n",
       "<title>s1&#45;a0&#45;&gt;s1</title>\r\n",
       "<path fill=\"none\" stroke=\"blue\" stroke-dasharray=\"5,2\" d=\"M959.56,-83.57C938.51,-77.86 907.97,-72.57 882.31,-80 876.62,-81.65 870.95,-84.05 865.52,-86.84\"/>\r\n",
       "<polygon fill=\"blue\" stroke=\"blue\" points=\"863.63,-83.89 856.64,-91.85 867.07,-89.99 863.63,-83.89\"/>\r\n",
       "<text text-anchor=\"middle\" x=\"911.31\" y=\"-85.2\" font-family=\"Arial\" font-size=\"16.00\">p = 0.1</text>\r\n",
       "</g>\r\n",
       "<!-- s1&#45;a1&#45;&gt;s2 -->\r\n",
       "<g id=\"edge12\" class=\"edge\">\r\n",
       "<title>s1&#45;a1&#45;&gt;s2</title>\r\n",
       "<path fill=\"none\" stroke=\"blue\" stroke-dasharray=\"5,2\" d=\"M973.29,-198.86C965.84,-211.79 954.81,-226.45 940.31,-234 762.09,-326.85 675.05,-307.85 488.15,-234 479.81,-230.7 471.9,-225.59 464.78,-219.86\"/>\r\n",
       "<polygon fill=\"blue\" stroke=\"blue\" points=\"466.64,-216.84 456.8,-212.91 462.04,-222.12 466.64,-216.84\"/>\r\n",
       "<text text-anchor=\"middle\" x=\"737.31\" y=\"-301.2\" font-family=\"Arial\" font-size=\"16.00\">p = 0.05</text>\r\n",
       "</g>\r\n",
       "<!-- s1&#45;a1&#45;&gt;s1 -->\r\n",
       "<g id=\"edge11\" class=\"edge\">\r\n",
       "<title>s1&#45;a1&#45;&gt;s1</title>\r\n",
       "<path fill=\"none\" stroke=\"blue\" stroke-dasharray=\"5,2\" d=\"M958.42,-170.93C937.24,-167.87 907.1,-162.11 882.31,-152 876.89,-149.79 871.42,-147.07 866.12,-144.13\"/>\r\n",
       "<polygon fill=\"blue\" stroke=\"blue\" points=\"867.79,-141.05 857.4,-139.01 864.25,-147.09 867.79,-141.05\"/>\r\n",
       "<text text-anchor=\"middle\" x=\"911.31\" y=\"-173.2\" font-family=\"Arial\" font-size=\"16.00\">p = 0.95</text>\r\n",
       "</g>\r\n",
       "<!-- s2&#45;a0&#45;&gt;s0 -->\r\n",
       "<g id=\"edge14\" class=\"edge\">\r\n",
       "<title>s2&#45;a0&#45;&gt;s0</title>\r\n",
       "<path fill=\"none\" stroke=\"blue\" stroke-dasharray=\"5,2\" d=\"M636,-153.63C629.87,-151.88 623.33,-150.2 617.15,-149 443.61,-115.13 396.82,-130.34 220.15,-123 176.28,-121.18 126.36,-119.24 90.37,-117.86\"/>\r\n",
       "<polygon fill=\"blue\" stroke=\"blue\" points=\"90.27,-114.36 80.14,-117.47 90,-121.35 90.27,-114.36\"/>\r\n",
       "<text text-anchor=\"middle\" x=\"305.15\" y=\"-131.2\" font-family=\"Arial\" font-size=\"16.00\">p = 0.4</text>\r\n",
       "</g>\r\n",
       "<!-- s2&#45;a0&#45;&gt;s2 -->\r\n",
       "<g id=\"edge15\" class=\"edge\">\r\n",
       "<title>s2&#45;a0&#45;&gt;s2</title>\r\n",
       "<path fill=\"none\" stroke=\"blue\" stroke-dasharray=\"5,2\" d=\"M635.24,-158.04C600.92,-153.71 539.41,-148.65 488.15,-159 484.07,-159.82 479.91,-160.95 475.8,-162.27\"/>\r\n",
       "<polygon fill=\"blue\" stroke=\"blue\" points=\"474.59,-158.99 466.34,-165.64 476.93,-165.58 474.59,-158.99\"/>\r\n",
       "<text text-anchor=\"middle\" x=\"552.65\" y=\"-164.2\" font-family=\"Arial\" font-size=\"16.00\">p = 0.6</text>\r\n",
       "</g>\r\n",
       "<!-- s2&#45;a1&#45;&gt;s0 -->\r\n",
       "<g id=\"edge17\" class=\"edge\">\r\n",
       "<title>s2&#45;a1&#45;&gt;s0</title>\r\n",
       "<path fill=\"none\" stroke=\"blue\" stroke-dasharray=\"5,2\" d=\"M639.56,-64.64C632.68,-60.71 624.88,-57.02 617.15,-55 454.13,-12.41 405.63,-45.55 238.15,-64 175.18,-70.94 158.42,-70.93 98,-90 93.92,-91.29 89.74,-92.8 85.6,-94.42\"/>\r\n",
       "<polygon fill=\"blue\" stroke=\"blue\" points=\"83.94,-91.32 76.05,-98.4 86.62,-97.79 83.94,-91.32\"/>\r\n",
       "<text text-anchor=\"middle\" x=\"305.15\" y=\"-69.2\" font-family=\"Arial\" font-size=\"16.00\">p = 0.3 &#160;reward =&#45;1</text>\r\n",
       "</g>\r\n",
       "<!-- s2&#45;a1&#45;&gt;s2 -->\r\n",
       "<g id=\"edge19\" class=\"edge\">\r\n",
       "<title>s2&#45;a1&#45;&gt;s2</title>\r\n",
       "<path fill=\"none\" stroke=\"blue\" stroke-dasharray=\"5,2\" d=\"M636.31,-71.26C600.45,-60.61 534.24,-47.21 488.15,-75 466.57,-88.02 452.74,-112.24 444.11,-134.45\"/>\r\n",
       "<polygon fill=\"blue\" stroke=\"blue\" points=\"440.72,-133.54 440.62,-144.14 447.3,-135.92 440.72,-133.54\"/>\r\n",
       "<text text-anchor=\"middle\" x=\"552.65\" y=\"-80.2\" font-family=\"Arial\" font-size=\"16.00\">p = 0.4</text>\r\n",
       "</g>\r\n",
       "<!-- s2&#45;a1&#45;&gt;s1 -->\r\n",
       "<g id=\"edge18\" class=\"edge\">\r\n",
       "<title>s2&#45;a1&#45;&gt;s1</title>\r\n",
       "<path fill=\"none\" stroke=\"blue\" stroke-dasharray=\"5,2\" d=\"M689.73,-85.86C712.77,-91.06 747.03,-98.79 775.08,-105.12\"/>\r\n",
       "<polygon fill=\"blue\" stroke=\"blue\" points=\"774.57,-108.59 785.1,-107.38 776.11,-101.77 774.57,-108.59\"/>\r\n",
       "<text text-anchor=\"middle\" x=\"737.31\" y=\"-108.2\" font-family=\"Arial\" font-size=\"16.00\">p = 0.3</text>\r\n",
       "</g>\r\n",
       "</g>\r\n",
       "</svg>\r\n"
      ],
      "text/plain": [
       "<graphviz.dot.Digraph at 0x21ff4d39a58>"
      ]
     },
     "metadata": {},
     "output_type": "display_data"
    }
   ],
   "source": [
    "if has_graphviz:\n",
    "    from mdp import plot_graph, plot_graph_with_state_values, \\\n",
    "        plot_graph_optimal_strategy_and_state_values\n",
    "\n",
    "    display(plot_graph(mdp))"
   ]
  },
  {
   "cell_type": "markdown",
   "metadata": {},
   "source": [
    "## Value Iteration\n",
    "\n",
    "Now let's build something to solve this MDP. The simplest algorithm so far is __V__alue __I__teration\n",
    "\n",
    "Here's the pseudo-code for VI:\n",
    "\n",
    "---\n",
    "\n",
    "`1.` Initialize $V^{(0)}(s)=0$, for all $s$\n",
    "\n",
    "`2.` For $i=0, 1, 2, \\dots$\n",
    " \n",
    "`3.` $ \\quad V_{(i+1)}(s) = \\max_a \\sum_{s'} P(s' | s,a) \\cdot [ r(s,a,s') + \\gamma V_{i}(s')]$, for all $s$\n",
    "\n",
    "---"
   ]
  },
  {
   "cell_type": "markdown",
   "metadata": {},
   "source": [
    "First, let's write a function to compute the state-action value function $Q^{\\pi}$, defined as follows\n",
    "\n",
    "$$Q_i(s, a) = \\sum_{s'} P(s' | s,a) \\cdot [ r(s,a,s') + \\gamma V_{i}(s')]$$\n"
   ]
  },
  {
   "cell_type": "code",
   "execution_count": 7,
   "metadata": {},
   "outputs": [
    {
     "name": "stdout",
     "output_type": "stream",
     "text": [
      "Overwriting mdp_get_action_value.py\n"
     ]
    }
   ],
   "source": [
    "%%writefile mdp_get_action_value.py\n",
    "\n",
    "def get_action_value(mdp, state_values, state, action, gamma):\n",
    "    \"\"\" Computes Q(s,a) as in formula above \"\"\"\n",
    "\n",
    "    q = 0\n",
    "    for state_ in mdp.get_next_states(state, action):\n",
    "        prob = mdp.get_transition_prob(state, action, state_)\n",
    "        reward = mdp.get_reward(state, action, state_)\n",
    "        q += prob * (reward + (gamma*state_values[state_]))\n",
    "\n",
    "    return q"
   ]
  },
  {
   "cell_type": "code",
   "execution_count": 8,
   "metadata": {},
   "outputs": [],
   "source": [
    "from mdp_get_action_value import get_action_value"
   ]
  },
  {
   "cell_type": "code",
   "execution_count": 9,
   "metadata": {},
   "outputs": [],
   "source": [
    "import numpy as np\n",
    "test_Vs = {s: i for i, s in enumerate(sorted(mdp.get_all_states()))}\n",
    "assert np.isclose(get_action_value(mdp, test_Vs, 's2', 'a1', 0.9), 0.69)\n",
    "assert np.isclose(get_action_value(mdp, test_Vs, 's1', 'a0', 0.9), 3.95)"
   ]
  },
  {
   "cell_type": "markdown",
   "metadata": {},
   "source": [
    "Using $Q(s,a)$ we can now define the \"next\" V(s) for value iteration.\n",
    " $$V_{(i+1)}(s) = \\max_a \\sum_{s'} P(s' | s,a) \\cdot [ r(s,a,s') + \\gamma V_{i}(s')] = \\max_a Q_i(s,a)$$"
   ]
  },
  {
   "cell_type": "code",
   "execution_count": 10,
   "metadata": {},
   "outputs": [],
   "source": [
    "def get_new_state_value(mdp, state_values, state, gamma):\n",
    "    \"\"\" Computes next V(s) as in formula above. Please do not change state_values in process. \"\"\"\n",
    "    if mdp.is_terminal(state):\n",
    "        return 0\n",
    "\n",
    "    return max ([get_action_value(mdp, state_values, state, action, gamma) for action in mdp.get_possible_actions(state)])"
   ]
  },
  {
   "cell_type": "code",
   "execution_count": 11,
   "metadata": {},
   "outputs": [],
   "source": [
    "test_Vs_copy = dict(test_Vs)\n",
    "assert np.isclose(get_new_state_value(mdp, test_Vs, 's0', 0.9), 1.8)\n",
    "assert np.isclose(get_new_state_value(mdp, test_Vs, 's2', 0.9), 1.08)\n",
    "assert test_Vs == test_Vs_copy, \"please do not change state_values in get_new_state_value\""
   ]
  },
  {
   "cell_type": "markdown",
   "metadata": {},
   "source": [
    "Finally, let's combine everything we wrote into a working value iteration algo."
   ]
  },
  {
   "cell_type": "code",
   "execution_count": 12,
   "metadata": {},
   "outputs": [
    {
     "data": {
      "image/svg+xml": [
       "<?xml version=\"1.0\" encoding=\"UTF-8\" standalone=\"no\"?>\r\n",
       "<!DOCTYPE svg PUBLIC \"-//W3C//DTD SVG 1.1//EN\"\r\n",
       " \"http://www.w3.org/Graphics/SVG/1.1/DTD/svg11.dtd\">\r\n",
       "<!-- Generated by graphviz version 2.47.0 (20210316.0004)\r\n",
       " -->\r\n",
       "<!-- Title: MDP Pages: 1 -->\r\n",
       "<svg width=\"720pt\" height=\"216pt\"\r\n",
       " viewBox=\"0.00 0.00 720.00 216.06\" xmlns=\"http://www.w3.org/2000/svg\" xmlns:xlink=\"http://www.w3.org/1999/xlink\">\r\n",
       "<g id=\"graph0\" class=\"graph\" transform=\"scale(0.66 0.66) rotate(0) translate(4 323)\">\r\n",
       "<title>MDP</title>\r\n",
       "<polygon fill=\"white\" stroke=\"transparent\" points=\"-4,4 -4,-323 1085.72,-323 1085.72,4 -4,4\"/>\r\n",
       "<!-- s0 -->\r\n",
       "<g id=\"node1\" class=\"node\">\r\n",
       "<title>s0</title>\r\n",
       "<ellipse fill=\"#85ff75\" stroke=\"#85ff75\" cx=\"51.38\" cy=\"-116\" rx=\"47.26\" ry=\"47.26\"/>\r\n",
       "<ellipse fill=\"none\" stroke=\"#85ff75\" cx=\"51.38\" cy=\"-116\" rx=\"51.25\" ry=\"51.25\"/>\r\n",
       "<text text-anchor=\"middle\" x=\"51.38\" y=\"-122.8\" font-family=\"Arial\" font-size=\"24.00\">s0</text>\r\n",
       "<text text-anchor=\"middle\" x=\"51.38\" y=\"-96.8\" font-family=\"Arial\" font-size=\"24.00\">V =0</text>\r\n",
       "</g>\r\n",
       "<!-- s0&#45;a0 -->\r\n",
       "<g id=\"node2\" class=\"node\">\r\n",
       "<title>s0&#45;a0</title>\r\n",
       "<ellipse fill=\"lightpink\" stroke=\"lightpink\" cx=\"215.33\" cy=\"-160\" rx=\"27.65\" ry=\"27.65\"/>\r\n",
       "<text text-anchor=\"middle\" x=\"215.33\" y=\"-155\" font-family=\"Arial\" font-size=\"20.00\">a0</text>\r\n",
       "</g>\r\n",
       "<!-- s0&#45;&gt;s0&#45;a0 -->\r\n",
       "<g id=\"edge1\" class=\"edge\">\r\n",
       "<title>s0&#45;&gt;s0&#45;a0</title>\r\n",
       "<path fill=\"none\" stroke=\"red\" stroke-width=\"2\" d=\"M101.89,-125.8C122.98,-130.38 147.75,-136.31 169.75,-143 173.1,-144.02 176.56,-145.16 180,-146.37\"/>\r\n",
       "<polygon fill=\"red\" stroke=\"red\" stroke-width=\"2\" points=\"178.96,-149.71 189.55,-149.85 181.36,-143.14 178.96,-149.71\"/>\r\n",
       "</g>\r\n",
       "<!-- s0&#45;a1 -->\r\n",
       "<g id=\"node4\" class=\"node\">\r\n",
       "<title>s0&#45;a1</title>\r\n",
       "<ellipse fill=\"lightpink\" stroke=\"lightpink\" cx=\"215.33\" cy=\"-233\" rx=\"27.65\" ry=\"27.65\"/>\r\n",
       "<text text-anchor=\"middle\" x=\"215.33\" y=\"-228\" font-family=\"Arial\" font-size=\"20.00\">a1</text>\r\n",
       "</g>\r\n",
       "<!-- s0&#45;&gt;s0&#45;a1 -->\r\n",
       "<g id=\"edge4\" class=\"edge\">\r\n",
       "<title>s0&#45;&gt;s0&#45;a1</title>\r\n",
       "<path fill=\"none\" stroke=\"red\" stroke-width=\"2\" d=\"M90.3,-149.8C100.01,-158 110.59,-166.54 120.75,-174 140.58,-188.55 163.98,-203.3 182.43,-214.42\"/>\r\n",
       "<polygon fill=\"red\" stroke=\"red\" stroke-width=\"2\" points=\"180.66,-217.44 191.04,-219.57 184.25,-211.43 180.66,-217.44\"/>\r\n",
       "</g>\r\n",
       "<!-- s0&#45;a0&#45;&gt;s0 -->\r\n",
       "<g id=\"edge2\" class=\"edge\">\r\n",
       "<title>s0&#45;a0&#45;&gt;s0</title>\r\n",
       "<path fill=\"none\" stroke=\"blue\" stroke-dasharray=\"5,2\" d=\"M187.89,-155.28C169.03,-151.69 143.14,-146.29 120.75,-140 117.15,-138.99 113.46,-137.89 109.75,-136.73\"/>\r\n",
       "<polygon fill=\"blue\" stroke=\"blue\" points=\"110.54,-133.31 99.95,-133.57 108.39,-139.97 110.54,-133.31\"/>\r\n",
       "<text text-anchor=\"middle\" x=\"145.25\" y=\"-157.2\" font-family=\"Arial\" font-size=\"16.00\">p = 0.5</text>\r\n",
       "</g>\r\n",
       "<!-- s2 -->\r\n",
       "<g id=\"node3\" class=\"node\">\r\n",
       "<title>s2</title>\r\n",
       "<ellipse fill=\"#85ff75\" stroke=\"#85ff75\" cx=\"464.28\" cy=\"-189\" rx=\"47.26\" ry=\"47.26\"/>\r\n",
       "<ellipse fill=\"none\" stroke=\"#85ff75\" cx=\"464.28\" cy=\"-189\" rx=\"51.25\" ry=\"51.25\"/>\r\n",
       "<text text-anchor=\"middle\" x=\"464.28\" y=\"-195.8\" font-family=\"Arial\" font-size=\"24.00\">s2</text>\r\n",
       "<text text-anchor=\"middle\" x=\"464.28\" y=\"-169.8\" font-family=\"Arial\" font-size=\"24.00\">V =0</text>\r\n",
       "</g>\r\n",
       "<!-- s0&#45;a0&#45;&gt;s2 -->\r\n",
       "<g id=\"edge3\" class=\"edge\">\r\n",
       "<title>s0&#45;a0&#45;&gt;s2</title>\r\n",
       "<path fill=\"none\" stroke=\"blue\" stroke-dasharray=\"5,2\" d=\"M242.76,-163.1C280.79,-167.57 351.99,-175.93 403.22,-181.95\"/>\r\n",
       "<polygon fill=\"blue\" stroke=\"blue\" points=\"402.84,-185.43 413.18,-183.12 403.65,-178.47 402.84,-185.43\"/>\r\n",
       "<text text-anchor=\"middle\" x=\"327.91\" y=\"-186.2\" font-family=\"Arial\" font-size=\"16.00\">p = 0.5</text>\r\n",
       "</g>\r\n",
       "<!-- s2&#45;a0 -->\r\n",
       "<g id=\"node8\" class=\"node\">\r\n",
       "<title>s2&#45;a0</title>\r\n",
       "<ellipse fill=\"lightpink\" stroke=\"lightpink\" cx=\"708.24\" cy=\"-162\" rx=\"27.65\" ry=\"27.65\"/>\r\n",
       "<text text-anchor=\"middle\" x=\"708.24\" y=\"-157\" font-family=\"Arial\" font-size=\"20.00\">a0</text>\r\n",
       "</g>\r\n",
       "<!-- s2&#45;&gt;s2&#45;a0 -->\r\n",
       "<g id=\"edge13\" class=\"edge\">\r\n",
       "<title>s2&#45;&gt;s2&#45;a0</title>\r\n",
       "<path fill=\"none\" stroke=\"red\" stroke-width=\"2\" d=\"M515.82,-191.93C556.09,-193.07 613.65,-192.05 662.66,-181 666.32,-180.17 670.06,-179.06 673.74,-177.78\"/>\r\n",
       "<polygon fill=\"red\" stroke=\"red\" stroke-width=\"2\" points=\"675.18,-180.98 683.24,-174.1 672.65,-174.45 675.18,-180.98\"/>\r\n",
       "</g>\r\n",
       "<!-- s2&#45;a1 -->\r\n",
       "<g id=\"node9\" class=\"node\">\r\n",
       "<title>s2&#45;a1</title>\r\n",
       "<ellipse fill=\"lightpink\" stroke=\"lightpink\" cx=\"708.24\" cy=\"-77\" rx=\"27.65\" ry=\"27.65\"/>\r\n",
       "<text text-anchor=\"middle\" x=\"708.24\" y=\"-72\" font-family=\"Arial\" font-size=\"20.00\">a1</text>\r\n",
       "</g>\r\n",
       "<!-- s2&#45;&gt;s2&#45;a1 -->\r\n",
       "<g id=\"edge16\" class=\"edge\">\r\n",
       "<title>s2&#45;&gt;s2&#45;a1</title>\r\n",
       "<path fill=\"none\" stroke=\"red\" stroke-width=\"2\" d=\"M508.57,-162.49C516.79,-157.8 525.41,-153.1 533.66,-149 580.66,-125.64 637.13,-103.21 672.62,-89.76\"/>\r\n",
       "<polygon fill=\"red\" stroke=\"red\" stroke-width=\"2\" points=\"673.92,-93.01 682.04,-86.21 671.45,-86.46 673.92,-93.01\"/>\r\n",
       "</g>\r\n",
       "<!-- s0&#45;a1&#45;&gt;s2 -->\r\n",
       "<g id=\"edge5\" class=\"edge\">\r\n",
       "<title>s0&#45;a1&#45;&gt;s2</title>\r\n",
       "<path fill=\"none\" stroke=\"blue\" stroke-dasharray=\"5,2\" d=\"M242.71,-228.87C277.6,-223.34 340.98,-213.05 394.91,-203 397.75,-202.47 400.67,-201.92 403.61,-201.35\"/>\r\n",
       "<polygon fill=\"blue\" stroke=\"blue\" points=\"404.51,-204.74 413.65,-199.38 403.17,-197.87 404.51,-204.74\"/>\r\n",
       "<text text-anchor=\"middle\" x=\"327.91\" y=\"-230.2\" font-family=\"Arial\" font-size=\"16.00\">p = 1</text>\r\n",
       "</g>\r\n",
       "<!-- s1 -->\r\n",
       "<g id=\"node5\" class=\"node\">\r\n",
       "<title>s1</title>\r\n",
       "<ellipse fill=\"#85ff75\" stroke=\"#85ff75\" cx=\"881.19\" cy=\"-86\" rx=\"47.26\" ry=\"47.26\"/>\r\n",
       "<ellipse fill=\"none\" stroke=\"#85ff75\" cx=\"881.19\" cy=\"-86\" rx=\"51.25\" ry=\"51.25\"/>\r\n",
       "<text text-anchor=\"middle\" x=\"881.19\" y=\"-92.8\" font-family=\"Arial\" font-size=\"24.00\">s1</text>\r\n",
       "<text text-anchor=\"middle\" x=\"881.19\" y=\"-66.8\" font-family=\"Arial\" font-size=\"24.00\">V =0</text>\r\n",
       "</g>\r\n",
       "<!-- s1&#45;a0 -->\r\n",
       "<g id=\"node6\" class=\"node\">\r\n",
       "<title>s1&#45;a0</title>\r\n",
       "<ellipse fill=\"lightpink\" stroke=\"lightpink\" cx=\"1054.14\" cy=\"-62\" rx=\"27.65\" ry=\"27.65\"/>\r\n",
       "<text text-anchor=\"middle\" x=\"1054.14\" y=\"-57\" font-family=\"Arial\" font-size=\"20.00\">a0</text>\r\n",
       "</g>\r\n",
       "<!-- s1&#45;&gt;s1&#45;a0 -->\r\n",
       "<g id=\"edge6\" class=\"edge\">\r\n",
       "<title>s1&#45;&gt;s1&#45;a0</title>\r\n",
       "<path fill=\"none\" stroke=\"red\" stroke-width=\"2\" d=\"M932.49,-81.71C955.73,-79.4 983.64,-76.16 1008.57,-72 1011.26,-71.55 1014.04,-71.04 1016.82,-70.49\"/>\r\n",
       "<polygon fill=\"red\" stroke=\"red\" stroke-width=\"2\" points=\"1017.76,-73.87 1026.84,-68.41 1016.33,-67.02 1017.76,-73.87\"/>\r\n",
       "</g>\r\n",
       "<!-- s1&#45;a1 -->\r\n",
       "<g id=\"node7\" class=\"node\">\r\n",
       "<title>s1&#45;a1</title>\r\n",
       "<ellipse fill=\"lightpink\" stroke=\"lightpink\" cx=\"1054.14\" cy=\"-144\" rx=\"27.65\" ry=\"27.65\"/>\r\n",
       "<text text-anchor=\"middle\" x=\"1054.14\" y=\"-139\" font-family=\"Arial\" font-size=\"20.00\">a1</text>\r\n",
       "</g>\r\n",
       "<!-- s1&#45;&gt;s1&#45;a1 -->\r\n",
       "<g id=\"edge10\" class=\"edge\">\r\n",
       "<title>s1&#45;&gt;s1&#45;a1</title>\r\n",
       "<path fill=\"none\" stroke=\"red\" stroke-width=\"2\" d=\"M930.89,-99.75C954.53,-106.74 983.23,-115.72 1008.57,-125 1012.09,-126.29 1015.74,-127.71 1019.37,-129.17\"/>\r\n",
       "<polygon fill=\"red\" stroke=\"red\" stroke-width=\"2\" points=\"1018.22,-132.49 1028.8,-133.09 1020.91,-126.02 1018.22,-132.49\"/>\r\n",
       "</g>\r\n",
       "<!-- s1&#45;a0&#45;&gt;s0 -->\r\n",
       "<g id=\"edge7\" class=\"edge\">\r\n",
       "<title>s1&#45;a0&#45;&gt;s0</title>\r\n",
       "<path fill=\"none\" stroke=\"blue\" stroke-dasharray=\"5,2\" d=\"M1030.32,-47.93C998.4,-29.64 938.07,0 882.19,0 214.33,0 214.33,0 214.33,0 164.86,0 120.11,-36.21 90.25,-68.17\"/>\r\n",
       "<polygon fill=\"blue\" stroke=\"blue\" points=\"87.5,-66 83.37,-75.75 92.68,-70.71 87.5,-66\"/>\r\n",
       "<text text-anchor=\"middle\" x=\"598.16\" y=\"-5.2\" font-family=\"Arial\" font-size=\"16.00\">p = 0.7 &#160;reward =5</text>\r\n",
       "</g>\r\n",
       "<!-- s1&#45;a0&#45;&gt;s2 -->\r\n",
       "<g id=\"edge9\" class=\"edge\">\r\n",
       "<title>s1&#45;a0&#45;&gt;s2</title>\r\n",
       "<path fill=\"none\" stroke=\"blue\" stroke-dasharray=\"5,2\" d=\"M1038.41,-84.86C1034.27,-91.81 1029.97,-99.58 1026.57,-107 1016.19,-129.61 1027.71,-144.11 1008.57,-160 868.83,-275.97 632.58,-234.11 523.58,-206.08\"/>\r\n",
       "<polygon fill=\"blue\" stroke=\"blue\" points=\"524.31,-202.65 513.75,-203.5 522.54,-209.42 524.31,-202.65\"/>\r\n",
       "<text text-anchor=\"middle\" x=\"782.81\" y=\"-241.2\" font-family=\"Arial\" font-size=\"16.00\">p = 0.2</text>\r\n",
       "</g>\r\n",
       "<!-- s1&#45;a0&#45;&gt;s1 -->\r\n",
       "<g id=\"edge8\" class=\"edge\">\r\n",
       "<title>s1&#45;a0&#45;&gt;s1</title>\r\n",
       "<path fill=\"none\" stroke=\"blue\" stroke-dasharray=\"5,2\" d=\"M1027.53,-54C1006.59,-48.64 976.33,-43.63 950.57,-50 945.27,-51.31 939.94,-53.11 934.71,-55.21\"/>\r\n",
       "<polygon fill=\"blue\" stroke=\"blue\" points=\"933.19,-52.05 925.44,-59.28 936.01,-58.46 933.19,-52.05\"/>\r\n",
       "<text text-anchor=\"middle\" x=\"979.57\" y=\"-55.2\" font-family=\"Arial\" font-size=\"16.00\">p = 0.1</text>\r\n",
       "</g>\r\n",
       "<!-- s1&#45;a1&#45;&gt;s2 -->\r\n",
       "<g id=\"edge12\" class=\"edge\">\r\n",
       "<title>s1&#45;a1&#45;&gt;s2</title>\r\n",
       "<path fill=\"none\" stroke=\"blue\" stroke-dasharray=\"5,2\" d=\"M1047.65,-171.12C1041.82,-192.2 1030.32,-220.11 1008.57,-234 830.66,-347.57 735.15,-296.86 533.66,-234 527.01,-231.92 520.39,-228.99 514.05,-225.61\"/>\r\n",
       "<polygon fill=\"blue\" stroke=\"blue\" points=\"515.38,-222.34 504.97,-220.37 511.88,-228.4 515.38,-222.34\"/>\r\n",
       "<text text-anchor=\"middle\" x=\"782.81\" y=\"-306.2\" font-family=\"Arial\" font-size=\"16.00\">p = 0.05</text>\r\n",
       "</g>\r\n",
       "<!-- s1&#45;a1&#45;&gt;s1 -->\r\n",
       "<g id=\"edge11\" class=\"edge\">\r\n",
       "<title>s1&#45;a1&#45;&gt;s1</title>\r\n",
       "<path fill=\"none\" stroke=\"blue\" stroke-dasharray=\"5,2\" d=\"M1026.45,-140.33C1005.41,-136.95 975.56,-131.07 950.57,-122 945.52,-120.17 940.38,-118.03 935.31,-115.73\"/>\r\n",
       "<polygon fill=\"blue\" stroke=\"blue\" points=\"936.8,-112.56 926.26,-111.43 933.79,-118.89 936.8,-112.56\"/>\r\n",
       "<text text-anchor=\"middle\" x=\"979.57\" y=\"-143.2\" font-family=\"Arial\" font-size=\"16.00\">p = 0.95</text>\r\n",
       "</g>\r\n",
       "<!-- s2&#45;a0&#45;&gt;s0 -->\r\n",
       "<g id=\"edge14\" class=\"edge\">\r\n",
       "<title>s2&#45;a0&#45;&gt;s0</title>\r\n",
       "<path fill=\"none\" stroke=\"blue\" stroke-dasharray=\"5,2\" d=\"M681.47,-153.78C675.35,-152.03 668.81,-150.31 662.66,-149 598.17,-135.29 581.37,-134.38 515.66,-129 371.6,-117.21 201.6,-115.57 113,-115.63\"/>\r\n",
       "<polygon fill=\"blue\" stroke=\"blue\" points=\"112.85,-112.13 102.86,-115.65 112.87,-119.13 112.85,-112.13\"/>\r\n",
       "<text text-anchor=\"middle\" x=\"327.91\" y=\"-127.2\" font-family=\"Arial\" font-size=\"16.00\">p = 0.4</text>\r\n",
       "</g>\r\n",
       "<!-- s2&#45;a0&#45;&gt;s2 -->\r\n",
       "<g id=\"edge15\" class=\"edge\">\r\n",
       "<title>s2&#45;a0&#45;&gt;s2</title>\r\n",
       "<path fill=\"none\" stroke=\"blue\" stroke-dasharray=\"5,2\" d=\"M680.72,-157.92C646.37,-153.46 584.84,-148.27 533.66,-159 529.18,-159.94 524.65,-161.19 520.14,-162.64\"/>\r\n",
       "<polygon fill=\"blue\" stroke=\"blue\" points=\"518.63,-159.47 510.39,-166.12 520.99,-166.06 518.63,-159.47\"/>\r\n",
       "<text text-anchor=\"middle\" x=\"598.16\" y=\"-164.2\" font-family=\"Arial\" font-size=\"16.00\">p = 0.6</text>\r\n",
       "</g>\r\n",
       "<!-- s2&#45;a1&#45;&gt;s0 -->\r\n",
       "<g id=\"edge17\" class=\"edge\">\r\n",
       "<title>s2&#45;a1&#45;&gt;s0</title>\r\n",
       "<path fill=\"none\" stroke=\"blue\" stroke-dasharray=\"5,2\" d=\"M684.53,-62C677.77,-58.32 670.16,-54.89 662.66,-53 607.06,-38.99 590.98,-51.84 533.66,-53 349.45,-56.71 298.16,-40.25 120.75,-90 116.94,-91.07 113.04,-92.26 109.14,-93.54\"/>\r\n",
       "<polygon fill=\"blue\" stroke=\"blue\" points=\"107.79,-90.3 99.46,-96.84 110.05,-96.92 107.79,-90.3\"/>\r\n",
       "<text text-anchor=\"middle\" x=\"327.91\" y=\"-65.2\" font-family=\"Arial\" font-size=\"16.00\">p = 0.3 &#160;reward =&#45;1</text>\r\n",
       "</g>\r\n",
       "<!-- s2&#45;a1&#45;&gt;s2 -->\r\n",
       "<g id=\"edge19\" class=\"edge\">\r\n",
       "<title>s2&#45;a1&#45;&gt;s2</title>\r\n",
       "<path fill=\"none\" stroke=\"blue\" stroke-dasharray=\"5,2\" d=\"M681.69,-68.7C645.97,-58.71 580.25,-46.38 533.66,-73 511.45,-85.69 495.73,-108.73 485.02,-130.94\"/>\r\n",
       "<polygon fill=\"blue\" stroke=\"blue\" points=\"481.83,-129.5 480.87,-140.05 488.2,-132.4 481.83,-129.5\"/>\r\n",
       "<text text-anchor=\"middle\" x=\"598.16\" y=\"-78.2\" font-family=\"Arial\" font-size=\"16.00\">p = 0.4</text>\r\n",
       "</g>\r\n",
       "<!-- s2&#45;a1&#45;&gt;s1 -->\r\n",
       "<g id=\"edge18\" class=\"edge\">\r\n",
       "<title>s2&#45;a1&#45;&gt;s1</title>\r\n",
       "<path fill=\"none\" stroke=\"blue\" stroke-dasharray=\"5,2\" d=\"M735.95,-78.41C758.19,-79.58 790.74,-81.29 819.28,-82.79\"/>\r\n",
       "<polygon fill=\"blue\" stroke=\"blue\" points=\"819.42,-86.31 829.59,-83.34 819.79,-79.32 819.42,-86.31\"/>\r\n",
       "<text text-anchor=\"middle\" x=\"782.81\" y=\"-88.2\" font-family=\"Arial\" font-size=\"16.00\">p = 0.3</text>\r\n",
       "</g>\r\n",
       "</g>\r\n",
       "</svg>\r\n"
      ],
      "text/plain": [
       "<graphviz.dot.Digraph at 0x21f8d9c2e48>"
      ]
     },
     "metadata": {},
     "output_type": "display_data"
    },
    {
     "name": "stdout",
     "output_type": "stream",
     "text": [
      "iter    0   |   diff: 3.50000   |   V(s0) = 0.000   V(s1) = 0.000   V(s2) = 0.000\n",
      "iter    1   |   diff: 0.64500   |   V(s0) = 0.000   V(s1) = 3.500   V(s2) = 0.000\n",
      "iter    2   |   diff: 0.58050   |   V(s0) = 0.000   V(s1) = 3.815   V(s2) = 0.645\n",
      "iter    3   |   diff: 0.43582   |   V(s0) = 0.581   V(s1) = 3.959   V(s2) = 0.962\n",
      "iter    4   |   diff: 0.30634   |   V(s0) = 0.866   V(s1) = 4.395   V(s2) = 1.272\n",
      "iter    5   |   diff: 0.27571   |   V(s0) = 1.145   V(s1) = 4.670   V(s2) = 1.579\n",
      "iter    6   |   diff: 0.24347   |   V(s0) = 1.421   V(s1) = 4.926   V(s2) = 1.838\n",
      "iter    7   |   diff: 0.21419   |   V(s0) = 1.655   V(s1) = 5.169   V(s2) = 2.075\n",
      "iter    8   |   diff: 0.19277   |   V(s0) = 1.868   V(s1) = 5.381   V(s2) = 2.290\n",
      "iter    9   |   diff: 0.17327   |   V(s0) = 2.061   V(s1) = 5.573   V(s2) = 2.481\n",
      "iter   10   |   diff: 0.15569   |   V(s0) = 2.233   V(s1) = 5.746   V(s2) = 2.654\n",
      "iter   11   |   diff: 0.14012   |   V(s0) = 2.389   V(s1) = 5.902   V(s2) = 2.810\n",
      "iter   12   |   diff: 0.12610   |   V(s0) = 2.529   V(s1) = 6.042   V(s2) = 2.950\n",
      "iter   13   |   diff: 0.11348   |   V(s0) = 2.655   V(s1) = 6.168   V(s2) = 3.076\n",
      "iter   14   |   diff: 0.10213   |   V(s0) = 2.769   V(s1) = 6.282   V(s2) = 3.190\n",
      "iter   15   |   diff: 0.09192   |   V(s0) = 2.871   V(s1) = 6.384   V(s2) = 3.292\n",
      "iter   16   |   diff: 0.08272   |   V(s0) = 2.963   V(s1) = 6.476   V(s2) = 3.384\n",
      "iter   17   |   diff: 0.07445   |   V(s0) = 3.045   V(s1) = 6.558   V(s2) = 3.467\n",
      "iter   18   |   diff: 0.06701   |   V(s0) = 3.120   V(s1) = 6.633   V(s2) = 3.541\n",
      "iter   19   |   diff: 0.06031   |   V(s0) = 3.187   V(s1) = 6.700   V(s2) = 3.608\n",
      "iter   20   |   diff: 0.05428   |   V(s0) = 3.247   V(s1) = 6.760   V(s2) = 3.668\n",
      "iter   21   |   diff: 0.04885   |   V(s0) = 3.301   V(s1) = 6.814   V(s2) = 3.723\n",
      "iter   22   |   diff: 0.04396   |   V(s0) = 3.350   V(s1) = 6.863   V(s2) = 3.771\n",
      "iter   23   |   diff: 0.03957   |   V(s0) = 3.394   V(s1) = 6.907   V(s2) = 3.815\n",
      "iter   24   |   diff: 0.03561   |   V(s0) = 3.434   V(s1) = 6.947   V(s2) = 3.855\n",
      "iter   25   |   diff: 0.03205   |   V(s0) = 3.469   V(s1) = 6.982   V(s2) = 3.891\n",
      "iter   26   |   diff: 0.02884   |   V(s0) = 3.502   V(s1) = 7.014   V(s2) = 3.923\n",
      "iter   27   |   diff: 0.02596   |   V(s0) = 3.530   V(s1) = 7.043   V(s2) = 3.951\n",
      "iter   28   |   diff: 0.02336   |   V(s0) = 3.556   V(s1) = 7.069   V(s2) = 3.977\n",
      "iter   29   |   diff: 0.02103   |   V(s0) = 3.580   V(s1) = 7.093   V(s2) = 4.001\n",
      "iter   30   |   diff: 0.01892   |   V(s0) = 3.601   V(s1) = 7.114   V(s2) = 4.022\n",
      "iter   31   |   diff: 0.01703   |   V(s0) = 3.620   V(s1) = 7.133   V(s2) = 4.041\n",
      "iter   32   |   diff: 0.01533   |   V(s0) = 3.637   V(s1) = 7.150   V(s2) = 4.058\n",
      "iter   33   |   diff: 0.01380   |   V(s0) = 3.652   V(s1) = 7.165   V(s2) = 4.073\n",
      "iter   34   |   diff: 0.01242   |   V(s0) = 3.666   V(s1) = 7.179   V(s2) = 4.087\n",
      "iter   35   |   diff: 0.01117   |   V(s0) = 3.678   V(s1) = 7.191   V(s2) = 4.099\n",
      "iter   36   |   diff: 0.01006   |   V(s0) = 3.689   V(s1) = 7.202   V(s2) = 4.110\n",
      "iter   37   |   diff: 0.00905   |   V(s0) = 3.699   V(s1) = 7.212   V(s2) = 4.121\n",
      "iter   38   |   diff: 0.00815   |   V(s0) = 3.708   V(s1) = 7.221   V(s2) = 4.130\n",
      "iter   39   |   diff: 0.00733   |   V(s0) = 3.717   V(s1) = 7.230   V(s2) = 4.138\n",
      "iter   40   |   diff: 0.00660   |   V(s0) = 3.724   V(s1) = 7.237   V(s2) = 4.145\n",
      "iter   41   |   diff: 0.00594   |   V(s0) = 3.731   V(s1) = 7.244   V(s2) = 4.152\n",
      "iter   42   |   diff: 0.00534   |   V(s0) = 3.736   V(s1) = 7.249   V(s2) = 4.158\n",
      "iter   43   |   diff: 0.00481   |   V(s0) = 3.742   V(s1) = 7.255   V(s2) = 4.163\n",
      "iter   44   |   diff: 0.00433   |   V(s0) = 3.747   V(s1) = 7.260   V(s2) = 4.168\n",
      "iter   45   |   diff: 0.00390   |   V(s0) = 3.751   V(s1) = 7.264   V(s2) = 4.172\n",
      "iter   46   |   diff: 0.00351   |   V(s0) = 3.755   V(s1) = 7.268   V(s2) = 4.176\n",
      "iter   47   |   diff: 0.00316   |   V(s0) = 3.758   V(s1) = 7.271   V(s2) = 4.179\n",
      "iter   48   |   diff: 0.00284   |   V(s0) = 3.762   V(s1) = 7.275   V(s2) = 4.183\n",
      "iter   49   |   diff: 0.00256   |   V(s0) = 3.764   V(s1) = 7.277   V(s2) = 4.185\n",
      "iter   50   |   diff: 0.00230   |   V(s0) = 3.767   V(s1) = 7.280   V(s2) = 4.188\n",
      "iter   51   |   diff: 0.00207   |   V(s0) = 3.769   V(s1) = 7.282   V(s2) = 4.190\n",
      "iter   52   |   diff: 0.00186   |   V(s0) = 3.771   V(s1) = 7.284   V(s2) = 4.192\n",
      "iter   53   |   diff: 0.00168   |   V(s0) = 3.773   V(s1) = 7.286   V(s2) = 4.194\n",
      "iter   54   |   diff: 0.00151   |   V(s0) = 3.775   V(s1) = 7.288   V(s2) = 4.196\n",
      "iter   55   |   diff: 0.00136   |   V(s0) = 3.776   V(s1) = 7.289   V(s2) = 4.197\n",
      "iter   56   |   diff: 0.00122   |   V(s0) = 3.778   V(s1) = 7.291   V(s2) = 4.199\n",
      "iter   57   |   diff: 0.00110   |   V(s0) = 3.779   V(s1) = 7.292   V(s2) = 4.200\n",
      "iter   58   |   diff: 0.00099   |   V(s0) = 3.780   V(s1) = 7.293   V(s2) = 4.201\n",
      "Terminated\n"
     ]
    }
   ],
   "source": [
    "# parameters\n",
    "gamma = 0.9            # discount for MDP\n",
    "num_iter = 100         # maximum iterations, excluding initialization\n",
    "# stop VI if new values are this close to old values (or closer)\n",
    "min_difference = 0.001\n",
    "\n",
    "# initialize V(s)\n",
    "state_values = {s: 0 for s in mdp.get_all_states()}\n",
    "\n",
    "if has_graphviz:\n",
    "    display(plot_graph_with_state_values(mdp, state_values))\n",
    "\n",
    "for i in range(num_iter):\n",
    "\n",
    "    # Compute new state values using the functions you defined above.\n",
    "    # It must be a dict {state : float V_new(state)}\n",
    "    new_state_values = {state: get_new_state_value(mdp, state_values, state, gamma) for state in mdp.get_all_states()}\n",
    "    \n",
    "    assert isinstance(new_state_values, dict)\n",
    "\n",
    "    # Compute difference\n",
    "    diff = max(abs(new_state_values[s] - state_values[s])\n",
    "               for s in mdp.get_all_states())\n",
    "    print(\"iter %4i   |   diff: %6.5f   |   \" % (i, diff), end=\"\")\n",
    "    print('   '.join(\"V(%s) = %.3f\" % (s, v) for s, v in state_values.items()))\n",
    "    state_values = new_state_values\n",
    "\n",
    "    if diff < min_difference:\n",
    "        print(\"Terminated\")\n",
    "        break"
   ]
  },
  {
   "cell_type": "code",
   "execution_count": 13,
   "metadata": {},
   "outputs": [
    {
     "data": {
      "image/svg+xml": [
       "<?xml version=\"1.0\" encoding=\"UTF-8\" standalone=\"no\"?>\r\n",
       "<!DOCTYPE svg PUBLIC \"-//W3C//DTD SVG 1.1//EN\"\r\n",
       " \"http://www.w3.org/Graphics/SVG/1.1/DTD/svg11.dtd\">\r\n",
       "<!-- Generated by graphviz version 2.47.0 (20210316.0004)\r\n",
       " -->\r\n",
       "<!-- Title: MDP Pages: 1 -->\r\n",
       "<svg width=\"720pt\" height=\"181pt\"\r\n",
       " viewBox=\"0.00 0.00 720.00 180.88\" xmlns=\"http://www.w3.org/2000/svg\" xmlns:xlink=\"http://www.w3.org/1999/xlink\">\r\n",
       "<g id=\"graph0\" class=\"graph\" transform=\"scale(0.58 0.58) rotate(0) translate(4 306)\">\r\n",
       "<title>MDP</title>\r\n",
       "<polygon fill=\"white\" stroke=\"transparent\" points=\"-4,4 -4,-306 1229.97,-306 1229.97,4 -4,4\"/>\r\n",
       "<!-- s0 -->\r\n",
       "<g id=\"node1\" class=\"node\">\r\n",
       "<title>s0</title>\r\n",
       "<ellipse fill=\"#85ff75\" stroke=\"#85ff75\" cx=\"75.42\" cy=\"-110\" rx=\"71.34\" ry=\"71.34\"/>\r\n",
       "<ellipse fill=\"none\" stroke=\"#85ff75\" cx=\"75.42\" cy=\"-110\" rx=\"75.34\" ry=\"75.34\"/>\r\n",
       "<text text-anchor=\"middle\" x=\"75.42\" y=\"-116.8\" font-family=\"Arial\" font-size=\"24.00\">s0</text>\r\n",
       "<text text-anchor=\"middle\" x=\"75.42\" y=\"-90.8\" font-family=\"Arial\" font-size=\"24.00\">V =3.78</text>\r\n",
       "</g>\r\n",
       "<!-- s0&#45;a0 -->\r\n",
       "<g id=\"node2\" class=\"node\">\r\n",
       "<title>s0&#45;a0</title>\r\n",
       "<ellipse fill=\"lightpink\" stroke=\"lightpink\" cx=\"263.41\" cy=\"-154\" rx=\"27.65\" ry=\"27.65\"/>\r\n",
       "<text text-anchor=\"middle\" x=\"263.41\" y=\"-149\" font-family=\"Arial\" font-size=\"20.00\">a0</text>\r\n",
       "</g>\r\n",
       "<!-- s0&#45;&gt;s0&#45;a0 -->\r\n",
       "<g id=\"edge1\" class=\"edge\">\r\n",
       "<title>s0&#45;&gt;s0&#45;a0</title>\r\n",
       "<path fill=\"none\" stroke=\"red\" stroke-width=\"2\" d=\"M150.03,-121.52C172.03,-125.64 196.07,-130.82 217.84,-137 221.2,-137.96 224.68,-139.06 228.13,-140.24\"/>\r\n",
       "<polygon fill=\"red\" stroke=\"red\" stroke-width=\"2\" points=\"227.09,-143.58 237.68,-143.68 229.46,-137 227.09,-143.58\"/>\r\n",
       "</g>\r\n",
       "<!-- s0&#45;a1 -->\r\n",
       "<g id=\"node4\" class=\"node\">\r\n",
       "<title>s0&#45;a1</title>\r\n",
       "<ellipse fill=\"lightpink\" stroke=\"lightpink\" cx=\"263.41\" cy=\"-227\" rx=\"27.65\" ry=\"27.65\"/>\r\n",
       "<text text-anchor=\"middle\" x=\"263.41\" y=\"-222\" font-family=\"Arial\" font-size=\"20.00\">a1</text>\r\n",
       "</g>\r\n",
       "<!-- s0&#45;&gt;s0&#45;a1 -->\r\n",
       "<g id=\"edge4\" class=\"edge\">\r\n",
       "<title>s0&#45;&gt;s0&#45;a1</title>\r\n",
       "<path fill=\"none\" stroke=\"red\" stroke-width=\"2\" d=\"M139.65,-149.77C170.41,-169.13 206.03,-191.54 230.96,-207.21\"/>\r\n",
       "<polygon fill=\"red\" stroke=\"red\" stroke-width=\"2\" points=\"229.3,-210.3 239.63,-212.67 233.03,-204.38 229.3,-210.3\"/>\r\n",
       "</g>\r\n",
       "<!-- s0&#45;a0&#45;&gt;s0 -->\r\n",
       "<g id=\"edge2\" class=\"edge\">\r\n",
       "<title>s0&#45;a0&#45;&gt;s0</title>\r\n",
       "<path fill=\"none\" stroke=\"blue\" stroke-dasharray=\"5,2\" d=\"M236.13,-148.7C217.33,-144.83 191.47,-139.35 168.84,-134 165.43,-133.19 161.95,-132.36 158.44,-131.5\"/>\r\n",
       "<polygon fill=\"blue\" stroke=\"blue\" points=\"159.04,-128.04 148.49,-129.04 157.36,-134.84 159.04,-128.04\"/>\r\n",
       "<text text-anchor=\"middle\" x=\"193.34\" y=\"-150.2\" font-family=\"Arial\" font-size=\"16.00\">p = 0.5</text>\r\n",
       "</g>\r\n",
       "<!-- s2 -->\r\n",
       "<g id=\"node3\" class=\"node\">\r\n",
       "<title>s2</title>\r\n",
       "<ellipse fill=\"#85ff75\" stroke=\"#85ff75\" cx=\"536.41\" cy=\"-201\" rx=\"71.34\" ry=\"71.34\"/>\r\n",
       "<ellipse fill=\"none\" stroke=\"#85ff75\" cx=\"536.41\" cy=\"-201\" rx=\"75.34\" ry=\"75.34\"/>\r\n",
       "<text text-anchor=\"middle\" x=\"536.41\" y=\"-207.8\" font-family=\"Arial\" font-size=\"24.00\">s2</text>\r\n",
       "<text text-anchor=\"middle\" x=\"536.41\" y=\"-181.8\" font-family=\"Arial\" font-size=\"24.00\">V =4.20</text>\r\n",
       "</g>\r\n",
       "<!-- s0&#45;a0&#45;&gt;s2 -->\r\n",
       "<g id=\"edge3\" class=\"edge\">\r\n",
       "<title>s0&#45;a0&#45;&gt;s2</title>\r\n",
       "<path fill=\"none\" stroke=\"blue\" stroke-dasharray=\"5,2\" d=\"M290.89,-158.59C327.88,-165.01 396.68,-176.94 451.9,-186.52\"/>\r\n",
       "<polygon fill=\"blue\" stroke=\"blue\" points=\"451.59,-190.02 462.04,-188.28 452.79,-183.12 451.59,-190.02\"/>\r\n",
       "<text text-anchor=\"middle\" x=\"375.99\" y=\"-190.2\" font-family=\"Arial\" font-size=\"16.00\">p = 0.5</text>\r\n",
       "</g>\r\n",
       "<!-- s2&#45;a0 -->\r\n",
       "<g id=\"node8\" class=\"node\">\r\n",
       "<title>s2&#45;a0</title>\r\n",
       "<ellipse fill=\"lightpink\" stroke=\"lightpink\" cx=\"804.4\" cy=\"-162\" rx=\"27.65\" ry=\"27.65\"/>\r\n",
       "<text text-anchor=\"middle\" x=\"804.4\" y=\"-157\" font-family=\"Arial\" font-size=\"20.00\">a0</text>\r\n",
       "</g>\r\n",
       "<!-- s2&#45;&gt;s2&#45;a0 -->\r\n",
       "<g id=\"edge13\" class=\"edge\">\r\n",
       "<title>s2&#45;&gt;s2&#45;a0</title>\r\n",
       "<path fill=\"none\" stroke=\"red\" stroke-width=\"2\" d=\"M611.93,-200.05C655.34,-198.07 710.82,-193.08 758.83,-181 762.47,-180.08 766.19,-178.91 769.86,-177.6\"/>\r\n",
       "<polygon fill=\"red\" stroke=\"red\" stroke-width=\"2\" points=\"771.32,-180.78 779.35,-173.87 768.77,-174.27 771.32,-180.78\"/>\r\n",
       "</g>\r\n",
       "<!-- s2&#45;a1 -->\r\n",
       "<g id=\"node9\" class=\"node\">\r\n",
       "<title>s2&#45;a1</title>\r\n",
       "<ellipse fill=\"lightpink\" stroke=\"lightpink\" cx=\"804.4\" cy=\"-80\" rx=\"27.65\" ry=\"27.65\"/>\r\n",
       "<text text-anchor=\"middle\" x=\"804.4\" y=\"-75\" font-family=\"Arial\" font-size=\"20.00\">a1</text>\r\n",
       "</g>\r\n",
       "<!-- s2&#45;&gt;s2&#45;a1 -->\r\n",
       "<g id=\"edge16\" class=\"edge\">\r\n",
       "<title>s2&#45;&gt;s2&#45;a1</title>\r\n",
       "<path fill=\"none\" stroke=\"red\" stroke-width=\"2\" d=\"M601.96,-163.24C611.21,-158.25 620.69,-153.36 629.83,-149 676.9,-126.52 733.36,-105.05 768.82,-92.19\"/>\r\n",
       "<polygon fill=\"red\" stroke=\"red\" stroke-width=\"2\" points=\"770.01,-95.48 778.23,-88.8 767.64,-88.89 770.01,-95.48\"/>\r\n",
       "</g>\r\n",
       "<!-- s0&#45;a1&#45;&gt;s2 -->\r\n",
       "<g id=\"edge5\" class=\"edge\">\r\n",
       "<title>s0&#45;a1&#45;&gt;s2</title>\r\n",
       "<path fill=\"none\" stroke=\"blue\" stroke-dasharray=\"5,2\" d=\"M290.89,-224.46C327.69,-220.93 395.98,-214.38 451.06,-209.09\"/>\r\n",
       "<polygon fill=\"blue\" stroke=\"blue\" points=\"451.56,-212.56 461.18,-208.12 450.89,-205.59 451.56,-212.56\"/>\r\n",
       "<text text-anchor=\"middle\" x=\"375.99\" y=\"-227.2\" font-family=\"Arial\" font-size=\"16.00\">p = 1</text>\r\n",
       "</g>\r\n",
       "<!-- s1 -->\r\n",
       "<g id=\"node5\" class=\"node\">\r\n",
       "<title>s1</title>\r\n",
       "<ellipse fill=\"#85ff75\" stroke=\"#85ff75\" cx=\"1001.4\" cy=\"-110\" rx=\"71.34\" ry=\"71.34\"/>\r\n",
       "<ellipse fill=\"none\" stroke=\"#85ff75\" cx=\"1001.4\" cy=\"-110\" rx=\"75.34\" ry=\"75.34\"/>\r\n",
       "<text text-anchor=\"middle\" x=\"1001.4\" y=\"-116.8\" font-family=\"Arial\" font-size=\"24.00\">s1</text>\r\n",
       "<text text-anchor=\"middle\" x=\"1001.4\" y=\"-90.8\" font-family=\"Arial\" font-size=\"24.00\">V =7.29</text>\r\n",
       "</g>\r\n",
       "<!-- s1&#45;a0 -->\r\n",
       "<g id=\"node6\" class=\"node\">\r\n",
       "<title>s1&#45;a0</title>\r\n",
       "<ellipse fill=\"lightpink\" stroke=\"lightpink\" cx=\"1198.39\" cy=\"-86\" rx=\"27.65\" ry=\"27.65\"/>\r\n",
       "<text text-anchor=\"middle\" x=\"1198.39\" y=\"-81\" font-family=\"Arial\" font-size=\"20.00\">a0</text>\r\n",
       "</g>\r\n",
       "<!-- s1&#45;&gt;s1&#45;a0 -->\r\n",
       "<g id=\"edge6\" class=\"edge\">\r\n",
       "<title>s1&#45;&gt;s1&#45;a0</title>\r\n",
       "<path fill=\"none\" stroke=\"red\" stroke-width=\"2\" d=\"M1076.84,-104.97C1101.15,-102.82 1128.21,-99.89 1152.82,-96 1155.51,-95.57 1158.29,-95.08 1161.08,-94.55\"/>\r\n",
       "<polygon fill=\"red\" stroke=\"red\" stroke-width=\"2\" points=\"1162.01,-97.93 1171.1,-92.48 1160.6,-91.07 1162.01,-97.93\"/>\r\n",
       "</g>\r\n",
       "<!-- s1&#45;a1 -->\r\n",
       "<g id=\"node7\" class=\"node\">\r\n",
       "<title>s1&#45;a1</title>\r\n",
       "<ellipse fill=\"lightpink\" stroke=\"lightpink\" cx=\"1198.39\" cy=\"-168\" rx=\"27.65\" ry=\"27.65\"/>\r\n",
       "<text text-anchor=\"middle\" x=\"1198.39\" y=\"-163\" font-family=\"Arial\" font-size=\"20.00\">a1</text>\r\n",
       "</g>\r\n",
       "<!-- s1&#45;&gt;s1&#45;a1 -->\r\n",
       "<g id=\"edge10\" class=\"edge\">\r\n",
       "<title>s1&#45;&gt;s1&#45;a1</title>\r\n",
       "<path fill=\"none\" stroke=\"red\" stroke-width=\"2\" d=\"M1075.35,-126.58C1100.17,-132.84 1127.92,-140.52 1152.82,-149 1156.37,-150.21 1160.04,-151.58 1163.67,-153.01\"/>\r\n",
       "<polygon fill=\"red\" stroke=\"red\" stroke-width=\"2\" points=\"1162.54,-156.32 1173.12,-156.88 1165.2,-149.85 1162.54,-156.32\"/>\r\n",
       "</g>\r\n",
       "<!-- s1&#45;a0&#45;&gt;s0 -->\r\n",
       "<g id=\"edge7\" class=\"edge\">\r\n",
       "<title>s1&#45;a0&#45;&gt;s0</title>\r\n",
       "<path fill=\"none\" stroke=\"blue\" stroke-dasharray=\"5,2\" d=\"M1175.95,-69.42C1141.43,-44.43 1070.48,0 1002.4,0 262.41,0 262.41,0 262.41,0 216.57,0 172.11,-25.07 138.16,-51.27\"/>\r\n",
       "<polygon fill=\"blue\" stroke=\"blue\" points=\"135.86,-48.62 130.2,-57.58 140.21,-54.11 135.86,-48.62\"/>\r\n",
       "<text text-anchor=\"middle\" x=\"694.33\" y=\"-5.2\" font-family=\"Arial\" font-size=\"16.00\">p = 0.7 &#160;reward =5</text>\r\n",
       "</g>\r\n",
       "<!-- s1&#45;a0&#45;&gt;s2 -->\r\n",
       "<g id=\"edge9\" class=\"edge\">\r\n",
       "<title>s1&#45;a0&#45;&gt;s2</title>\r\n",
       "<path fill=\"none\" stroke=\"blue\" stroke-dasharray=\"5,2\" d=\"M1182.71,-108.89C1178.58,-115.84 1174.27,-123.6 1170.82,-131 1160.66,-152.78 1171.29,-166.62 1152.82,-182 1126.53,-203.87 1110.87,-190.84 1076.82,-194 916.69,-208.85 728.69,-206.93 622.25,-204.05\"/>\r\n",
       "<polygon fill=\"blue\" stroke=\"blue\" points=\"622.3,-200.55 612.21,-203.77 622.11,-207.55 622.3,-200.55\"/>\r\n",
       "<text text-anchor=\"middle\" x=\"878.98\" y=\"-210.2\" font-family=\"Arial\" font-size=\"16.00\">p = 0.2</text>\r\n",
       "</g>\r\n",
       "<!-- s1&#45;a0&#45;&gt;s1 -->\r\n",
       "<g id=\"edge8\" class=\"edge\">\r\n",
       "<title>s1&#45;a0&#45;&gt;s1</title>\r\n",
       "<path fill=\"none\" stroke=\"blue\" stroke-dasharray=\"5,2\" d=\"M1171.7,-77.85C1165.57,-76.25 1159.01,-74.82 1152.82,-74 1127.26,-70.62 1120.15,-69.24 1094.82,-74 1090.09,-74.89 1085.3,-76.01 1080.51,-77.3\"/>\r\n",
       "<polygon fill=\"blue\" stroke=\"blue\" points=\"1079.32,-74.01 1070.71,-80.18 1081.29,-80.72 1079.32,-74.01\"/>\r\n",
       "<text text-anchor=\"middle\" x=\"1123.82\" y=\"-79.2\" font-family=\"Arial\" font-size=\"16.00\">p = 0.1</text>\r\n",
       "</g>\r\n",
       "<!-- s1&#45;a1&#45;&gt;s2 -->\r\n",
       "<g id=\"edge12\" class=\"edge\">\r\n",
       "<title>s1&#45;a1&#45;&gt;s2</title>\r\n",
       "<path fill=\"none\" stroke=\"blue\" stroke-dasharray=\"5,2\" d=\"M1187.43,-193.31C1180.2,-208 1168.85,-225.27 1152.82,-234 980.81,-327.65 740.16,-270.51 616.96,-230.33\"/>\r\n",
       "<polygon fill=\"blue\" stroke=\"blue\" points=\"617.8,-226.93 607.21,-227.11 615.6,-233.57 617.8,-226.93\"/>\r\n",
       "<text text-anchor=\"middle\" x=\"878.98\" y=\"-289.2\" font-family=\"Arial\" font-size=\"16.00\">p = 0.05</text>\r\n",
       "</g>\r\n",
       "<!-- s1&#45;a1&#45;&gt;s1 -->\r\n",
       "<g id=\"edge11\" class=\"edge\">\r\n",
       "<title>s1&#45;a1&#45;&gt;s1</title>\r\n",
       "<path fill=\"none\" stroke=\"blue\" stroke-dasharray=\"5,2\" d=\"M1170.96,-163.54C1150.07,-159.72 1120.29,-153.64 1094.82,-146 1090.26,-144.63 1085.62,-143.14 1080.95,-141.57\"/>\r\n",
       "<polygon fill=\"blue\" stroke=\"blue\" points=\"1081.96,-138.22 1071.37,-138.25 1079.67,-144.83 1081.96,-138.22\"/>\r\n",
       "<text text-anchor=\"middle\" x=\"1123.82\" y=\"-165.2\" font-family=\"Arial\" font-size=\"16.00\">p = 0.95</text>\r\n",
       "</g>\r\n",
       "<!-- s2&#45;a0&#45;&gt;s0 -->\r\n",
       "<g id=\"edge14\" class=\"edge\">\r\n",
       "<title>s2&#45;a0&#45;&gt;s0</title>\r\n",
       "<path fill=\"none\" stroke=\"blue\" stroke-dasharray=\"5,2\" d=\"M777.71,-153.93C741.26,-142.96 672.25,-123.9 611.83,-117 453.39,-98.91 266.89,-101.92 161.07,-105.87\"/>\r\n",
       "<polygon fill=\"blue\" stroke=\"blue\" points=\"160.62,-102.39 150.77,-106.27 160.89,-109.38 160.62,-102.39\"/>\r\n",
       "<text text-anchor=\"middle\" x=\"375.99\" y=\"-110.2\" font-family=\"Arial\" font-size=\"16.00\">p = 0.4</text>\r\n",
       "</g>\r\n",
       "<!-- s2&#45;a0&#45;&gt;s2 -->\r\n",
       "<g id=\"edge15\" class=\"edge\">\r\n",
       "<title>s2&#45;a0&#45;&gt;s2</title>\r\n",
       "<path fill=\"none\" stroke=\"blue\" stroke-dasharray=\"5,2\" d=\"M776.86,-157.82C742.49,-153.24 680.93,-147.93 629.83,-159 624.44,-160.17 619,-161.67 613.58,-163.42\"/>\r\n",
       "<polygon fill=\"blue\" stroke=\"blue\" points=\"612.18,-160.2 603.9,-166.8 614.49,-166.81 612.18,-160.2\"/>\r\n",
       "<text text-anchor=\"middle\" x=\"694.33\" y=\"-164.2\" font-family=\"Arial\" font-size=\"16.00\">p = 0.6</text>\r\n",
       "</g>\r\n",
       "<!-- s2&#45;a1&#45;&gt;s0 -->\r\n",
       "<g id=\"edge17\" class=\"edge\">\r\n",
       "<title>s2&#45;a1&#45;&gt;s0</title>\r\n",
       "<path fill=\"none\" stroke=\"blue\" stroke-dasharray=\"5,2\" d=\"M780.63,-65.62C773.87,-62.09 766.27,-58.81 758.83,-57 703.11,-43.47 687.16,-56.91 629.83,-57 487.23,-57.22 450.96,-44.72 308.99,-58 245.91,-63.9 230.54,-69.63 168.84,-84 165.26,-84.83 161.61,-85.72 157.93,-86.63\"/>\r\n",
       "<polygon fill=\"blue\" stroke=\"blue\" points=\"156.97,-83.27 148.15,-89.13 158.7,-90.05 156.97,-83.27\"/>\r\n",
       "<text text-anchor=\"middle\" x=\"375.99\" y=\"-63.2\" font-family=\"Arial\" font-size=\"16.00\">p = 0.3 &#160;reward =&#45;1</text>\r\n",
       "</g>\r\n",
       "<!-- s2&#45;a1&#45;&gt;s2 -->\r\n",
       "<g id=\"edge19\" class=\"edge\">\r\n",
       "<title>s2&#45;a1&#45;&gt;s2</title>\r\n",
       "<path fill=\"none\" stroke=\"blue\" stroke-dasharray=\"5,2\" d=\"M777.91,-72.06C742.55,-62.57 677.56,-50.81 629.83,-75 608.02,-86.05 590.11,-104.94 576.06,-124.77\"/>\r\n",
       "<polygon fill=\"blue\" stroke=\"blue\" points=\"572.98,-123.07 570.27,-133.31 578.78,-127 572.98,-123.07\"/>\r\n",
       "<text text-anchor=\"middle\" x=\"694.33\" y=\"-80.2\" font-family=\"Arial\" font-size=\"16.00\">p = 0.4</text>\r\n",
       "</g>\r\n",
       "<!-- s2&#45;a1&#45;&gt;s1 -->\r\n",
       "<g id=\"edge18\" class=\"edge\">\r\n",
       "<title>s2&#45;a1&#45;&gt;s1</title>\r\n",
       "<path fill=\"none\" stroke=\"blue\" stroke-dasharray=\"5,2\" d=\"M831.7,-84.05C853.56,-87.41 885.91,-92.39 916.45,-97.08\"/>\r\n",
       "<polygon fill=\"blue\" stroke=\"blue\" points=\"916.3,-100.6 926.72,-98.66 917.37,-93.68 916.3,-100.6\"/>\r\n",
       "<text text-anchor=\"middle\" x=\"878.98\" y=\"-100.2\" font-family=\"Arial\" font-size=\"16.00\">p = 0.3</text>\r\n",
       "</g>\r\n",
       "</g>\r\n",
       "</svg>\r\n"
      ],
      "text/plain": [
       "<graphviz.dot.Digraph at 0x21f8d2359e8>"
      ]
     },
     "metadata": {},
     "output_type": "display_data"
    }
   ],
   "source": [
    "if has_graphviz:\n",
    "    display(plot_graph_with_state_values(mdp, state_values))"
   ]
  },
  {
   "cell_type": "code",
   "execution_count": 15,
   "metadata": {},
   "outputs": [
    {
     "name": "stdout",
     "output_type": "stream",
     "text": [
      "Final state values: {'s0': 3.7810348735476405, 's1': 7.294006423867229, 's2': 4.202140275227048}\n"
     ]
    }
   ],
   "source": [
    "print(\"Final state values:\", state_values)\n",
    "\n",
    "assert abs(state_values['s0'] - 3.781) < 0.01\n",
    "assert abs(state_values['s1'] - 7.294) < 0.01\n",
    "assert abs(state_values['s2'] - 4.202) < 0.01"
   ]
  },
  {
   "cell_type": "markdown",
   "metadata": {},
   "source": [
    "Now let's use those $V^{*}(s)$ to find optimal actions in each state\n",
    "\n",
    " $$\\pi^*(s) = argmax_a \\sum_{s'} P(s' | s,a) \\cdot [ r(s,a,s') + \\gamma V_{i}(s')] = argmax_a Q_i(s,a)$$\n",
    " \n",
    "The only difference vs V(s) is that here we take not max but argmax: find action such with maximum Q(s,a)."
   ]
  },
  {
   "cell_type": "code",
   "execution_count": 16,
   "metadata": {},
   "outputs": [],
   "source": [
    "def get_optimal_action(mdp, state_values, state, gamma=0.9):\n",
    "    \"\"\" Finds optimal action using formula above. \"\"\"\n",
    "    if mdp.is_terminal(state):\n",
    "        return None\n",
    "\n",
    "    actions_dict = {action: get_action_value(mdp, state_values, state, action, gamma) for action in mdp.get_possible_actions(state)}\n",
    "    return max(actions_dict, key=actions_dict.get)"
   ]
  },
  {
   "cell_type": "code",
   "execution_count": 17,
   "metadata": {},
   "outputs": [],
   "source": [
    "assert get_optimal_action(mdp, state_values, 's0', gamma) == 'a1'\n",
    "assert get_optimal_action(mdp, state_values, 's1', gamma) == 'a0'\n",
    "assert get_optimal_action(mdp, state_values, 's2', gamma) == 'a1'"
   ]
  },
  {
   "cell_type": "code",
   "execution_count": 18,
   "metadata": {},
   "outputs": [
    {
     "data": {
      "image/svg+xml": [
       "<?xml version=\"1.0\" encoding=\"UTF-8\" standalone=\"no\"?>\r\n",
       "<!DOCTYPE svg PUBLIC \"-//W3C//DTD SVG 1.1//EN\"\r\n",
       " \"http://www.w3.org/Graphics/SVG/1.1/DTD/svg11.dtd\">\r\n",
       "<!-- Generated by graphviz version 2.47.0 (20210316.0004)\r\n",
       " -->\r\n",
       "<!-- Title: MDP Pages: 1 -->\r\n",
       "<svg width=\"720pt\" height=\"196pt\"\r\n",
       " viewBox=\"0.00 0.00 720.00 196.05\" xmlns=\"http://www.w3.org/2000/svg\" xmlns:xlink=\"http://www.w3.org/1999/xlink\">\r\n",
       "<g id=\"graph0\" class=\"graph\" transform=\"scale(0.58 0.58) rotate(0) translate(4 332)\">\r\n",
       "<title>MDP</title>\r\n",
       "<polygon fill=\"white\" stroke=\"transparent\" points=\"-4,4 -4,-332 1229.97,-332 1229.97,4 -4,4\"/>\r\n",
       "<!-- s0 -->\r\n",
       "<g id=\"node1\" class=\"node\">\r\n",
       "<title>s0</title>\r\n",
       "<ellipse fill=\"#85ff75\" stroke=\"#85ff75\" cx=\"75.42\" cy=\"-129\" rx=\"71.34\" ry=\"71.34\"/>\r\n",
       "<ellipse fill=\"none\" stroke=\"#85ff75\" cx=\"75.42\" cy=\"-129\" rx=\"75.34\" ry=\"75.34\"/>\r\n",
       "<text text-anchor=\"middle\" x=\"75.42\" y=\"-135.8\" font-family=\"Arial\" font-size=\"24.00\">s0</text>\r\n",
       "<text text-anchor=\"middle\" x=\"75.42\" y=\"-109.8\" font-family=\"Arial\" font-size=\"24.00\">V =3.78</text>\r\n",
       "</g>\r\n",
       "<!-- s0&#45;a0 -->\r\n",
       "<g id=\"node2\" class=\"node\">\r\n",
       "<title>s0&#45;a0</title>\r\n",
       "<ellipse fill=\"lightpink\" stroke=\"lightpink\" cx=\"263.41\" cy=\"-160\" rx=\"27.65\" ry=\"27.65\"/>\r\n",
       "<text text-anchor=\"middle\" x=\"263.41\" y=\"-155\" font-family=\"Arial\" font-size=\"20.00\">a0</text>\r\n",
       "</g>\r\n",
       "<!-- s0&#45;&gt;s0&#45;a0 -->\r\n",
       "<g id=\"edge1\" class=\"edge\">\r\n",
       "<title>s0&#45;&gt;s0&#45;a0</title>\r\n",
       "<path fill=\"none\" stroke=\"red\" stroke-width=\"2\" d=\"M150.79,-132.63C172.59,-134.7 196.34,-137.93 217.84,-143 221.24,-143.8 224.74,-144.81 228.21,-145.92\"/>\r\n",
       "<polygon fill=\"red\" stroke=\"red\" stroke-width=\"2\" points=\"227.19,-149.27 237.79,-149.27 229.51,-142.66 227.19,-149.27\"/>\r\n",
       "</g>\r\n",
       "<!-- s0&#45;a1 -->\r\n",
       "<g id=\"node4\" class=\"node\">\r\n",
       "<title>s0&#45;a1</title>\r\n",
       "<ellipse fill=\"lightpink\" stroke=\"lightpink\" cx=\"263.41\" cy=\"-233\" rx=\"27.65\" ry=\"27.65\"/>\r\n",
       "<text text-anchor=\"middle\" x=\"263.41\" y=\"-228\" font-family=\"Arial\" font-size=\"20.00\">a1</text>\r\n",
       "</g>\r\n",
       "<!-- s0&#45;&gt;s0&#45;a1 -->\r\n",
       "<g id=\"edge4\" class=\"edge\">\r\n",
       "<title>s0&#45;&gt;s0&#45;a1</title>\r\n",
       "<path fill=\"none\" stroke=\"red\" stroke-width=\"2\" d=\"M144.09,-160.32C174.49,-176.75 208.79,-196.4 232.6,-211.22\"/>\r\n",
       "<polygon fill=\"red\" stroke=\"red\" stroke-width=\"2\" points=\"230.86,-214.26 241.18,-216.64 234.6,-208.34 230.86,-214.26\"/>\r\n",
       "</g>\r\n",
       "<!-- s0&#45;&gt;s0&#45;a1 -->\r\n",
       "<g id=\"edge20\" class=\"edge\">\r\n",
       "<title>s0&#45;&gt;s0&#45;a1</title>\r\n",
       "<path fill=\"none\" stroke=\"green\" stroke-width=\"6\" d=\"M138.61,-170.18C168.39,-187.52 202.92,-206.48 227.93,-219.1\"/>\r\n",
       "<polygon fill=\"green\" stroke=\"green\" stroke-width=\"6\" points=\"225.73,-223.87 237.02,-223.61 230.4,-214.47 225.73,-223.87\"/>\r\n",
       "</g>\r\n",
       "<!-- s0&#45;a0&#45;&gt;s0 -->\r\n",
       "<g id=\"edge2\" class=\"edge\">\r\n",
       "<title>s0&#45;a0&#45;&gt;s0</title>\r\n",
       "<path fill=\"none\" stroke=\"blue\" stroke-dasharray=\"5,2\" d=\"M235.75,-155.56C215.78,-152.23 187.31,-147.48 159.94,-142.92\"/>\r\n",
       "<polygon fill=\"blue\" stroke=\"blue\" points=\"160.37,-139.44 149.93,-141.25 159.22,-146.35 160.37,-139.44\"/>\r\n",
       "<text text-anchor=\"middle\" x=\"193.34\" y=\"-158.2\" font-family=\"Arial\" font-size=\"16.00\">p = 0.5</text>\r\n",
       "</g>\r\n",
       "<!-- s2 -->\r\n",
       "<g id=\"node3\" class=\"node\">\r\n",
       "<title>s2</title>\r\n",
       "<ellipse fill=\"#85ff75\" stroke=\"#85ff75\" cx=\"536.41\" cy=\"-207\" rx=\"71.34\" ry=\"71.34\"/>\r\n",
       "<ellipse fill=\"none\" stroke=\"#85ff75\" cx=\"536.41\" cy=\"-207\" rx=\"75.34\" ry=\"75.34\"/>\r\n",
       "<text text-anchor=\"middle\" x=\"536.41\" y=\"-213.8\" font-family=\"Arial\" font-size=\"24.00\">s2</text>\r\n",
       "<text text-anchor=\"middle\" x=\"536.41\" y=\"-187.8\" font-family=\"Arial\" font-size=\"24.00\">V =4.20</text>\r\n",
       "</g>\r\n",
       "<!-- s0&#45;a0&#45;&gt;s2 -->\r\n",
       "<g id=\"edge3\" class=\"edge\">\r\n",
       "<title>s0&#45;a0&#45;&gt;s2</title>\r\n",
       "<path fill=\"none\" stroke=\"blue\" stroke-dasharray=\"5,2\" d=\"M290.89,-164.59C327.88,-171.01 396.68,-182.94 451.9,-192.52\"/>\r\n",
       "<polygon fill=\"blue\" stroke=\"blue\" points=\"451.59,-196.02 462.04,-194.28 452.79,-189.12 451.59,-196.02\"/>\r\n",
       "<text text-anchor=\"middle\" x=\"375.99\" y=\"-196.2\" font-family=\"Arial\" font-size=\"16.00\">p = 0.5</text>\r\n",
       "</g>\r\n",
       "<!-- s2&#45;a0 -->\r\n",
       "<g id=\"node8\" class=\"node\">\r\n",
       "<title>s2&#45;a0</title>\r\n",
       "<ellipse fill=\"lightpink\" stroke=\"lightpink\" cx=\"804.4\" cy=\"-181\" rx=\"27.65\" ry=\"27.65\"/>\r\n",
       "<text text-anchor=\"middle\" x=\"804.4\" y=\"-176\" font-family=\"Arial\" font-size=\"20.00\">a0</text>\r\n",
       "</g>\r\n",
       "<!-- s2&#45;&gt;s2&#45;a0 -->\r\n",
       "<g id=\"edge13\" class=\"edge\">\r\n",
       "<title>s2&#45;&gt;s2&#45;a0</title>\r\n",
       "<path fill=\"none\" stroke=\"red\" stroke-width=\"2\" d=\"M611.75,-210.69C655.1,-211.27 710.58,-209.28 758.83,-199 762.28,-198.26 765.8,-197.28 769.29,-196.15\"/>\r\n",
       "<polygon fill=\"red\" stroke=\"red\" stroke-width=\"2\" points=\"770.69,-199.37 778.89,-192.67 768.3,-192.79 770.69,-199.37\"/>\r\n",
       "</g>\r\n",
       "<!-- s2&#45;a1 -->\r\n",
       "<g id=\"node9\" class=\"node\">\r\n",
       "<title>s2&#45;a1</title>\r\n",
       "<ellipse fill=\"lightpink\" stroke=\"lightpink\" cx=\"804.4\" cy=\"-108\" rx=\"27.65\" ry=\"27.65\"/>\r\n",
       "<text text-anchor=\"middle\" x=\"804.4\" y=\"-103\" font-family=\"Arial\" font-size=\"20.00\">a1</text>\r\n",
       "</g>\r\n",
       "<!-- s2&#45;&gt;s2&#45;a1 -->\r\n",
       "<g id=\"edge16\" class=\"edge\">\r\n",
       "<title>s2&#45;&gt;s2&#45;a1</title>\r\n",
       "<path fill=\"none\" stroke=\"red\" stroke-width=\"2\" d=\"M602.62,-170.78C611.73,-167.02 620.99,-163.37 629.83,-160 676.82,-142.09 731.67,-123.14 766.94,-113.29\"/>\r\n",
       "<polygon fill=\"red\" stroke=\"red\" stroke-width=\"2\" points=\"768.03,-116.62 776.78,-110.65 766.21,-109.86 768.03,-116.62\"/>\r\n",
       "</g>\r\n",
       "<!-- s2&#45;&gt;s2&#45;a1 -->\r\n",
       "<g id=\"edge22\" class=\"edge\">\r\n",
       "<title>s2&#45;&gt;s2&#45;a1</title>\r\n",
       "<path fill=\"none\" stroke=\"green\" stroke-width=\"6\" d=\"M608.91,-186.13C615.95,-183.36 623.02,-180.59 629.83,-178 678.66,-159.39 735.98,-139.65 770.98,-125.48\"/>\r\n",
       "<polygon fill=\"green\" stroke=\"green\" stroke-width=\"6\" points=\"773.02,-130.32 780.24,-121.63 768.99,-120.62 773.02,-130.32\"/>\r\n",
       "</g>\r\n",
       "<!-- s0&#45;a1&#45;&gt;s2 -->\r\n",
       "<g id=\"edge5\" class=\"edge\">\r\n",
       "<title>s0&#45;a1&#45;&gt;s2</title>\r\n",
       "<path fill=\"none\" stroke=\"blue\" stroke-dasharray=\"5,2\" d=\"M290.89,-230.46C327.69,-226.93 395.98,-220.38 451.06,-215.09\"/>\r\n",
       "<polygon fill=\"blue\" stroke=\"blue\" points=\"451.56,-218.56 461.18,-214.12 450.89,-211.59 451.56,-218.56\"/>\r\n",
       "<text text-anchor=\"middle\" x=\"375.99\" y=\"-233.2\" font-family=\"Arial\" font-size=\"16.00\">p = 1</text>\r\n",
       "</g>\r\n",
       "<!-- s1 -->\r\n",
       "<g id=\"node5\" class=\"node\">\r\n",
       "<title>s1</title>\r\n",
       "<ellipse fill=\"#85ff75\" stroke=\"#85ff75\" cx=\"1001.4\" cy=\"-127\" rx=\"71.34\" ry=\"71.34\"/>\r\n",
       "<ellipse fill=\"none\" stroke=\"#85ff75\" cx=\"1001.4\" cy=\"-127\" rx=\"75.34\" ry=\"75.34\"/>\r\n",
       "<text text-anchor=\"middle\" x=\"1001.4\" y=\"-133.8\" font-family=\"Arial\" font-size=\"24.00\">s1</text>\r\n",
       "<text text-anchor=\"middle\" x=\"1001.4\" y=\"-107.8\" font-family=\"Arial\" font-size=\"24.00\">V =7.29</text>\r\n",
       "</g>\r\n",
       "<!-- s1&#45;a0 -->\r\n",
       "<g id=\"node6\" class=\"node\">\r\n",
       "<title>s1&#45;a0</title>\r\n",
       "<ellipse fill=\"lightpink\" stroke=\"lightpink\" cx=\"1198.39\" cy=\"-126\" rx=\"27.65\" ry=\"27.65\"/>\r\n",
       "<text text-anchor=\"middle\" x=\"1198.39\" y=\"-121\" font-family=\"Arial\" font-size=\"20.00\">a0</text>\r\n",
       "</g>\r\n",
       "<!-- s1&#45;&gt;s1&#45;a0 -->\r\n",
       "<g id=\"edge6\" class=\"edge\">\r\n",
       "<title>s1&#45;&gt;s1&#45;a0</title>\r\n",
       "<path fill=\"none\" stroke=\"red\" stroke-width=\"2\" d=\"M1076.67,-120.04C1105.42,-119.46 1137.03,-119.68 1160.69,-120.78\"/>\r\n",
       "<polygon fill=\"red\" stroke=\"red\" stroke-width=\"2\" points=\"1160.78,-124.29 1170.96,-121.34 1161.16,-117.3 1160.78,-124.29\"/>\r\n",
       "</g>\r\n",
       "<!-- s1&#45;&gt;s1&#45;a0 -->\r\n",
       "<g id=\"edge21\" class=\"edge\">\r\n",
       "<title>s1&#45;&gt;s1&#45;a0</title>\r\n",
       "<path fill=\"none\" stroke=\"green\" stroke-width=\"6\" d=\"M1076.67,-133.2C1105.42,-133.48 1137.03,-132.93 1160.69,-131.6\"/>\r\n",
       "<polygon fill=\"green\" stroke=\"green\" stroke-width=\"6\" points=\"1161.32,-136.82 1170.96,-130.93 1160.64,-126.34 1161.32,-136.82\"/>\r\n",
       "</g>\r\n",
       "<!-- s1&#45;a1 -->\r\n",
       "<g id=\"node7\" class=\"node\">\r\n",
       "<title>s1&#45;a1</title>\r\n",
       "<ellipse fill=\"lightpink\" stroke=\"lightpink\" cx=\"1198.39\" cy=\"-199\" rx=\"27.65\" ry=\"27.65\"/>\r\n",
       "<text text-anchor=\"middle\" x=\"1198.39\" y=\"-194\" font-family=\"Arial\" font-size=\"20.00\">a1</text>\r\n",
       "</g>\r\n",
       "<!-- s1&#45;&gt;s1&#45;a1 -->\r\n",
       "<g id=\"edge10\" class=\"edge\">\r\n",
       "<title>s1&#45;&gt;s1&#45;a1</title>\r\n",
       "<path fill=\"none\" stroke=\"red\" stroke-width=\"2\" d=\"M1073.78,-149.36C1098.98,-157.74 1127.37,-167.73 1152.82,-178 1156.46,-179.47 1160.23,-181.09 1163.97,-182.76\"/>\r\n",
       "<polygon fill=\"red\" stroke=\"red\" stroke-width=\"2\" points=\"1162.54,-185.95 1173.09,-186.94 1165.46,-179.59 1162.54,-185.95\"/>\r\n",
       "</g>\r\n",
       "<!-- s1&#45;a0&#45;&gt;s0 -->\r\n",
       "<g id=\"edge7\" class=\"edge\">\r\n",
       "<title>s1&#45;a0&#45;&gt;s0</title>\r\n",
       "<path fill=\"none\" stroke=\"blue\" stroke-dasharray=\"5,2\" d=\"M1180.22,-104.91C1148.93,-69.04 1078.78,0 1002.4,0 262.41,0 262.41,0 262.41,0 212.36,0 166.07,-31.93 132.19,-64.02\"/>\r\n",
       "<polygon fill=\"blue\" stroke=\"blue\" points=\"129.45,-61.81 124.72,-71.29 134.33,-66.83 129.45,-61.81\"/>\r\n",
       "<text text-anchor=\"middle\" x=\"694.33\" y=\"-5.2\" font-family=\"Arial\" font-size=\"16.00\">p = 0.7 &#160;reward =5</text>\r\n",
       "</g>\r\n",
       "<!-- s1&#45;a0&#45;&gt;s2 -->\r\n",
       "<g id=\"edge9\" class=\"edge\">\r\n",
       "<title>s1&#45;a0&#45;&gt;s2</title>\r\n",
       "<path fill=\"none\" stroke=\"blue\" stroke-dasharray=\"5,2\" d=\"M1180.25,-147C1176.84,-151.76 1173.49,-156.91 1170.82,-162 1159.42,-183.64 1172.65,-199.69 1152.82,-214 1070.23,-273.59 769.42,-240.55 621.16,-219.8\"/>\r\n",
       "<polygon fill=\"blue\" stroke=\"blue\" points=\"621.58,-216.32 611.19,-218.39 620.6,-223.25 621.58,-216.32\"/>\r\n",
       "<text text-anchor=\"middle\" x=\"878.98\" y=\"-251.2\" font-family=\"Arial\" font-size=\"16.00\">p = 0.2</text>\r\n",
       "</g>\r\n",
       "<!-- s1&#45;a0&#45;&gt;s1 -->\r\n",
       "<g id=\"edge8\" class=\"edge\">\r\n",
       "<title>s1&#45;a0&#45;&gt;s1</title>\r\n",
       "<path fill=\"none\" stroke=\"blue\" stroke-dasharray=\"5,2\" d=\"M1174.03,-112.64C1167.38,-109.5 1160,-106.61 1152.82,-105 1130.7,-100.05 1106.51,-100.9 1084.11,-104.21\"/>\r\n",
       "<polygon fill=\"blue\" stroke=\"blue\" points=\"1083.25,-100.8 1073.96,-105.89 1084.4,-107.71 1083.25,-100.8\"/>\r\n",
       "<text text-anchor=\"middle\" x=\"1123.82\" y=\"-110.2\" font-family=\"Arial\" font-size=\"16.00\">p = 0.1</text>\r\n",
       "</g>\r\n",
       "<!-- s1&#45;a1&#45;&gt;s2 -->\r\n",
       "<g id=\"edge12\" class=\"edge\">\r\n",
       "<title>s1&#45;a1&#45;&gt;s2</title>\r\n",
       "<path fill=\"none\" stroke=\"blue\" stroke-dasharray=\"5,2\" d=\"M1184.04,-222.71C1176.44,-233.74 1165.83,-245.78 1152.82,-252 943.11,-352.26 855.72,-306.78 629.83,-252 624.05,-250.6 618.21,-248.8 612.42,-246.73\"/>\r\n",
       "<polygon fill=\"blue\" stroke=\"blue\" points=\"613.34,-243.34 602.75,-243.02 610.83,-249.87 613.34,-243.34\"/>\r\n",
       "<text text-anchor=\"middle\" x=\"878.98\" y=\"-315.2\" font-family=\"Arial\" font-size=\"16.00\">p = 0.05</text>\r\n",
       "</g>\r\n",
       "<!-- s1&#45;a1&#45;&gt;s1 -->\r\n",
       "<g id=\"edge11\" class=\"edge\">\r\n",
       "<title>s1&#45;a1&#45;&gt;s1</title>\r\n",
       "<path fill=\"none\" stroke=\"blue\" stroke-dasharray=\"5,2\" d=\"M1170.7,-195.03C1149.66,-191.42 1119.81,-185.24 1094.82,-176 1088.83,-173.79 1082.76,-171.26 1076.72,-168.55\"/>\r\n",
       "<polygon fill=\"blue\" stroke=\"blue\" points=\"1077.83,-165.21 1067.29,-164.15 1074.87,-171.55 1077.83,-165.21\"/>\r\n",
       "<text text-anchor=\"middle\" x=\"1123.82\" y=\"-197.2\" font-family=\"Arial\" font-size=\"16.00\">p = 0.95</text>\r\n",
       "</g>\r\n",
       "<!-- s2&#45;a0&#45;&gt;s0 -->\r\n",
       "<g id=\"edge14\" class=\"edge\">\r\n",
       "<title>s2&#45;a0&#45;&gt;s0</title>\r\n",
       "<path fill=\"none\" stroke=\"blue\" stroke-dasharray=\"5,2\" d=\"M778.53,-170.89C742.5,-156.84 673.36,-132.11 611.83,-123 453.7,-99.59 266.44,-110.34 160.52,-119.91\"/>\r\n",
       "<polygon fill=\"blue\" stroke=\"blue\" points=\"160.17,-116.43 150.53,-120.84 160.81,-123.4 160.17,-116.43\"/>\r\n",
       "<text text-anchor=\"middle\" x=\"375.99\" y=\"-116.2\" font-family=\"Arial\" font-size=\"16.00\">p = 0.4</text>\r\n",
       "</g>\r\n",
       "<!-- s2&#45;a0&#45;&gt;s2 -->\r\n",
       "<g id=\"edge15\" class=\"edge\">\r\n",
       "<title>s2&#45;a0&#45;&gt;s2</title>\r\n",
       "<path fill=\"none\" stroke=\"blue\" stroke-dasharray=\"5,2\" d=\"M777.03,-177.47C742.85,-173.57 681.48,-168.83 629.83,-177 625.7,-177.65 621.51,-178.46 617.31,-179.38\"/>\r\n",
       "<polygon fill=\"blue\" stroke=\"blue\" points=\"616.4,-176 607.49,-181.74 618.03,-182.81 616.4,-176\"/>\r\n",
       "<text text-anchor=\"middle\" x=\"694.33\" y=\"-182.2\" font-family=\"Arial\" font-size=\"16.00\">p = 0.6</text>\r\n",
       "</g>\r\n",
       "<!-- s2&#45;a1&#45;&gt;s0 -->\r\n",
       "<g id=\"edge17\" class=\"edge\">\r\n",
       "<title>s2&#45;a1&#45;&gt;s0</title>\r\n",
       "<path fill=\"none\" stroke=\"blue\" stroke-dasharray=\"5,2\" d=\"M780.02,-94.34C773.37,-91.06 765.99,-87.94 758.83,-86 565.59,-33.77 508.31,-45.67 308.99,-64 245.9,-69.8 229.52,-71.8 168.84,-90 163.96,-91.46 158.99,-93.1 154.01,-94.86\"/>\r\n",
       "<polygon fill=\"blue\" stroke=\"blue\" points=\"152.64,-91.63 144.45,-98.35 155.04,-98.2 152.64,-91.63\"/>\r\n",
       "<text text-anchor=\"middle\" x=\"375.99\" y=\"-69.2\" font-family=\"Arial\" font-size=\"16.00\">p = 0.3 &#160;reward =&#45;1</text>\r\n",
       "</g>\r\n",
       "<!-- s2&#45;a1&#45;&gt;s2 -->\r\n",
       "<g id=\"edge19\" class=\"edge\">\r\n",
       "<title>s2&#45;a1&#45;&gt;s2</title>\r\n",
       "<path fill=\"none\" stroke=\"blue\" stroke-dasharray=\"5,2\" d=\"M777.61,-100.28C742.46,-91.24 678.32,-80.08 629.83,-102 612.83,-109.68 597.72,-122.2 584.89,-135.96\"/>\r\n",
       "<polygon fill=\"blue\" stroke=\"blue\" points=\"582.03,-133.92 578,-143.71 587.26,-138.57 582.03,-133.92\"/>\r\n",
       "<text text-anchor=\"middle\" x=\"694.33\" y=\"-107.2\" font-family=\"Arial\" font-size=\"16.00\">p = 0.4</text>\r\n",
       "</g>\r\n",
       "<!-- s2&#45;a1&#45;&gt;s1 -->\r\n",
       "<g id=\"edge18\" class=\"edge\">\r\n",
       "<title>s2&#45;a1&#45;&gt;s1</title>\r\n",
       "<path fill=\"none\" stroke=\"blue\" stroke-dasharray=\"5,2\" d=\"M832.11,-110.6C853.85,-112.72 885.78,-115.83 916,-118.78\"/>\r\n",
       "<polygon fill=\"blue\" stroke=\"blue\" points=\"915.87,-122.28 926.17,-119.77 916.55,-115.31 915.87,-122.28\"/>\r\n",
       "<text text-anchor=\"middle\" x=\"878.98\" y=\"-123.2\" font-family=\"Arial\" font-size=\"16.00\">p = 0.3</text>\r\n",
       "</g>\r\n",
       "</g>\r\n",
       "</svg>\r\n"
      ],
      "text/plain": [
       "<graphviz.dot.Digraph at 0x21f8d9c2e80>"
      ]
     },
     "metadata": {},
     "output_type": "display_data"
    }
   ],
   "source": [
    "if has_graphviz:\n",
    "    try:\n",
    "        display(plot_graph_optimal_strategy_and_state_values(mdp, state_values))\n",
    "    except ImportError:\n",
    "        raise ImportError(\"Run the cell that starts with \\\"%%writefile mdp_get_action_value.py\\\"\")"
   ]
  },
  {
   "cell_type": "code",
   "execution_count": 19,
   "metadata": {},
   "outputs": [
    {
     "name": "stdout",
     "output_type": "stream",
     "text": [
      "average reward:  0.4797\n"
     ]
    }
   ],
   "source": [
    "# Measure agent's average reward\n",
    "\n",
    "s = mdp.reset()\n",
    "rewards = []\n",
    "for _ in range(10000):\n",
    "    s, r, done, _ = mdp.step(get_optimal_action(mdp, state_values, s, gamma))\n",
    "    rewards.append(r)\n",
    "\n",
    "print(\"average reward: \", np.mean(rewards))\n",
    "\n",
    "assert(0.40 < np.mean(rewards) < 0.55)"
   ]
  },
  {
   "cell_type": "markdown",
   "metadata": {},
   "source": [
    "# Frozen lake"
   ]
  },
  {
   "cell_type": "code",
   "execution_count": 20,
   "metadata": {},
   "outputs": [
    {
     "name": "stdout",
     "output_type": "stream",
     "text": [
      "*FFF\n",
      "FHFH\n",
      "FFFH\n",
      "HFFG\n",
      "\n"
     ]
    }
   ],
   "source": [
    "from mdp import FrozenLakeEnv\n",
    "mdp = FrozenLakeEnv(slip_chance=0)\n",
    "\n",
    "mdp.render()"
   ]
  },
  {
   "cell_type": "code",
   "execution_count": 21,
   "metadata": {},
   "outputs": [],
   "source": [
    "def value_iteration(mdp, state_values=None, gamma=0.9, num_iter=1000, min_difference=1e-5):\n",
    "    \"\"\" performs num_iter value iteration steps starting from state_values. Same as before but in a function \"\"\"\n",
    "    state_values = state_values or {s: 0 for s in mdp.get_all_states()}\n",
    "    for i in range(num_iter):\n",
    "\n",
    "        # Compute new state values using the functions you defined above. It must be a dict {state : new_V(state)}\n",
    "        new_state_values = {state: get_new_state_value(mdp, state_values, state, gamma) for state in mdp.get_all_states()}\n",
    "\n",
    "        assert isinstance(new_state_values, dict)\n",
    "\n",
    "        # Compute difference\n",
    "        diff = max(abs(new_state_values[s] - state_values[s])\n",
    "                   for s in mdp.get_all_states())\n",
    "\n",
    "        print(\"iter %4i   |   diff: %6.5f   |   V(start): %.3f \" %\n",
    "              (i, diff, new_state_values[mdp._initial_state]))\n",
    "\n",
    "        state_values = new_state_values\n",
    "        if diff < min_difference:\n",
    "            break\n",
    "\n",
    "    return state_values"
   ]
  },
  {
   "cell_type": "code",
   "execution_count": 22,
   "metadata": {},
   "outputs": [
    {
     "name": "stdout",
     "output_type": "stream",
     "text": [
      "iter    0   |   diff: 1.00000   |   V(start): 0.000 \n",
      "iter    1   |   diff: 0.90000   |   V(start): 0.000 \n",
      "iter    2   |   diff: 0.81000   |   V(start): 0.000 \n",
      "iter    3   |   diff: 0.72900   |   V(start): 0.000 \n",
      "iter    4   |   diff: 0.65610   |   V(start): 0.000 \n",
      "iter    5   |   diff: 0.59049   |   V(start): 0.590 \n",
      "iter    6   |   diff: 0.00000   |   V(start): 0.590 \n"
     ]
    }
   ],
   "source": [
    "state_values = value_iteration(mdp)"
   ]
  },
  {
   "cell_type": "code",
   "execution_count": 23,
   "metadata": {},
   "outputs": [
    {
     "name": "stdout",
     "output_type": "stream",
     "text": [
      "*FFF\n",
      "FHFH\n",
      "FFFH\n",
      "HFFG\n",
      "\n",
      "down\n",
      "\n",
      "SFFF\n",
      "*HFH\n",
      "FFFH\n",
      "HFFG\n",
      "\n",
      "down\n",
      "\n",
      "SFFF\n",
      "FHFH\n",
      "*FFH\n",
      "HFFG\n",
      "\n",
      "right\n",
      "\n",
      "SFFF\n",
      "FHFH\n",
      "F*FH\n",
      "HFFG\n",
      "\n",
      "down\n",
      "\n",
      "SFFF\n",
      "FHFH\n",
      "FFFH\n",
      "H*FG\n",
      "\n",
      "right\n",
      "\n",
      "SFFF\n",
      "FHFH\n",
      "FFFH\n",
      "HF*G\n",
      "\n",
      "right\n",
      "\n",
      "SFFF\n",
      "FHFH\n",
      "FFFH\n",
      "HFF*\n",
      "\n"
     ]
    }
   ],
   "source": [
    "s = mdp.reset()\n",
    "mdp.render()\n",
    "for t in range(100):\n",
    "    a = get_optimal_action(mdp, state_values, s, gamma)\n",
    "    print(a, end='\\n\\n')\n",
    "    s, r, done, _ = mdp.step(a)\n",
    "    mdp.render()\n",
    "    if done:\n",
    "        break"
   ]
  },
  {
   "cell_type": "markdown",
   "metadata": {},
   "source": [
    "### Let's visualize!\n",
    "\n",
    "It's usually interesting to see what your algorithm actually learned under the hood. To do so, we'll plot state value functions and optimal actions at each VI step."
   ]
  },
  {
   "cell_type": "code",
   "execution_count": 24,
   "metadata": {},
   "outputs": [],
   "source": [
    "import matplotlib.pyplot as plt\n",
    "%matplotlib inline\n",
    "\n",
    "\n",
    "def draw_policy(mdp, state_values):\n",
    "    plt.figure(figsize=(3, 3))\n",
    "    h, w = mdp.desc.shape\n",
    "    states = sorted(mdp.get_all_states())\n",
    "    V = np.array([state_values[s] for s in states])\n",
    "    Pi = {s: get_optimal_action(mdp, state_values, s, gamma) for s in states}\n",
    "    plt.imshow(V.reshape(w, h), cmap='gray', interpolation='none', clim=(0, 1))\n",
    "    ax = plt.gca()\n",
    "    ax.set_xticks(np.arange(h)-.5)\n",
    "    ax.set_yticks(np.arange(w)-.5)\n",
    "    ax.set_xticklabels([])\n",
    "    ax.set_yticklabels([])\n",
    "    Y, X = np.mgrid[0:4, 0:4]\n",
    "    a2uv = {'left': (-1, 0), 'down': (0, -1), 'right': (1, 0), 'up': (0, 1)}\n",
    "    for y in range(h):\n",
    "        for x in range(w):\n",
    "            plt.text(x, y, str(mdp.desc[y, x].item()),\n",
    "                     color='g', size=12,  verticalalignment='center',\n",
    "                     horizontalalignment='center', fontweight='bold')\n",
    "            a = Pi[y, x]\n",
    "            if a is None:\n",
    "                continue\n",
    "            u, v = a2uv[a]\n",
    "            plt.arrow(x, y, u*.3, -v*.3, color='m',\n",
    "                      head_width=0.1, head_length=0.1)\n",
    "    plt.grid(color='b', lw=2, ls='-')\n",
    "    plt.show()"
   ]
  },
  {
   "cell_type": "code",
   "execution_count": 25,
   "metadata": {
    "scrolled": false
   },
   "outputs": [
    {
     "name": "stdout",
     "output_type": "stream",
     "text": [
      "after iteration 0\n",
      "iter    0   |   diff: 1.00000   |   V(start): 0.000 \n"
     ]
    },
    {
     "data": {
      "image/png": "[encoded data removed]",
      "text/plain": [
       "<Figure size 216x216 with 1 Axes>"
      ]
     },
     "metadata": {
      "needs_background": "light"
     },
     "output_type": "display_data"
    },
    {
     "name": "stdout",
     "output_type": "stream",
     "text": [
      "after iteration 1\n",
      "iter    0   |   diff: 0.90000   |   V(start): 0.000 \n"
     ]
    },
    {
     "data": {
      "image/png": "[encoded data removed]",
      "text/plain": [
       "<Figure size 216x216 with 1 Axes>"
      ]
     },
     "metadata": {
      "needs_background": "light"
     },
     "output_type": "display_data"
    },
    {
     "name": "stdout",
     "output_type": "stream",
     "text": [
      "after iteration 2\n",
      "iter    0   |   diff: 0.81000   |   V(start): 0.000 \n"
     ]
    },
    {
     "data": {
      "image/png": "[encoded data removed]",
      "text/plain": [
       "<Figure size 216x216 with 1 Axes>"
      ]
     },
     "metadata": {
      "needs_background": "light"
     },
     "output_type": "display_data"
    },
    {
     "name": "stdout",
     "output_type": "stream",
     "text": [
      "after iteration 3\n",
      "iter    0   |   diff: 0.72900   |   V(start): 0.000 \n"
     ]
    },
    {
     "data": {
      "image/png": "[encoded data removed]",
      "text/plain": [
       "<Figure size 216x216 with 1 Axes>"
      ]
     },
     "metadata": {
      "needs_background": "light"
     },
     "output_type": "display_data"
    },
    {
     "name": "stdout",
     "output_type": "stream",
     "text": [
      "after iteration 4\n",
      "iter    0   |   diff: 0.65610   |   V(start): 0.000 \n"
     ]
    },
    {
     "data": {
      "image/png": "[encoded data removed]",
      "text/plain": [
       "<Figure size 216x216 with 1 Axes>"
      ]
     },
     "metadata": {
      "needs_background": "light"
     },
     "output_type": "display_data"
    },
    {
     "name": "stdout",
     "output_type": "stream",
     "text": [
      "after iteration 5\n",
      "iter    0   |   diff: 0.59049   |   V(start): 0.590 \n"
     ]
    },
    {
     "data": {
      "image/png": "[encoded data removed]",
      "text/plain": [
       "<Figure size 216x216 with 1 Axes>"
      ]
     },
     "metadata": {
      "needs_background": "light"
     },
     "output_type": "display_data"
    },
    {
     "name": "stdout",
     "output_type": "stream",
     "text": [
      "after iteration 6\n",
      "iter    0   |   diff: 0.00000   |   V(start): 0.590 \n"
     ]
    },
    {
     "data": {
      "image/png": "[encoded data removed]",
      "text/plain": [
       "<Figure size 216x216 with 1 Axes>"
      ]
     },
     "metadata": {
      "needs_background": "light"
     },
     "output_type": "display_data"
    },
    {
     "name": "stdout",
     "output_type": "stream",
     "text": [
      "after iteration 7\n",
      "iter    0   |   diff: 0.00000   |   V(start): 0.590 \n"
     ]
    },
    {
     "data": {
      "image/png": "[encoded data removed]",
      "text/plain": [
       "<Figure size 216x216 with 1 Axes>"
      ]
     },
     "metadata": {
      "needs_background": "light"
     },
     "output_type": "display_data"
    },
    {
     "name": "stdout",
     "output_type": "stream",
     "text": [
      "after iteration 8\n",
      "iter    0   |   diff: 0.00000   |   V(start): 0.590 \n"
     ]
    },
    {
     "data": {
      "image/png": "[encoded data removed]",
      "text/plain": [
       "<Figure size 216x216 with 1 Axes>"
      ]
     },
     "metadata": {
      "needs_background": "light"
     },
     "output_type": "display_data"
    },
    {
     "name": "stdout",
     "output_type": "stream",
     "text": [
      "after iteration 9\n",
      "iter    0   |   diff: 0.00000   |   V(start): 0.590 \n"
     ]
    },
    {
     "data": {
      "image/png": "[encoded data removed]",
      "text/plain": [
       "<Figure size 216x216 with 1 Axes>"
      ]
     },
     "metadata": {
      "needs_background": "light"
     },
     "output_type": "display_data"
    }
   ],
   "source": [
    "state_values = {s: 0 for s in mdp.get_all_states()}\n",
    "\n",
    "for i in range(10):\n",
    "    print(\"after iteration %i\" % i)\n",
    "    state_values = value_iteration(mdp, state_values, num_iter=1)\n",
    "    draw_policy(mdp, state_values)\n",
    "# please ignore iter 0 at each step"
   ]
  },
  {
   "cell_type": "code",
   "execution_count": 26,
   "metadata": {},
   "outputs": [
    {
     "name": "stdout",
     "output_type": "stream",
     "text": [
      "after iteration 29\n",
      "iter    0   |   diff: 0.00000   |   V(start): 0.198 \n"
     ]
    },
    {
     "data": {
      "image/png": "[encoded data removed]",
      "text/plain": [
       "<Figure size 216x216 with 1 Axes>"
      ]
     },
     "metadata": {
      "needs_background": "light"
     },
     "output_type": "display_data"
    }
   ],
   "source": [
    "from IPython.display import clear_output\n",
    "from time import sleep\n",
    "mdp = FrozenLakeEnv(map_name='8x8', slip_chance=0.1)\n",
    "state_values = {s: 0 for s in mdp.get_all_states()}\n",
    "\n",
    "for i in range(30):\n",
    "    clear_output(True)\n",
    "    print(\"after iteration %i\" % i)\n",
    "    state_values = value_iteration(mdp, state_values, num_iter=1)\n",
    "    draw_policy(mdp, state_values)\n",
    "    sleep(0.5)\n",
    "# please ignore iter 0 at each step"
   ]
  },
  {
   "cell_type": "markdown",
   "metadata": {},
   "source": [
    "### Massive tests"
   ]
  },
  {
   "cell_type": "code",
   "execution_count": 27,
   "metadata": {},
   "outputs": [
    {
     "name": "stdout",
     "output_type": "stream",
     "text": [
      "iter    0   |   diff: 1.00000   |   V(start): 0.000 \n",
      "iter    1   |   diff: 0.90000   |   V(start): 0.000 \n",
      "iter    2   |   diff: 0.81000   |   V(start): 0.000 \n",
      "iter    3   |   diff: 0.72900   |   V(start): 0.000 \n",
      "iter    4   |   diff: 0.65610   |   V(start): 0.000 \n",
      "iter    5   |   diff: 0.59049   |   V(start): 0.590 \n",
      "iter    6   |   diff: 0.00000   |   V(start): 0.590 \n",
      "average reward:  1.0\n",
      "Well done!\n"
     ]
    }
   ],
   "source": [
    "mdp = FrozenLakeEnv(slip_chance=0)\n",
    "state_values = value_iteration(mdp)\n",
    "\n",
    "total_rewards = []\n",
    "for game_i in range(1000):\n",
    "    s = mdp.reset()\n",
    "    rewards = []\n",
    "    for t in range(100):\n",
    "        s, r, done, _ = mdp.step(\n",
    "            get_optimal_action(mdp, state_values, s, gamma))\n",
    "        rewards.append(r)\n",
    "        if done:\n",
    "            break\n",
    "    total_rewards.append(np.sum(rewards))\n",
    "\n",
    "print(\"average reward: \", np.mean(total_rewards))\n",
    "assert(1.0 <= np.mean(total_rewards) <= 1.0)\n",
    "print(\"Well done!\")"
   ]
  },
  {
   "cell_type": "code",
   "execution_count": 28,
   "metadata": {},
   "outputs": [
    {
     "name": "stdout",
     "output_type": "stream",
     "text": [
      "iter    0   |   diff: 0.90000   |   V(start): 0.000 \n",
      "iter    1   |   diff: 0.72900   |   V(start): 0.000 \n",
      "iter    2   |   diff: 0.62330   |   V(start): 0.000 \n",
      "iter    3   |   diff: 0.50487   |   V(start): 0.000 \n",
      "iter    4   |   diff: 0.40894   |   V(start): 0.000 \n",
      "iter    5   |   diff: 0.34868   |   V(start): 0.349 \n",
      "iter    6   |   diff: 0.06529   |   V(start): 0.410 \n",
      "iter    7   |   diff: 0.05832   |   V(start): 0.468 \n",
      "iter    8   |   diff: 0.01139   |   V(start): 0.480 \n",
      "iter    9   |   diff: 0.00764   |   V(start): 0.487 \n",
      "iter   10   |   diff: 0.00164   |   V(start): 0.489 \n",
      "iter   11   |   diff: 0.00094   |   V(start): 0.490 \n",
      "iter   12   |   diff: 0.00022   |   V(start): 0.490 \n",
      "iter   13   |   diff: 0.00011   |   V(start): 0.490 \n",
      "iter   14   |   diff: 0.00003   |   V(start): 0.490 \n",
      "iter   15   |   diff: 0.00001   |   V(start): 0.490 \n",
      "iter   16   |   diff: 0.00000   |   V(start): 0.490 \n",
      "average reward:  0.867\n",
      "Well done!\n"
     ]
    }
   ],
   "source": [
    "# Measure agent's average reward\n",
    "mdp = FrozenLakeEnv(slip_chance=0.1)\n",
    "state_values = value_iteration(mdp)\n",
    "\n",
    "total_rewards = []\n",
    "for game_i in range(1000):\n",
    "    s = mdp.reset()\n",
    "    rewards = []\n",
    "    for t in range(100):\n",
    "        s, r, done, _ = mdp.step(\n",
    "            get_optimal_action(mdp, state_values, s, gamma))\n",
    "        rewards.append(r)\n",
    "        if done:\n",
    "            break\n",
    "    total_rewards.append(np.sum(rewards))\n",
    "\n",
    "print(\"average reward: \", np.mean(total_rewards))\n",
    "assert(0.8 <= np.mean(total_rewards) <= 0.95)\n",
    "print(\"Well done!\")"
   ]
  },
  {
   "cell_type": "code",
   "execution_count": 29,
   "metadata": {},
   "outputs": [
    {
     "name": "stdout",
     "output_type": "stream",
     "text": [
      "iter    0   |   diff: 0.75000   |   V(start): 0.000 \n",
      "iter    1   |   diff: 0.50625   |   V(start): 0.000 \n",
      "iter    2   |   diff: 0.39867   |   V(start): 0.000 \n",
      "iter    3   |   diff: 0.26910   |   V(start): 0.000 \n",
      "iter    4   |   diff: 0.18164   |   V(start): 0.000 \n",
      "iter    5   |   diff: 0.14013   |   V(start): 0.140 \n",
      "iter    6   |   diff: 0.07028   |   V(start): 0.199 \n",
      "iter    7   |   diff: 0.06030   |   V(start): 0.260 \n",
      "iter    8   |   diff: 0.02594   |   V(start): 0.285 \n",
      "iter    9   |   diff: 0.01918   |   V(start): 0.305 \n",
      "iter   10   |   diff: 0.00858   |   V(start): 0.313 \n",
      "iter   11   |   diff: 0.00560   |   V(start): 0.319 \n",
      "iter   12   |   diff: 0.00260   |   V(start): 0.321 \n",
      "iter   13   |   diff: 0.00159   |   V(start): 0.323 \n",
      "iter   14   |   diff: 0.00076   |   V(start): 0.324 \n",
      "iter   15   |   diff: 0.00045   |   V(start): 0.324 \n",
      "iter   16   |   diff: 0.00022   |   V(start): 0.324 \n",
      "iter   17   |   diff: 0.00012   |   V(start): 0.325 \n",
      "iter   18   |   diff: 0.00006   |   V(start): 0.325 \n",
      "iter   19   |   diff: 0.00003   |   V(start): 0.325 \n",
      "iter   20   |   diff: 0.00002   |   V(start): 0.325 \n",
      "iter   21   |   diff: 0.00001   |   V(start): 0.325 \n",
      "average reward:  0.664\n",
      "Well done!\n"
     ]
    }
   ],
   "source": [
    "# Measure agent's average reward\n",
    "mdp = FrozenLakeEnv(slip_chance=0.25)\n",
    "state_values = value_iteration(mdp)\n",
    "\n",
    "total_rewards = []\n",
    "for game_i in range(1000):\n",
    "    s = mdp.reset()\n",
    "    rewards = []\n",
    "    for t in range(100):\n",
    "        s, r, done, _ = mdp.step(\n",
    "            get_optimal_action(mdp, state_values, s, gamma))\n",
    "        rewards.append(r)\n",
    "        if done:\n",
    "            break\n",
    "    total_rewards.append(np.sum(rewards))\n",
    "\n",
    "print(\"average reward: \", np.mean(total_rewards))\n",
    "assert(0.6 <= np.mean(total_rewards) <= 0.7)\n",
    "print(\"Well done!\")"
   ]
  },
  {
   "cell_type": "code",
   "execution_count": 30,
   "metadata": {},
   "outputs": [
    {
     "name": "stdout",
     "output_type": "stream",
     "text": [
      "iter    0   |   diff: 0.80000   |   V(start): 0.000 \n",
      "iter    1   |   diff: 0.57600   |   V(start): 0.000 \n",
      "iter    2   |   diff: 0.41472   |   V(start): 0.000 \n",
      "iter    3   |   diff: 0.29860   |   V(start): 0.000 \n",
      "iter    4   |   diff: 0.24186   |   V(start): 0.000 \n",
      "iter    5   |   diff: 0.19349   |   V(start): 0.000 \n",
      "iter    6   |   diff: 0.15325   |   V(start): 0.000 \n",
      "iter    7   |   diff: 0.12288   |   V(start): 0.000 \n",
      "iter    8   |   diff: 0.09930   |   V(start): 0.000 \n",
      "iter    9   |   diff: 0.08037   |   V(start): 0.000 \n",
      "iter   10   |   diff: 0.06426   |   V(start): 0.000 \n",
      "iter   11   |   diff: 0.05129   |   V(start): 0.000 \n",
      "iter   12   |   diff: 0.04330   |   V(start): 0.000 \n",
      "iter   13   |   diff: 0.03802   |   V(start): 0.033 \n",
      "iter   14   |   diff: 0.03332   |   V(start): 0.058 \n",
      "iter   15   |   diff: 0.02910   |   V(start): 0.087 \n",
      "iter   16   |   diff: 0.01855   |   V(start): 0.106 \n",
      "iter   17   |   diff: 0.01403   |   V(start): 0.120 \n",
      "iter   18   |   diff: 0.00810   |   V(start): 0.128 \n",
      "iter   19   |   diff: 0.00555   |   V(start): 0.133 \n",
      "iter   20   |   diff: 0.00321   |   V(start): 0.137 \n",
      "iter   21   |   diff: 0.00247   |   V(start): 0.138 \n",
      "iter   22   |   diff: 0.00147   |   V(start): 0.139 \n",
      "iter   23   |   diff: 0.00104   |   V(start): 0.140 \n",
      "iter   24   |   diff: 0.00058   |   V(start): 0.140 \n",
      "iter   25   |   diff: 0.00036   |   V(start): 0.141 \n",
      "iter   26   |   diff: 0.00024   |   V(start): 0.141 \n",
      "iter   27   |   diff: 0.00018   |   V(start): 0.141 \n",
      "iter   28   |   diff: 0.00012   |   V(start): 0.141 \n",
      "iter   29   |   diff: 0.00007   |   V(start): 0.141 \n",
      "iter   30   |   diff: 0.00004   |   V(start): 0.141 \n",
      "iter   31   |   diff: 0.00003   |   V(start): 0.141 \n",
      "iter   32   |   diff: 0.00001   |   V(start): 0.141 \n",
      "iter   33   |   diff: 0.00001   |   V(start): 0.141 \n",
      "average reward:  0.735\n",
      "Well done!\n"
     ]
    }
   ],
   "source": [
    "# Measure agent's average reward\n",
    "mdp = FrozenLakeEnv(slip_chance=0.2, map_name='8x8')\n",
    "state_values = value_iteration(mdp)\n",
    "\n",
    "total_rewards = []\n",
    "for game_i in range(1000):\n",
    "    s = mdp.reset()\n",
    "    rewards = []\n",
    "    for t in range(100):\n",
    "        s, r, done, _ = mdp.step(\n",
    "            get_optimal_action(mdp, state_values, s, gamma))\n",
    "        rewards.append(r)\n",
    "        if done:\n",
    "            break\n",
    "    total_rewards.append(np.sum(rewards))\n",
    "\n",
    "print(\"average reward: \", np.mean(total_rewards))\n",
    "assert(0.6 <= np.mean(total_rewards) <= 0.8)\n",
    "print(\"Well done!\")"
   ]
  },
  {
   "cell_type": "markdown",
   "metadata": {},
   "source": [
    "### Submit to coursera\n",
    "\n",
    "If your submission doesn't finish in 30 seconds, set `verbose=True` and try again."
   ]
  },
  {
   "cell_type": "code",
   "execution_count": null,
   "metadata": {},
   "outputs": [],
   "source": [
    "from submit import submit_assigment\n",
    "submit_assigment(\n",
    "    get_action_value, \n",
    "    get_new_state_value, \n",
    "    get_optimal_action, \n",
    "    value_iteration, \n",
    "    '', \n",
    "    '',\n",
    "    verbose=False,\n",
    ")"
   ]
  }
 ],
 "metadata": {
  "kernelspec": {
   "display_name": "rl",
   "language": "python",
   "name": "rl"
  },
  "language_info": {
   "codemirror_mode": {
    "name": "ipython",
    "version": 3
   },
   "file_extension": ".py",
   "mimetype": "text/x-python",
   "name": "python",
   "nbconvert_exporter": "python",
   "pygments_lexer": "ipython3",
   "version": "3.7.0"
  }
 },
 "nbformat": 4,
 "nbformat_minor": 2
}
