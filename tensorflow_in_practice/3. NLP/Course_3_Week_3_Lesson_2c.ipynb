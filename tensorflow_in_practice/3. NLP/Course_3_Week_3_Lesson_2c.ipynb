{
 "cells": [
  {
   "cell_type": "code",
   "execution_count": null,
   "metadata": {
    "id": "zX4Kg8DUTKWO"
   },
   "outputs": [],
   "source": [
    "#@title Licensed under the Apache License, Version 2.0 (the \"License\");\n",
    "# you may not use this file except in compliance with the License.\n",
    "# You may obtain a copy of the License at\n",
    "#\n",
    "# https://www.apache.org/licenses/LICENSE-2.0\n",
    "#\n",
    "# Unless required by applicable law or agreed to in writing, software\n",
    "# distributed under the License is distributed on an \"AS IS\" BASIS,\n",
    "# WITHOUT WARRANTIES OR CONDITIONS OF ANY KIND, either express or implied.\n",
    "# See the License for the specific language governing permissions and\n",
    "# limitations under the License."
   ]
  },
  {
   "cell_type": "markdown",
   "metadata": {
    "id": "eLHtZPB03lsV"
   },
   "source": [
    "<a href=\"https://colab.research.google.com/github/lmoroney/dlaicourse/blob/master/TensorFlow%20In%20Practice/Course%203%20-%20NLP/Course%203%20-%20Week%203%20-%20Lesson%202c.ipynb\" target=\"_parent\"><img src=\"https://colab.research.google.com/assets/colab-badge.svg\" alt=\"Open In Colab\"/></a>"
   ]
  },
  {
   "cell_type": "code",
   "execution_count": 1,
   "metadata": {
    "id": "jGwXGIXvFhXW"
   },
   "outputs": [
    {
     "name": "stdout",
     "output_type": "stream",
     "text": [
      "Model: \"sequential\"\n",
      "_________________________________________________________________\n",
      "Layer (type)                 Output Shape              Param #   \n",
      "=================================================================\n",
      "embedding (Embedding)        (None, 120, 16)           16000     \n",
      "_________________________________________________________________\n",
      "conv1d (Conv1D)              (None, 116, 128)          10368     \n",
      "_________________________________________________________________\n",
      "global_max_pooling1d (Global (None, 128)               0         \n",
      "_________________________________________________________________\n",
      "dense (Dense)                (None, 24)                3096      \n",
      "_________________________________________________________________\n",
      "dense_1 (Dense)              (None, 1)                 25        \n",
      "=================================================================\n",
      "Total params: 29,489\n",
      "Trainable params: 29,489\n",
      "Non-trainable params: 0\n",
      "_________________________________________________________________\n",
      "Epoch 1/50\n",
      "625/625 [==============================] - 3s 6ms/step - loss: 0.4665 - accuracy: 0.7623 - val_loss: 0.4051 - val_accuracy: 0.8193\n",
      "Epoch 2/50\n",
      "625/625 [==============================] - 3s 5ms/step - loss: 0.3588 - accuracy: 0.8396 - val_loss: 0.4026 - val_accuracy: 0.8135\n",
      "Epoch 3/50\n",
      "625/625 [==============================] - 3s 5ms/step - loss: 0.3220 - accuracy: 0.8568 - val_loss: 0.3931 - val_accuracy: 0.8261\n",
      "Epoch 4/50\n",
      "625/625 [==============================] - 3s 5ms/step - loss: 0.2873 - accuracy: 0.8748 - val_loss: 0.4053 - val_accuracy: 0.8217\n",
      "Epoch 5/50\n",
      "625/625 [==============================] - 3s 6ms/step - loss: 0.2549 - accuracy: 0.8917 - val_loss: 0.4284 - val_accuracy: 0.8152\n",
      "Epoch 6/50\n",
      "625/625 [==============================] - 3s 5ms/step - loss: 0.2218 - accuracy: 0.9084 - val_loss: 0.4694 - val_accuracy: 0.8131\n",
      "Epoch 7/50\n",
      "625/625 [==============================] - 3s 5ms/step - loss: 0.1895 - accuracy: 0.9240 - val_loss: 0.5130 - val_accuracy: 0.8079\n",
      "Epoch 8/50\n",
      "625/625 [==============================] - 3s 5ms/step - loss: 0.1582 - accuracy: 0.9388 - val_loss: 0.5760 - val_accuracy: 0.8035\n",
      "Epoch 9/50\n",
      "625/625 [==============================] - 3s 5ms/step - loss: 0.1322 - accuracy: 0.9506 - val_loss: 0.6351 - val_accuracy: 0.7998\n",
      "Epoch 10/50\n",
      "625/625 [==============================] - 3s 5ms/step - loss: 0.1099 - accuracy: 0.9591 - val_loss: 0.7288 - val_accuracy: 0.8004\n",
      "Epoch 11/50\n",
      "625/625 [==============================] - 3s 5ms/step - loss: 0.0933 - accuracy: 0.9659 - val_loss: 0.7967 - val_accuracy: 0.7964\n",
      "Epoch 12/50\n",
      "625/625 [==============================] - 3s 5ms/step - loss: 0.0793 - accuracy: 0.9714 - val_loss: 0.8610 - val_accuracy: 0.7919\n",
      "Epoch 13/50\n",
      "625/625 [==============================] - 3s 5ms/step - loss: 0.0663 - accuracy: 0.9758 - val_loss: 0.9877 - val_accuracy: 0.7916\n",
      "Epoch 14/50\n",
      "625/625 [==============================] - 3s 6ms/step - loss: 0.0585 - accuracy: 0.9796 - val_loss: 1.0285 - val_accuracy: 0.7913\n",
      "Epoch 15/50\n",
      "625/625 [==============================] - 3s 6ms/step - loss: 0.0546 - accuracy: 0.9804 - val_loss: 1.0291 - val_accuracy: 0.7870\n",
      "Epoch 16/50\n",
      "625/625 [==============================] - 3s 6ms/step - loss: 0.0516 - accuracy: 0.9822 - val_loss: 1.1717 - val_accuracy: 0.7903\n",
      "Epoch 17/50\n",
      "625/625 [==============================] - 3s 5ms/step - loss: 0.0445 - accuracy: 0.9845 - val_loss: 1.2228 - val_accuracy: 0.7804\n",
      "Epoch 18/50\n",
      "625/625 [==============================] - 3s 5ms/step - loss: 0.0448 - accuracy: 0.9839 - val_loss: 1.2646 - val_accuracy: 0.7849\n",
      "Epoch 19/50\n",
      "625/625 [==============================] - 3s 5ms/step - loss: 0.0390 - accuracy: 0.9852 - val_loss: 1.3425 - val_accuracy: 0.7900\n",
      "Epoch 20/50\n",
      "625/625 [==============================] - 4s 6ms/step - loss: 0.0393 - accuracy: 0.9852 - val_loss: 1.3230 - val_accuracy: 0.7764\n",
      "Epoch 21/50\n",
      "625/625 [==============================] - 3s 5ms/step - loss: 0.0387 - accuracy: 0.9858 - val_loss: 1.3638 - val_accuracy: 0.7863\n",
      "Epoch 22/50\n",
      "625/625 [==============================] - 3s 5ms/step - loss: 0.0352 - accuracy: 0.9863 - val_loss: 1.4676 - val_accuracy: 0.7869\n",
      "Epoch 23/50\n",
      "625/625 [==============================] - 3s 5ms/step - loss: 0.0317 - accuracy: 0.9872 - val_loss: 1.5570 - val_accuracy: 0.7824\n",
      "Epoch 24/50\n",
      "625/625 [==============================] - 3s 5ms/step - loss: 0.0349 - accuracy: 0.9859 - val_loss: 1.5344 - val_accuracy: 0.7864\n",
      "Epoch 25/50\n",
      "625/625 [==============================] - 3s 5ms/step - loss: 0.0306 - accuracy: 0.9887 - val_loss: 1.5806 - val_accuracy: 0.7813\n",
      "Epoch 26/50\n",
      "625/625 [==============================] - 3s 5ms/step - loss: 0.0265 - accuracy: 0.9890 - val_loss: 1.7377 - val_accuracy: 0.7824\n",
      "Epoch 27/50\n",
      "625/625 [==============================] - 3s 5ms/step - loss: 0.0266 - accuracy: 0.9891 - val_loss: 1.7112 - val_accuracy: 0.7860\n",
      "Epoch 28/50\n",
      "625/625 [==============================] - 3s 5ms/step - loss: 0.0307 - accuracy: 0.9879 - val_loss: 1.6392 - val_accuracy: 0.7776\n",
      "Epoch 29/50\n",
      "625/625 [==============================] - 3s 5ms/step - loss: 0.0356 - accuracy: 0.9851 - val_loss: 1.7903 - val_accuracy: 0.7806\n",
      "Epoch 30/50\n",
      "625/625 [==============================] - 3s 5ms/step - loss: 0.0282 - accuracy: 0.9888 - val_loss: 1.8337 - val_accuracy: 0.7803\n",
      "Epoch 31/50\n",
      "625/625 [==============================] - 3s 5ms/step - loss: 0.0247 - accuracy: 0.9889 - val_loss: 1.9954 - val_accuracy: 0.7743\n",
      "Epoch 32/50\n",
      "625/625 [==============================] - 3s 5ms/step - loss: 0.0206 - accuracy: 0.9911 - val_loss: 2.0088 - val_accuracy: 0.7755\n",
      "Epoch 33/50\n",
      "625/625 [==============================] - 3s 5ms/step - loss: 0.0224 - accuracy: 0.9904 - val_loss: 2.0996 - val_accuracy: 0.7785\n",
      "Epoch 34/50\n",
      "625/625 [==============================] - 3s 5ms/step - loss: 0.0285 - accuracy: 0.9882 - val_loss: 2.0620 - val_accuracy: 0.7840\n",
      "Epoch 35/50\n",
      "625/625 [==============================] - 3s 5ms/step - loss: 0.0278 - accuracy: 0.9879 - val_loss: 2.0929 - val_accuracy: 0.7812\n",
      "Epoch 36/50\n",
      "625/625 [==============================] - 3s 5ms/step - loss: 0.0270 - accuracy: 0.9883 - val_loss: 2.1541 - val_accuracy: 0.7949\n",
      "Epoch 37/50\n",
      "625/625 [==============================] - 3s 5ms/step - loss: 0.0234 - accuracy: 0.9892 - val_loss: 2.2527 - val_accuracy: 0.7763\n",
      "Epoch 38/50\n",
      "625/625 [==============================] - 3s 5ms/step - loss: 0.0209 - accuracy: 0.9912 - val_loss: 2.2702 - val_accuracy: 0.7801\n",
      "Epoch 39/50\n",
      "625/625 [==============================] - 3s 5ms/step - loss: 0.0190 - accuracy: 0.9914 - val_loss: 2.3896 - val_accuracy: 0.7773\n",
      "Epoch 40/50\n",
      "625/625 [==============================] - 3s 5ms/step - loss: 0.0259 - accuracy: 0.9889 - val_loss: 2.3198 - val_accuracy: 0.7785\n",
      "Epoch 41/50\n",
      "625/625 [==============================] - 3s 5ms/step - loss: 0.0248 - accuracy: 0.9890 - val_loss: 2.3869 - val_accuracy: 0.7819\n",
      "Epoch 42/50\n",
      "625/625 [==============================] - 3s 5ms/step - loss: 0.0264 - accuracy: 0.9891 - val_loss: 2.2508 - val_accuracy: 0.7863\n",
      "Epoch 43/50\n",
      "625/625 [==============================] - 3s 5ms/step - loss: 0.0193 - accuracy: 0.9906 - val_loss: 2.3656 - val_accuracy: 0.7863\n",
      "Epoch 44/50\n",
      "625/625 [==============================] - 3s 5ms/step - loss: 0.0186 - accuracy: 0.9922 - val_loss: 2.4332 - val_accuracy: 0.7837\n",
      "Epoch 45/50\n",
      "625/625 [==============================] - 3s 5ms/step - loss: 0.0190 - accuracy: 0.9913 - val_loss: 2.5778 - val_accuracy: 0.7764\n",
      "Epoch 46/50\n",
      "625/625 [==============================] - 3s 5ms/step - loss: 0.0174 - accuracy: 0.9919 - val_loss: 2.6231 - val_accuracy: 0.7828\n",
      "Epoch 47/50\n",
      "625/625 [==============================] - 3s 5ms/step - loss: 0.0234 - accuracy: 0.9901 - val_loss: 2.5594 - val_accuracy: 0.7839\n",
      "Epoch 48/50\n",
      "625/625 [==============================] - 3s 5ms/step - loss: 0.0262 - accuracy: 0.9891 - val_loss: 2.4585 - val_accuracy: 0.7857\n",
      "Epoch 49/50\n",
      "625/625 [==============================] - 3s 5ms/step - loss: 0.0213 - accuracy: 0.9907 - val_loss: 2.6661 - val_accuracy: 0.7855\n",
      "Epoch 50/50\n",
      "625/625 [==============================] - 3s 5ms/step - loss: 0.0204 - accuracy: 0.9916 - val_loss: 2.5134 - val_accuracy: 0.7790\n"
     ]
    }
   ],
   "source": [
    "import numpy as np\n",
    "\n",
    "import json\n",
    "import tensorflow as tf\n",
    "\n",
    "from tensorflow.keras.preprocessing.text import Tokenizer\n",
    "from tensorflow.keras.preprocessing.sequence import pad_sequences\n",
    "\n",
    "# !wget --no-check-certificate \\\n",
    "#     https://storage.googleapis.com/laurencemoroney-blog.appspot.com/sarcasm.json \\\n",
    "#     -O /tmp/sarcasm.json\n",
    "\n",
    "vocab_size = 1000\n",
    "embedding_dim = 16\n",
    "max_length = 120\n",
    "trunc_type='post'\n",
    "padding_type='post'\n",
    "oov_tok = \"<OOV>\"\n",
    "training_size = 20000\n",
    "\n",
    "\n",
    "with open(\"./sarcasm.json\", 'r') as f:\n",
    "    datastore = json.load(f)\n",
    "\n",
    "\n",
    "sentences = []\n",
    "labels = []\n",
    "urls = []\n",
    "for item in datastore:\n",
    "    sentences.append(item['headline'])\n",
    "    labels.append(item['is_sarcastic'])\n",
    "\n",
    "training_sentences = sentences[0:training_size]\n",
    "testing_sentences = sentences[training_size:]\n",
    "training_labels = labels[0:training_size]\n",
    "testing_labels = labels[training_size:]\n",
    "\n",
    "tokenizer = Tokenizer(num_words=vocab_size, oov_token=oov_tok)\n",
    "tokenizer.fit_on_texts(training_sentences)\n",
    "\n",
    "word_index = tokenizer.word_index\n",
    "\n",
    "training_sequences = tokenizer.texts_to_sequences(training_sentences)\n",
    "training_padded = pad_sequences(training_sequences, maxlen=max_length, padding=padding_type, truncating=trunc_type)\n",
    "\n",
    "testing_sequences = tokenizer.texts_to_sequences(testing_sentences)\n",
    "testing_padded = pad_sequences(testing_sequences, maxlen=max_length, padding=padding_type, truncating=trunc_type)\n",
    "\n",
    "model = tf.keras.Sequential([\n",
    "    tf.keras.layers.Embedding(vocab_size, embedding_dim, input_length=max_length),\n",
    "    tf.keras.layers.Conv1D(128, 5, activation='relu'),\n",
    "    tf.keras.layers.GlobalMaxPooling1D(),\n",
    "    tf.keras.layers.Dense(24, activation='relu'),\n",
    "    tf.keras.layers.Dense(1, activation='sigmoid')\n",
    "])\n",
    "model.compile(loss='binary_crossentropy',optimizer='adam',metrics=['accuracy'])\n",
    "model.summary()\n",
    "\n",
    "num_epochs = 50\n",
    "\n",
    "training_padded = np.array(training_padded)\n",
    "training_labels = np.array(training_labels)\n",
    "testing_padded = np.array(testing_padded)\n",
    "testing_labels = np.array(testing_labels)\n",
    "\n",
    "history = model.fit(training_padded, training_labels, epochs=num_epochs, validation_data=(testing_padded, testing_labels), verbose=1)\n"
   ]
  },
  {
   "cell_type": "code",
   "execution_count": 2,
   "metadata": {
    "id": "g9DC6dmLF8DC"
   },
   "outputs": [
    {
     "data": {
      "image/png": "[encoded data removed]",
      "text/plain": [
       "<Figure size 432x288 with 1 Axes>"
      ]
     },
     "metadata": {
      "needs_background": "light"
     },
     "output_type": "display_data"
    },
    {
     "data": {
      "image/png": "[encoded data removed]",
      "text/plain": [
       "<Figure size 432x288 with 1 Axes>"
      ]
     },
     "metadata": {
      "needs_background": "light"
     },
     "output_type": "display_data"
    }
   ],
   "source": [
    "import matplotlib.pyplot as plt\n",
    "\n",
    "\n",
    "def plot_graphs(history, string):\n",
    "    plt.plot(history.history[string])\n",
    "    plt.plot(history.history['val_'+string])\n",
    "    plt.xlabel(\"Epochs\")\n",
    "    plt.ylabel(string)\n",
    "    plt.legend([string, 'val_'+string])\n",
    "    plt.title(string)\n",
    "    plt.show()\n",
    "\n",
    "plot_graphs(history, 'accuracy')\n",
    "plot_graphs(history, 'loss')"
   ]
  },
  {
   "cell_type": "code",
   "execution_count": 3,
   "metadata": {
    "id": "7ZEZIUppGhdi"
   },
   "outputs": [],
   "source": [
    "model.save(\"sarcasm_conv.h5\")"
   ]
  },
  {
   "cell_type": "code",
   "execution_count": null,
   "metadata": {},
   "outputs": [],
   "source": []
  }
 ],
 "metadata": {
  "accelerator": "GPU",
  "colab": {
   "collapsed_sections": [],
   "name": "Course 3 - Week 3 - Lesson 2c.ipynb",
   "provenance": []
  },
  "kernelspec": {
   "display_name": "Python 3",
   "language": "python",
   "name": "python3"
  },
  "language_info": {
   "codemirror_mode": {
    "name": "ipython",
    "version": 3
   },
   "file_extension": ".py",
   "mimetype": "text/x-python",
   "name": "python",
   "nbconvert_exporter": "python",
   "pygments_lexer": "ipython3",
   "version": "3.8.3"
  }
 },
 "nbformat": 4,
 "nbformat_minor": 1
}
