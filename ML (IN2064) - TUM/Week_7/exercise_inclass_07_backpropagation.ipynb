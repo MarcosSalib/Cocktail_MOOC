{
 "cells": [
  {
   "cell_type": "markdown",
   "metadata": {},
   "source": [
    "# In-class exercise 9: Deep Learning (Part 1B)\n",
    "In this notebook we will gain some hands-on experience with backpropagation"
   ]
  },
  {
   "cell_type": "code",
   "execution_count": 1,
   "metadata": {},
   "outputs": [],
   "source": [
    "import numpy as np\n",
    "import matplotlib.pyplot as plt\n",
    "import time\n",
    "\n",
    "%matplotlib inline\n",
    "\n",
    "from sklearn.datasets import load_digits\n",
    "from sklearn.metrics import accuracy_score\n",
    "from sklearn.model_selection import train_test_split\n",
    "from sklearn.preprocessing import label_binarize"
   ]
  },
  {
   "cell_type": "code",
   "execution_count": 2,
   "metadata": {},
   "outputs": [],
   "source": [
    "X, y = load_digits(return_X_y=True)\n",
    "# Convert labels into one-hot format\n",
    "Y = label_binarize(y, classes=np.unique(y))\n",
    "K = Y.shape[1]  # number of classes\n",
    "D = X.shape[1]  # number of features\n",
    "\n",
    "np.random.seed(123)\n",
    "X_train, X_test, Y_train, Y_test = train_test_split(X, Y, test_size=0.3)"
   ]
  },
  {
   "cell_type": "code",
   "execution_count": 3,
   "metadata": {},
   "outputs": [
    {
     "data": {
      "text/plain": [
       "((1797, 64), (1797, 10))"
      ]
     },
     "execution_count": 3,
     "metadata": {},
     "output_type": "execute_result"
    }
   ],
   "source": [
    "# Dataset consists of 1797 samples. Each sample is represented with a 64-dimensional vector and belongs to one of 10 classes\n",
    "X.shape, Y.shape"
   ]
  },
  {
   "cell_type": "markdown",
   "metadata": {},
   "source": [
    "# 1. Simple backpropagation example"
   ]
  },
  {
   "cell_type": "markdown",
   "metadata": {},
   "source": [
    "Addition of two vectors"
   ]
  },
  {
   "cell_type": "code",
   "execution_count": 4,
   "metadata": {},
   "outputs": [],
   "source": [
    "class Add:\n",
    "    def forward(self, x, y):\n",
    "        return x + y\n",
    "    \n",
    "    def backward(self, d_out):\n",
    "        d_x = d_out\n",
    "        d_y = d_out\n",
    "        return d_x, d_y"
   ]
  },
  {
   "cell_type": "markdown",
   "metadata": {},
   "source": [
    "Elementwise multiplication of two vectors"
   ]
  },
  {
   "cell_type": "code",
   "execution_count": 5,
   "metadata": {},
   "outputs": [],
   "source": [
    "class Multiply:\n",
    "    def forward(self, x, y):\n",
    "        self.cache = (x, y)\n",
    "        return x * y\n",
    "    \n",
    "    def backward(self, d_out):\n",
    "        x, y = self.cache\n",
    "        d_x = d_out * y\n",
    "        d_y = d_out * x\n",
    "        return d_x, d_y"
   ]
  },
  {
   "cell_type": "markdown",
   "metadata": {},
   "source": [
    "Sum of a vector"
   ]
  },
  {
   "cell_type": "code",
   "execution_count": 6,
   "metadata": {},
   "outputs": [],
   "source": [
    "class Sum:\n",
    "    def forward(self, x):\n",
    "        self.cache = x\n",
    "        return np.sum(x)\n",
    "    \n",
    "    def backward(self, d_out):\n",
    "        x = self.cache\n",
    "        d_x = d_out * np.ones_like(x)\n",
    "        return d_x"
   ]
  },
  {
   "cell_type": "markdown",
   "metadata": {},
   "source": [
    "### Dot product of two vectors as composition of multiplication and summation"
   ]
  },
  {
   "cell_type": "code",
   "execution_count": 7,
   "metadata": {},
   "outputs": [],
   "source": [
    "x = np.arange(1, 5, dtype=np.float32)\n",
    "y = np.arange(-1, 3, dtype=np.float32)"
   ]
  },
  {
   "cell_type": "code",
   "execution_count": 8,
   "metadata": {},
   "outputs": [],
   "source": [
    "mult = Multiply()\n",
    "vec_sum = Sum()\n",
    "\n",
    "w = mult.forward(x, y)\n",
    "z = vec_sum.forward(w)\n",
    "\n",
    "d_w = vec_sum.backward(1.0)\n",
    "d_x, d_y = mult.backward(d_w)"
   ]
  },
  {
   "cell_type": "code",
   "execution_count": 9,
   "metadata": {
    "scrolled": false
   },
   "outputs": [
    {
     "data": {
      "text/plain": [
       "(10.0,\n",
       " array([-1.,  0.,  1.,  2.], dtype=float32),\n",
       " array([1., 2., 3., 4.], dtype=float32))"
      ]
     },
     "execution_count": 9,
     "metadata": {},
     "output_type": "execute_result"
    }
   ],
   "source": [
    "z, d_x, d_y"
   ]
  },
  {
   "cell_type": "markdown",
   "metadata": {},
   "source": [
    "### Dot product of two vectors as one operation"
   ]
  },
  {
   "cell_type": "markdown",
   "metadata": {},
   "source": [
    "Dot product of two vectors"
   ]
  },
  {
   "cell_type": "code",
   "execution_count": 10,
   "metadata": {},
   "outputs": [],
   "source": [
    "class DotProduct:\n",
    "    def forward(self, x, y):\n",
    "        self.cache = x, y\n",
    "        return np.dot(x, y)\n",
    "    \n",
    "    def backward(self, d_out):\n",
    "        x, y = self.cache\n",
    "        d_x = d_out * y\n",
    "        d_y = d_out * x\n",
    "        return d_x, d_y"
   ]
  },
  {
   "cell_type": "code",
   "execution_count": 11,
   "metadata": {},
   "outputs": [],
   "source": [
    "x = np.arange(1, 5, dtype=np.float32)\n",
    "y = np.arange(-1, 3, dtype=np.float32)"
   ]
  },
  {
   "cell_type": "code",
   "execution_count": 12,
   "metadata": {},
   "outputs": [],
   "source": [
    "dp = DotProduct()\n",
    "z = dp.forward(x, y)\n",
    "d_x, d_y = dp.backward(1.0)"
   ]
  },
  {
   "cell_type": "code",
   "execution_count": 13,
   "metadata": {},
   "outputs": [
    {
     "data": {
      "text/plain": [
       "(10.0,\n",
       " array([-1.,  0.,  1.,  2.], dtype=float32),\n",
       " array([1., 2., 3., 4.], dtype=float32))"
      ]
     },
     "execution_count": 13,
     "metadata": {},
     "output_type": "execute_result"
    }
   ],
   "source": [
    "z, d_x, d_y"
   ]
  },
  {
   "cell_type": "markdown",
   "metadata": {},
   "source": [
    "**Lessons:**\n",
    "1. By implementing `forward` and `backward` method we can compute gradients of an arbitrary composition of functions\n",
    "2. Use `cache` to store values that will be needed in the backward pass\n",
    "3. Multiple operations can be combined into a single module (i.e. function)\n",
    "4. Pass `1.0` as `d_out` for the terminal node in our computational graph"
   ]
  },
  {
   "cell_type": "markdown",
   "metadata": {},
   "source": [
    "# 2. Multi-class logistic regression (without backprop)"
   ]
  },
  {
   "cell_type": "markdown",
   "metadata": {},
   "source": [
    "Multi-class logistic regression model\n",
    "\n",
    "Data:\n",
    "* Data matrix $\\mathbf{X} \\in \\mathbb{R}^{N \\times D}$.\n",
    "* Target labels in one-hot format $\\mathbf{Y} \\in \\mathbb{R}^{N \\times K}$.\n",
    "$Y_{nk} = 1$ if sample $n$ belongs to class $k$, $Y_{nk} = 0$ otherwise.\n",
    "\n",
    "Model parameters:\n",
    "* Weight matrix $\\mathbf{W} \\in \\mathbb{R}^{D \\times K}$.\n",
    "* Bias vector $\\mathbf{b} \\in \\mathbb{R}^{K}$.\n",
    "\n",
    "Making predictions with the model:\n",
    "* Logits \n",
    "$$\\mathbf{a}_n = \\mathbf{W x}_n + \\mathbf{b}$$\n",
    "* Denote the matrix of logits as \n",
    "$$\\mathbf{A} = \\mathbf{XW} +  \\mathbf{1}_N \\mathbf{b}^T \\in \\mathbb{R}^{N \\times K}$$\n",
    "* Convert logits to probabilities using softmax function\n",
    "$$p(Y_{nk} = 1 \\mid \\mathbf{x}_n, \\mathbf{W}, \\mathbf{b}) = \\frac{\\exp(A_{nk})}{\\sum_{c = 1}^{K} \\exp(A_{nc})}$$\n",
    "\n",
    "Negative log-likelihood\n",
    "\n",
    "\n",
    "\\begin{align}\n",
    "-\\log p(\\mathbf{Y} \\mid \\mathbf{X}, \\mathbf{W}, \\mathbf{b}) &= - \\frac{1}{N}\\sum_{n=1}^{N} \\sum_{k=1}^{K} Y_{nk} \\log p(Y_{nk} = 1 \\mid \\mathbf{x}_n, \\mathbf{W}, \\mathbf{b})\\\\\n",
    "&= \\frac{1}{N} \\sum_{n=1}^{N} \\sum_{k=1}^{K} Y_{nk} \\left(-A_{nk} + \\log \\left( \\sum_{c=1}^{C} \\exp(A_{nc}) \\right) \\right)\\\\\n",
    "%&= \\frac{1}{N} \\sum_{n=1}^{N} \\left(\\sum_{k=1}^{K} -Y_{nk} A_{nk} \\right) + \\log \\left( \\sum_{c=1}^{C} \\exp(A_{nc}) \\right)\n",
    "\\end{align}\n"
   ]
  },
  {
   "cell_type": "code",
   "execution_count": 14,
   "metadata": {},
   "outputs": [],
   "source": [
    "from scipy.special import softmax"
   ]
  },
  {
   "cell_type": "code",
   "execution_count": 15,
   "metadata": {},
   "outputs": [],
   "source": [
    "def predict(X, W, b):\n",
    "    \"\"\"Generate predictions for a multi-class logistic regression model.\n",
    "    \n",
    "    Args:\n",
    "        X: data matrix, shape (N, D)\n",
    "        W: weight matrix, shape (D, K)\n",
    "        b: bias vector, shape (K)\n",
    "        \n",
    "    Returns:\n",
    "        Y_pred: Predicted class probabilities, shape (N, K).\n",
    "            Y_pred[n, k] = probability that sample n belongs to class k.\n",
    "    \"\"\"\n",
    "    return softmax(X @ W + b, axis=1)"
   ]
  },
  {
   "cell_type": "markdown",
   "metadata": {},
   "source": [
    "Negative log-likelihood of multiclass logistic regression "
   ]
  },
  {
   "cell_type": "code",
   "execution_count": 16,
   "metadata": {},
   "outputs": [],
   "source": [
    "def nll_loss(X, W, b, Y):\n",
    "    \"\"\"Compute negative log-likelihood of a logistic regression model.\n",
    "    \n",
    "    Also known as categorical cross entropy loss.\n",
    "    \n",
    "    Args:\n",
    "        X: data matrix, shape (N, D)\n",
    "        W: weight matrix, shape (D, K)\n",
    "        b: bias vector, shape (K)\n",
    "        Y: true labels in one-hot format, shape (N, K)\n",
    "    \n",
    "    Returns:\n",
    "        loss: loss of the logistic regression model, shape ()\n",
    "    \"\"\"\n",
    "    N = X.shape[0]\n",
    "    logits = X @ W + b\n",
    "    \n",
    "    logits_shifted = logits - logits.max(axis=1, keepdims=True)\n",
    "    log_sum_exp = np.log(np.sum(np.exp(logits_shifted), axis=1, keepdims=True))\n",
    "    log_probs = logits_shifted - log_sum_exp\n",
    "    loss = -np.sum(Y * log_probs) / N\n",
    "    return loss"
   ]
  },
  {
   "cell_type": "code",
   "execution_count": 17,
   "metadata": {},
   "outputs": [],
   "source": [
    "def nll_grad(X, W, b, Y):\n",
    "    \"\"\"Compute gradient of the NLL loss w.r.t. W and b.\n",
    "    \n",
    "    Args:\n",
    "        X: data matrix, shape (N, D)\n",
    "        W: weight matrix, shape (D, K)\n",
    "        b: bias vector, shape (K)\n",
    "        Y: true labels in one-hot format, shape (N, K)\n",
    "    \n",
    "    Returns:\n",
    "        d_W: gradient of the los w.r.t. W, shape (D, K)\n",
    "        d_b: gradient of the los w.r.t. b, shape (K)\n",
    "    \"\"\"\n",
    "    N = X.shape[0]\n",
    "    probas = softmax(X @ W + b, axis=1) - Y\n",
    "    d_W = X.T @ probas / N\n",
    "    d_b = probas.sum(axis=0) / N\n",
    "    return d_W, d_b"
   ]
  },
  {
   "cell_type": "code",
   "execution_count": 18,
   "metadata": {},
   "outputs": [],
   "source": [
    "# Initialize learnable model parameters\n",
    "W = np.zeros([D, K])\n",
    "b = np.zeros([K])"
   ]
  },
  {
   "cell_type": "code",
   "execution_count": 19,
   "metadata": {},
   "outputs": [],
   "source": [
    "# Specify optimization parameters\n",
    "learning_rate = 1e-2\n",
    "max_epochs = 301\n",
    "report_frequency = 25"
   ]
  },
  {
   "cell_type": "code",
   "execution_count": 20,
   "metadata": {
    "scrolled": true
   },
   "outputs": [
    {
     "name": "stdout",
     "output_type": "stream",
     "text": [
      "Epoch    0, loss = 2.3026\n",
      "Epoch   25, loss = 0.3411\n",
      "Epoch   50, loss = 0.2293\n",
      "Epoch   75, loss = 0.1862\n",
      "Epoch  100, loss = 0.1610\n",
      "Epoch  125, loss = 0.1440\n",
      "Epoch  150, loss = 0.1314\n",
      "Epoch  175, loss = 0.1215\n",
      "Epoch  200, loss = 0.1136\n",
      "Epoch  225, loss = 0.1069\n",
      "Epoch  250, loss = 0.1013\n",
      "Epoch  275, loss = 0.0964\n",
      "Epoch  300, loss = 0.0921\n"
     ]
    }
   ],
   "source": [
    "for epoch in range(max_epochs):\n",
    "    # Compute train loss\n",
    "    loss = nll_loss(X_train, W, b, Y_train)\n",
    "    \n",
    "    if epoch % report_frequency == 0:\n",
    "        print(f'Epoch {epoch:4d}, loss = {loss:.4f}')\n",
    "        \n",
    "    # Perform the update\n",
    "    d_W, d_b = nll_grad(X_train, W, b, Y_train)\n",
    "    \n",
    "    W = W - learning_rate * d_W\n",
    "    b = b - learning_rate * d_b"
   ]
  },
  {
   "cell_type": "code",
   "execution_count": 21,
   "metadata": {
    "scrolled": true
   },
   "outputs": [
    {
     "name": "stdout",
     "output_type": "stream",
     "text": [
      "loss_test = 0.1511, accuracy_test = 0.956\n"
     ]
    }
   ],
   "source": [
    "loss_test = nll_loss(X_test, W, b, Y_test)\n",
    "y_pred_test = predict(X_test, W, b).argmax(axis=1)\n",
    "y_test = Y_test.argmax(axis=1)\n",
    "acc_test = accuracy_score(y_test, y_pred_test)\n",
    "print(f'loss_test = {loss_test:.4f}, accuracy_test = {acc_test:.3f}')"
   ]
  },
  {
   "cell_type": "markdown",
   "metadata": {},
   "source": [
    "# 3. Multi-class logistic regression (with backprop)"
   ]
  },
  {
   "cell_type": "code",
   "execution_count": 22,
   "metadata": {},
   "outputs": [],
   "source": [
    "import nn"
   ]
  },
  {
   "cell_type": "code",
   "execution_count": 23,
   "metadata": {},
   "outputs": [],
   "source": [
    "class LogisticRegression:\n",
    "    \"\"\"Logistic regression model.\n",
    "    \n",
    "    Gradients are computed with backpropagation.\n",
    "    \"\"\"\n",
    "    def __init__(self, num_features, num_classes, learning_rate=1e-2):\n",
    "        self.learning_rate = learning_rate\n",
    "        \n",
    "        # Initialize the model parameters\n",
    "        self.params = {\n",
    "            'W': np.zeros([num_features, num_classes]),\n",
    "            'b': np.zeros([num_classes])\n",
    "        }\n",
    "        \n",
    "        # Define layers\n",
    "        self.affine = nn.Affine()\n",
    "        self.cross_entropy = nn.CategoricalCrossEntropy()\n",
    "    \n",
    "    def predict(self, X):\n",
    "        \"\"\"Generate predictions for one minibatch.\n",
    "        \n",
    "        Args:\n",
    "            X: data matrix, shape (N, D)\n",
    "            \n",
    "        Returns:\n",
    "            Y_pred: predicted class probabilities, shape (N, D)\n",
    "            Y_pred[n, k] = probability that sample n belongs to class k\n",
    "        \"\"\"\n",
    "        logits = self.affine.forward(X, \n",
    "                                     self.params['W'], \n",
    "                                     self.params['b'])\n",
    "        return softmax(logits, axis=1)\n",
    "    \n",
    "    def step(self, X, Y):\n",
    "        \"\"\"Perform one step of gradient descent on the minibatch of data.\"\"\"\n",
    "        # Forward pass - compute the loss on training data\n",
    "        logits = self.affine.forward(X, \n",
    "                                     self.params['W'], \n",
    "                                     self.params['b'])\n",
    "        loss = self.cross_entropy.forward(logits, Y)\n",
    "        \n",
    "        # Backward pass - compute the gradients of loss w.r.t. all the model parameters\n",
    "        grads = {}\n",
    "        d_logits, _ = self.cross_entropy.backward()\n",
    "        _, grads['W'], grads['b'] = self.affine.backward(d_logits)\n",
    "        \n",
    "        # Apply the gradients\n",
    "        for p in self.params:\n",
    "            self.params[p] = self.params[p] - self.learning_rate * grads[p]\n",
    "        return loss"
   ]
  },
  {
   "cell_type": "code",
   "execution_count": 24,
   "metadata": {},
   "outputs": [],
   "source": [
    "# Specify optimization parameters\n",
    "learning_rate = 1e-2\n",
    "max_epochs = 301\n",
    "report_frequency = 25"
   ]
  },
  {
   "cell_type": "code",
   "execution_count": 25,
   "metadata": {},
   "outputs": [],
   "source": [
    "log_reg = LogisticRegression(num_features=D, num_classes=K, learning_rate=learning_rate)"
   ]
  },
  {
   "cell_type": "code",
   "execution_count": 26,
   "metadata": {},
   "outputs": [
    {
     "name": "stdout",
     "output_type": "stream",
     "text": [
      "Epoch    0, loss = 2.3026\n",
      "Epoch   25, loss = 0.3411\n",
      "Epoch   50, loss = 0.2293\n",
      "Epoch   75, loss = 0.1862\n",
      "Epoch  100, loss = 0.1610\n",
      "Epoch  125, loss = 0.1440\n",
      "Epoch  150, loss = 0.1314\n",
      "Epoch  175, loss = 0.1215\n",
      "Epoch  200, loss = 0.1136\n",
      "Epoch  225, loss = 0.1069\n",
      "Epoch  250, loss = 0.1013\n",
      "Epoch  275, loss = 0.0964\n",
      "Epoch  300, loss = 0.0921\n"
     ]
    }
   ],
   "source": [
    "for epoch in range(max_epochs):\n",
    "    loss = log_reg.step(X_train, Y_train)\n",
    "    \n",
    "    if epoch % report_frequency == 0:\n",
    "        print(f'Epoch {epoch:4d}, loss = {loss:.4f}')"
   ]
  },
  {
   "cell_type": "code",
   "execution_count": 27,
   "metadata": {
    "scrolled": true
   },
   "outputs": [
    {
     "name": "stdout",
     "output_type": "stream",
     "text": [
      "loss_test = 0.1511, accuracy_test = 0.956\n"
     ]
    }
   ],
   "source": [
    "y_pred_test = log_reg.predict(X_test).argmax(axis=1)\n",
    "loss_test = log_reg.step(X_test, Y_test)\n",
    "y_test = Y_test.argmax(axis=1)\n",
    "acc_test = accuracy_score(y_test, y_pred_test)\n",
    "print(f'loss_test = {loss_test:.4f}, accuracy_test = {acc_test:.3f}')"
   ]
  }
 ],
 "metadata": {
  "kernelspec": {
   "display_name": "Python 3",
   "language": "python",
   "name": "python3"
  },
  "language_info": {
   "codemirror_mode": {
    "name": "ipython",
    "version": 3
   },
   "file_extension": ".py",
   "mimetype": "text/x-python",
   "name": "python",
   "nbconvert_exporter": "python",
   "pygments_lexer": "ipython3",
   "version": "3.7.0"
  }
 },
 "nbformat": 4,
 "nbformat_minor": 2
}
